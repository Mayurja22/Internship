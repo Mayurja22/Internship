{
 "cells": [
  {
   "cell_type": "markdown",
   "id": "72f2c318",
   "metadata": {},
   "source": [
    "# So in this notebook we will scrape data from https://www.naukri.com/ website for Data Analyst job role in Banglore location. We will scrape 4 fields for each job as mentioned below:"
   ]
  },
  {
   "cell_type": "markdown",
   "id": "cc4bba98",
   "metadata": {},
   "source": [
    "#### -job title  - company name - Location of job - Experience Required"
   ]
  },
  {
   "cell_type": "code",
   "execution_count": 8,
   "id": "943ffcdd",
   "metadata": {},
   "outputs": [
    {
     "name": "stdout",
     "output_type": "stream",
     "text": [
      "Requirement already satisfied: selenium in c:\\users\\mayur\\anaconda3\\lib\\site-packages (4.23.1)\n",
      "Requirement already satisfied: urllib3[socks]<3,>=1.26 in c:\\users\\mayur\\anaconda3\\lib\\site-packages (from selenium) (1.26.16)\n",
      "Requirement already satisfied: trio~=0.17 in c:\\users\\mayur\\anaconda3\\lib\\site-packages (from selenium) (0.26.2)\n",
      "Requirement already satisfied: trio-websocket~=0.9 in c:\\users\\mayur\\anaconda3\\lib\\site-packages (from selenium) (0.11.1)\n",
      "Requirement already satisfied: certifi>=2021.10.8 in c:\\users\\mayur\\anaconda3\\lib\\site-packages (from selenium) (2024.7.4)\n",
      "Requirement already satisfied: typing_extensions~=4.9 in c:\\users\\mayur\\anaconda3\\lib\\site-packages (from selenium) (4.12.2)\n",
      "Requirement already satisfied: websocket-client~=1.8 in c:\\users\\mayur\\anaconda3\\lib\\site-packages (from selenium) (1.8.0)\n",
      "Requirement already satisfied: attrs>=23.2.0 in c:\\users\\mayur\\anaconda3\\lib\\site-packages (from trio~=0.17->selenium) (24.2.0)\n",
      "Requirement already satisfied: sortedcontainers in c:\\users\\mayur\\anaconda3\\lib\\site-packages (from trio~=0.17->selenium) (2.4.0)\n",
      "Requirement already satisfied: idna in c:\\users\\mayur\\anaconda3\\lib\\site-packages (from trio~=0.17->selenium) (3.4)\n",
      "Requirement already satisfied: outcome in c:\\users\\mayur\\anaconda3\\lib\\site-packages (from trio~=0.17->selenium) (1.3.0.post0)\n",
      "Requirement already satisfied: sniffio>=1.3.0 in c:\\users\\mayur\\anaconda3\\lib\\site-packages (from trio~=0.17->selenium) (1.3.1)\n",
      "Requirement already satisfied: cffi>=1.14 in c:\\users\\mayur\\anaconda3\\lib\\site-packages (from trio~=0.17->selenium) (1.15.1)\n",
      "Requirement already satisfied: wsproto>=0.14 in c:\\users\\mayur\\anaconda3\\lib\\site-packages (from trio-websocket~=0.9->selenium) (1.2.0)\n",
      "Requirement already satisfied: PySocks!=1.5.7,<2.0,>=1.5.6 in c:\\users\\mayur\\anaconda3\\lib\\site-packages (from urllib3[socks]<3,>=1.26->selenium) (1.7.1)\n",
      "Requirement already satisfied: pycparser in c:\\users\\mayur\\anaconda3\\lib\\site-packages (from cffi>=1.14->trio~=0.17->selenium) (2.21)\n",
      "Requirement already satisfied: h11<1,>=0.9.0 in c:\\users\\mayur\\anaconda3\\lib\\site-packages (from wsproto>=0.14->trio-websocket~=0.9->selenium) (0.14.0)\n"
     ]
    }
   ],
   "source": [
    "!pip install selenium"
   ]
  },
  {
   "cell_type": "code",
   "execution_count": 9,
   "id": "fe4fb0a8",
   "metadata": {},
   "outputs": [],
   "source": [
    "import selenium \n",
    "import pandas as pd\n",
    "from selenium import webdriver \n",
    "import warnings \n",
    "warnings.filterwarnings('ignore')\n",
    "from selenium.webdriver.common.by import By \n",
    "import time "
   ]
  },
  {
   "cell_type": "markdown",
   "id": "3edf1b01",
   "metadata": {},
   "source": [
    "#### Now we will download the webdriver for the web browser. Steps for download are \n",
    "    1. click the version of your browser \n",
    "    2. go to the link (https://chromedriver.chromium.org/downloads)\n",
    "    3. Download the webdriver for your version of your browser."
   ]
  },
  {
   "cell_type": "markdown",
   "id": "a9990dfd",
   "metadata": {},
   "source": [
    "#### But now no need to download driver only remember one syntax"
   ]
  },
  {
   "cell_type": "code",
   "execution_count": 10,
   "id": "b5291706",
   "metadata": {},
   "outputs": [],
   "source": [
    "driver = webdriver.Chrome()"
   ]
  },
  {
   "cell_type": "code",
   "execution_count": 11,
   "id": "a63d18ab",
   "metadata": {},
   "outputs": [],
   "source": [
    "#Open the naukri Page on automated Chrome Browser \n",
    "driver.get(\"https://www.naukri.com/\")"
   ]
  },
  {
   "cell_type": "code",
   "execution_count": 12,
   "id": "7c1b6146",
   "metadata": {},
   "outputs": [],
   "source": [
    "#entering designation and location as required in the question \n",
    "\n",
    "designation=driver.find_element(By.CLASS_NAME,\"suggestor-input \")\n",
    "designation.send_keys('Data Analyst')"
   ]
  },
  {
   "cell_type": "code",
   "execution_count": 16,
   "id": "f7faa92d",
   "metadata": {},
   "outputs": [],
   "source": [
    "location=driver.find_element(By.XPATH,\"/html/body/div[1]/div[7]/div/div/div[5]/div/div/div/div[1]/div/input\")\n",
    "location.send_keys('Mumbai')"
   ]
  },
  {
   "cell_type": "code",
   "execution_count": 17,
   "id": "255a51a0",
   "metadata": {},
   "outputs": [],
   "source": [
    "search=driver.find_element(By.CLASS_NAME,\"qsbSubmit\")\n",
    "search.click()"
   ]
  },
  {
   "cell_type": "code",
   "execution_count": 18,
   "id": "760c040d",
   "metadata": {},
   "outputs": [],
   "source": [
    "job_title=[]\n",
    "job_location=[]\n",
    "company_name=[]\n",
    "experience_required=[]"
   ]
  },
  {
   "cell_type": "code",
   "execution_count": 28,
   "id": "06e1cb4c",
   "metadata": {},
   "outputs": [
    {
     "ename": "InvalidSelectorException",
     "evalue": "Message: invalid selector\nfrom javascript error: {\"status\":32,\"value\":\"Unable to locate an element with the xpath expression //span[@class=expwdth\\\"] because of the following error:\\nSyntaxError: Failed to execute 'evaluate' on 'Document': The string '//span[@class=expwdth\\\"]' is not a valid XPath expression.\"}\n  (Session info: chrome=128.0.6613.85); For documentation on this error, please visit: https://www.selenium.dev/documentation/webdriver/troubleshooting/errors#invalid-selector-exception\nStacktrace:\n\tGetHandleVerifier [0x00007FF7B972B632+29090]\n\t(No symbol) [0x00007FF7B969E6E9]\n\t(No symbol) [0x00007FF7B955B1CA]\n\t(No symbol) [0x00007FF7B9561CD3]\n\t(No symbol) [0x00007FF7B9564071]\n\t(No symbol) [0x00007FF7B9564110]\n\t(No symbol) [0x00007FF7B95AEB4C]\n\t(No symbol) [0x00007FF7B95AF22C]\n\t(No symbol) [0x00007FF7B95F9827]\n\t(No symbol) [0x00007FF7B95D672F]\n\t(No symbol) [0x00007FF7B95F65D9]\n\t(No symbol) [0x00007FF7B95D6493]\n\t(No symbol) [0x00007FF7B95A09B1]\n\t(No symbol) [0x00007FF7B95A1B11]\n\tGetHandleVerifier [0x00007FF7B9A4881D+3294093]\n\tGetHandleVerifier [0x00007FF7B9A94403+3604339]\n\tGetHandleVerifier [0x00007FF7B9A8A2C7+3563063]\n\tGetHandleVerifier [0x00007FF7B97E6F16+797318]\n\t(No symbol) [0x00007FF7B96A986F]\n\t(No symbol) [0x00007FF7B96A5454]\n\t(No symbol) [0x00007FF7B96A55E0]\n\t(No symbol) [0x00007FF7B9694A7F]\n\tBaseThreadInitThunk [0x00007FFCC720257D+29]\n\tRtlUserThreadStart [0x00007FFCC7C2AF28+40]\n",
     "output_type": "error",
     "traceback": [
      "\u001b[1;31m---------------------------------------------------------------------------\u001b[0m",
      "\u001b[1;31mInvalidSelectorException\u001b[0m                  Traceback (most recent call last)",
      "Cell \u001b[1;32mIn[28], line 20\u001b[0m\n\u001b[0;32m     17\u001b[0m     company_name\u001b[38;5;241m.\u001b[39mappend(company)\n\u001b[0;32m     19\u001b[0m \u001b[38;5;66;03m#scrapping job experience from the given page\u001b[39;00m\n\u001b[1;32m---> 20\u001b[0m experience_tags\u001b[38;5;241m=\u001b[39mdriver\u001b[38;5;241m.\u001b[39mfind_elements(By\u001b[38;5;241m.\u001b[39mXPATH,\u001b[38;5;124m'\u001b[39m\u001b[38;5;124m//span[@class=expwdth\u001b[39m\u001b[38;5;124m\"\u001b[39m\u001b[38;5;124m]\u001b[39m\u001b[38;5;124m'\u001b[39m)\n\u001b[0;32m     21\u001b[0m \u001b[38;5;28;01mfor\u001b[39;00m i \u001b[38;5;129;01min\u001b[39;00m experience_tags:\n\u001b[0;32m     22\u001b[0m     exp\u001b[38;5;241m=\u001b[39mi\u001b[38;5;241m.\u001b[39mtext\n",
      "File \u001b[1;32m~\\anaconda3\\Lib\\site-packages\\selenium\\webdriver\\remote\\webdriver.py:778\u001b[0m, in \u001b[0;36mWebDriver.find_elements\u001b[1;34m(self, by, value)\u001b[0m\n\u001b[0;32m    774\u001b[0m     value \u001b[38;5;241m=\u001b[39m \u001b[38;5;124mf\u001b[39m\u001b[38;5;124m'\u001b[39m\u001b[38;5;124m[name=\u001b[39m\u001b[38;5;124m\"\u001b[39m\u001b[38;5;132;01m{\u001b[39;00mvalue\u001b[38;5;132;01m}\u001b[39;00m\u001b[38;5;124m\"\u001b[39m\u001b[38;5;124m]\u001b[39m\u001b[38;5;124m'\u001b[39m\n\u001b[0;32m    776\u001b[0m \u001b[38;5;66;03m# Return empty list if driver returns null\u001b[39;00m\n\u001b[0;32m    777\u001b[0m \u001b[38;5;66;03m# See https://github.com/SeleniumHQ/selenium/issues/4555\u001b[39;00m\n\u001b[1;32m--> 778\u001b[0m \u001b[38;5;28;01mreturn\u001b[39;00m \u001b[38;5;28mself\u001b[39m\u001b[38;5;241m.\u001b[39mexecute(Command\u001b[38;5;241m.\u001b[39mFIND_ELEMENTS, {\u001b[38;5;124m\"\u001b[39m\u001b[38;5;124musing\u001b[39m\u001b[38;5;124m\"\u001b[39m: by, \u001b[38;5;124m\"\u001b[39m\u001b[38;5;124mvalue\u001b[39m\u001b[38;5;124m\"\u001b[39m: value})[\u001b[38;5;124m\"\u001b[39m\u001b[38;5;124mvalue\u001b[39m\u001b[38;5;124m\"\u001b[39m] \u001b[38;5;129;01mor\u001b[39;00m []\n",
      "File \u001b[1;32m~\\anaconda3\\Lib\\site-packages\\selenium\\webdriver\\remote\\webdriver.py:354\u001b[0m, in \u001b[0;36mWebDriver.execute\u001b[1;34m(self, driver_command, params)\u001b[0m\n\u001b[0;32m    352\u001b[0m response \u001b[38;5;241m=\u001b[39m \u001b[38;5;28mself\u001b[39m\u001b[38;5;241m.\u001b[39mcommand_executor\u001b[38;5;241m.\u001b[39mexecute(driver_command, params)\n\u001b[0;32m    353\u001b[0m \u001b[38;5;28;01mif\u001b[39;00m response:\n\u001b[1;32m--> 354\u001b[0m     \u001b[38;5;28mself\u001b[39m\u001b[38;5;241m.\u001b[39merror_handler\u001b[38;5;241m.\u001b[39mcheck_response(response)\n\u001b[0;32m    355\u001b[0m     response[\u001b[38;5;124m\"\u001b[39m\u001b[38;5;124mvalue\u001b[39m\u001b[38;5;124m\"\u001b[39m] \u001b[38;5;241m=\u001b[39m \u001b[38;5;28mself\u001b[39m\u001b[38;5;241m.\u001b[39m_unwrap_value(response\u001b[38;5;241m.\u001b[39mget(\u001b[38;5;124m\"\u001b[39m\u001b[38;5;124mvalue\u001b[39m\u001b[38;5;124m\"\u001b[39m, \u001b[38;5;28;01mNone\u001b[39;00m))\n\u001b[0;32m    356\u001b[0m     \u001b[38;5;28;01mreturn\u001b[39;00m response\n",
      "File \u001b[1;32m~\\anaconda3\\Lib\\site-packages\\selenium\\webdriver\\remote\\errorhandler.py:229\u001b[0m, in \u001b[0;36mErrorHandler.check_response\u001b[1;34m(self, response)\u001b[0m\n\u001b[0;32m    227\u001b[0m         alert_text \u001b[38;5;241m=\u001b[39m value[\u001b[38;5;124m\"\u001b[39m\u001b[38;5;124malert\u001b[39m\u001b[38;5;124m\"\u001b[39m]\u001b[38;5;241m.\u001b[39mget(\u001b[38;5;124m\"\u001b[39m\u001b[38;5;124mtext\u001b[39m\u001b[38;5;124m\"\u001b[39m)\n\u001b[0;32m    228\u001b[0m     \u001b[38;5;28;01mraise\u001b[39;00m exception_class(message, screen, stacktrace, alert_text)  \u001b[38;5;66;03m# type: ignore[call-arg]  # mypy is not smart enough here\u001b[39;00m\n\u001b[1;32m--> 229\u001b[0m \u001b[38;5;28;01mraise\u001b[39;00m exception_class(message, screen, stacktrace)\n",
      "\u001b[1;31mInvalidSelectorException\u001b[0m: Message: invalid selector\nfrom javascript error: {\"status\":32,\"value\":\"Unable to locate an element with the xpath expression //span[@class=expwdth\\\"] because of the following error:\\nSyntaxError: Failed to execute 'evaluate' on 'Document': The string '//span[@class=expwdth\\\"]' is not a valid XPath expression.\"}\n  (Session info: chrome=128.0.6613.85); For documentation on this error, please visit: https://www.selenium.dev/documentation/webdriver/troubleshooting/errors#invalid-selector-exception\nStacktrace:\n\tGetHandleVerifier [0x00007FF7B972B632+29090]\n\t(No symbol) [0x00007FF7B969E6E9]\n\t(No symbol) [0x00007FF7B955B1CA]\n\t(No symbol) [0x00007FF7B9561CD3]\n\t(No symbol) [0x00007FF7B9564071]\n\t(No symbol) [0x00007FF7B9564110]\n\t(No symbol) [0x00007FF7B95AEB4C]\n\t(No symbol) [0x00007FF7B95AF22C]\n\t(No symbol) [0x00007FF7B95F9827]\n\t(No symbol) [0x00007FF7B95D672F]\n\t(No symbol) [0x00007FF7B95F65D9]\n\t(No symbol) [0x00007FF7B95D6493]\n\t(No symbol) [0x00007FF7B95A09B1]\n\t(No symbol) [0x00007FF7B95A1B11]\n\tGetHandleVerifier [0x00007FF7B9A4881D+3294093]\n\tGetHandleVerifier [0x00007FF7B9A94403+3604339]\n\tGetHandleVerifier [0x00007FF7B9A8A2C7+3563063]\n\tGetHandleVerifier [0x00007FF7B97E6F16+797318]\n\t(No symbol) [0x00007FF7B96A986F]\n\t(No symbol) [0x00007FF7B96A5454]\n\t(No symbol) [0x00007FF7B96A55E0]\n\t(No symbol) [0x00007FF7B9694A7F]\n\tBaseThreadInitThunk [0x00007FFCC720257D+29]\n\tRtlUserThreadStart [0x00007FFCC7C2AF28+40]\n"
     ]
    }
   ],
   "source": [
    "#scrapping Job title from the given page\n",
    "title_tags=driver.find_elements(By.XPATH,'//a[@class=\"title \"]')\n",
    "for i in title_tags:\n",
    "    title=i.text\n",
    "    job_title.append(title)\n",
    "    \n",
    "#scrapping Job location from the given page\n",
    "location_tags=driver.find_elements(By.XPATH,'//span[@class=\"locWdth\"]')\n",
    "for i in location_tags:\n",
    "    location=i.text\n",
    "    job_location.append(location)\n",
    "\n",
    "#scrapping company name from the given page\n",
    "company_tags=driver.find_elements(By.XPATH,'//a[@class=\" row2\"]/span/a[1]')\n",
    "for i in company_tags:\n",
    "    company=i.text\n",
    "    company_name.append(company)\n",
    "\n",
    "#scrapping job experience from the given page\n",
    "experience_tags=driver.find_elements(By.XPATH,'//span[@class=expwdth\"]')\n",
    "for i in experience_tags:\n",
    "    exp=i.text\n",
    "    experience_required.append(exp)"
   ]
  },
  {
   "cell_type": "code",
   "execution_count": 24,
   "id": "6a386252",
   "metadata": {},
   "outputs": [
    {
     "name": "stdout",
     "output_type": "stream",
     "text": [
      "60 60 0 21\n"
     ]
    }
   ],
   "source": [
    "print(len(job_title),len(job_location),len(company_name),len(experience_required))"
   ]
  },
  {
   "cell_type": "code",
   "execution_count": null,
   "id": "daa03c1a",
   "metadata": {},
   "outputs": [],
   "source": []
  }
 ],
 "metadata": {
  "kernelspec": {
   "display_name": "Python 3 (ipykernel)",
   "language": "python",
   "name": "python3"
  },
  "language_info": {
   "codemirror_mode": {
    "name": "ipython",
    "version": 3
   },
   "file_extension": ".py",
   "mimetype": "text/x-python",
   "name": "python",
   "nbconvert_exporter": "python",
   "pygments_lexer": "ipython3",
   "version": "3.11.5"
  }
 },
 "nbformat": 4,
 "nbformat_minor": 5
}
