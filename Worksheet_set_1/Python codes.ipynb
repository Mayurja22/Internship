{
 "cells": [
  {
   "cell_type": "markdown",
   "id": "2751ab37",
   "metadata": {},
   "source": [
    "11. Write a python program to find the factorial of a number"
   ]
  },
  {
   "cell_type": "code",
   "execution_count": 1,
   "id": "5776f62e",
   "metadata": {},
   "outputs": [
    {
     "name": "stdout",
     "output_type": "stream",
     "text": [
      "Enter a number:2\n",
      "Factorial: 2\n"
     ]
    }
   ],
   "source": [
    "i=int(input('Enter a number:'))\n",
    "fact=1\n",
    "while(i>0):\n",
    "    fact=fact*i\n",
    "    i=i-1\n",
    "print(\"Factorial:\",fact)"
   ]
  },
  {
   "cell_type": "markdown",
   "id": "89949e62",
   "metadata": {},
   "source": [
    "12. Write a python program to find whether a number is prime or composite"
   ]
  },
  {
   "cell_type": "code",
   "execution_count": 2,
   "id": "80da879b",
   "metadata": {},
   "outputs": [
    {
     "name": "stdout",
     "output_type": "stream",
     "text": [
      "Enter a number for checking the number is prime or composite2\n",
      "The number is Prime number: 2\n"
     ]
    }
   ],
   "source": [
    "num=int(input(\"Enter a number for checking the number is prime or composite\" ))\n",
    "count=0\n",
    "i=1\n",
    "while i<=num:\n",
    "    if num%i==0:\n",
    "        count=count+1\n",
    "    i=i+1\n",
    "    \n",
    "if count==2:\n",
    "    print(\"The number is Prime number:\",num)\n",
    "elif count>2:\n",
    "    print(\"The number is composite:\",num)\n",
    "else:\n",
    "    print(\"The number is neither Prime number nor composite:\",num)"
   ]
  },
  {
   "cell_type": "markdown",
   "id": "71483b87",
   "metadata": {},
   "source": [
    "13. Write a python program to check whether a given string is palindrome or not"
   ]
  },
  {
   "cell_type": "code",
   "execution_count": 3,
   "id": "401d142e",
   "metadata": {},
   "outputs": [
    {
     "name": "stdout",
     "output_type": "stream",
     "text": [
      "Enter a string: mayyam\n",
      "Yes the string is palindrome\n"
     ]
    }
   ],
   "source": [
    "def palindrome(s):\n",
    "    return s == s[::-1]\n",
    "\n",
    "s=input(\"Enter a string: \")\n",
    "\n",
    "ans=palindrome(s)\n",
    "\n",
    "if ans:\n",
    "    print(\"Yes the string is palindrome\")\n",
    "else:\n",
    "    print(\"NO the string is not palindrome\")"
   ]
  },
  {
   "cell_type": "code",
   "execution_count": 4,
   "id": "85ee67e3",
   "metadata": {},
   "outputs": [
    {
     "data": {
      "text/plain": [
       "'RUYAM'"
      ]
     },
     "execution_count": 4,
     "metadata": {},
     "output_type": "execute_result"
    }
   ],
   "source": [
    "s='MAYUR'\n",
    "s[::-1]"
   ]
  },
  {
   "cell_type": "markdown",
   "id": "e971dcb9",
   "metadata": {},
   "source": [
    "14.Write a Python program to get the third side of right-angled triangle from two given sides"
   ]
  },
  {
   "cell_type": "markdown",
   "id": "488371c6",
   "metadata": {},
   "source": [
    "H^2=A^2+B^2"
   ]
  },
  {
   "cell_type": "code",
   "execution_count": 5,
   "id": "6de29598",
   "metadata": {},
   "outputs": [],
   "source": [
    "from math import sqrt"
   ]
  },
  {
   "cell_type": "code",
   "execution_count": 6,
   "id": "486bb3a9",
   "metadata": {},
   "outputs": [
    {
     "name": "stdout",
     "output_type": "stream",
     "text": [
      "Enter one side of right angle triangle2\n",
      "Enter second side of right angle triangle3\n",
      "The third side of right angle triangle: 3.605551275463989\n"
     ]
    }
   ],
   "source": [
    "a=int(input(\"Enter one side of right angle triangle\"))\n",
    "b=int(input(\"Enter second side of right angle triangle\"))\n",
    "\n",
    "h=sqrt(a**2 + b**2)\n",
    "print(\"The third side of right angle triangle:\",h)"
   ]
  },
  {
   "cell_type": "code",
   "execution_count": 7,
   "id": "8967b6b4",
   "metadata": {},
   "outputs": [
    {
     "name": "stdout",
     "output_type": "stream",
     "text": [
      "Enter one side of right angle triangle2\n",
      "Enter second side of right angle triangle3\n",
      "3.605551275463989\n"
     ]
    }
   ],
   "source": [
    "def hypo(a, b):\n",
    "    h = sqrt(a**2 + b**2)\n",
    "    return h\n",
    "\n",
    "if __name__== '__main__':\n",
    "    a=int(input(\"Enter one side of right angle triangle\"))\n",
    "    b=int(input(\"Enter second side of right angle triangle\"))\n",
    "    print(hypo(a,b))"
   ]
  },
  {
   "cell_type": "markdown",
   "id": "f644227d",
   "metadata": {},
   "source": [
    "15. Write a python program to print the frequency of each of the characters present in a given string."
   ]
  },
  {
   "cell_type": "code",
   "execution_count": 19,
   "id": "1fbd4f81",
   "metadata": {},
   "outputs": [
    {
     "name": "stdout",
     "output_type": "stream",
     "text": [
      "Enter Stringsasssss\n"
     ]
    },
    {
     "ename": "TypeError",
     "evalue": "'str' object is not callable",
     "output_type": "error",
     "traceback": [
      "\u001b[1;31m---------------------------------------------------------------------------\u001b[0m",
      "\u001b[1;31mTypeError\u001b[0m                                 Traceback (most recent call last)",
      "Cell \u001b[1;32mIn[19], line 11\u001b[0m\n\u001b[0;32m      8\u001b[0m     \u001b[38;5;28;01melse\u001b[39;00m:\n\u001b[0;32m      9\u001b[0m         freq[i] \u001b[38;5;241m=\u001b[39m \u001b[38;5;241m1\u001b[39m\n\u001b[1;32m---> 11\u001b[0m \u001b[38;5;28mprint\u001b[39m(\u001b[38;5;124m\"\u001b[39m\u001b[38;5;124mcount of all characters is \u001b[39m\u001b[38;5;130;01m\\n\u001b[39;00m\u001b[38;5;124m\"\u001b[39m, \u001b[38;5;241m+\u001b[39m \u001b[38;5;28mstr\u001b[39m(freq))\n",
      "\u001b[1;31mTypeError\u001b[0m: 'str' object is not callable"
     ]
    }
   ],
   "source": [
    "str=input(\"Enter String\")\n",
    "\n",
    "freq = {}\n",
    "\n",
    "for i in str:\n",
    "    if i in freq:\n",
    "        freq[i] += 1\n",
    "    else:\n",
    "        freq[i] = 1\n",
    "        \n",
    "print(\"count of all characters is \\n\", + str(freq))"
   ]
  },
  {
   "cell_type": "code",
   "execution_count": 22,
   "id": "281c80ff",
   "metadata": {},
   "outputs": [
    {
     "name": "stdout",
     "output_type": "stream",
     "text": [
      "Enter Stringas\n"
     ]
    },
    {
     "data": {
      "text/plain": [
       "['a', 's']"
      ]
     },
     "execution_count": 22,
     "metadata": {},
     "output_type": "execute_result"
    }
   ],
   "source": [
    "str=input(\"Enter String\")\n",
    "l=list(str)\n",
    "l"
   ]
  },
  {
   "cell_type": "code",
   "execution_count": 24,
   "id": "a5dd0d33",
   "metadata": {},
   "outputs": [
    {
     "name": "stdout",
     "output_type": "stream",
     "text": [
      "Enter Stringmmmm\n",
      "{'m': 4}\n"
     ]
    }
   ],
   "source": [
    "str=input(\"Enter String\")\n",
    "d1= dict()\n",
    "for i in str:\n",
    "    if i in d1:\n",
    "        d1[i] = d1[i] + 1\n",
    "    else:\n",
    "        d1[i] = 1\n",
    "print(d1)"
   ]
  },
  {
   "cell_type": "code",
   "execution_count": null,
   "id": "1514611b",
   "metadata": {},
   "outputs": [],
   "source": []
  }
 ],
 "metadata": {
  "kernelspec": {
   "display_name": "Python 3 (ipykernel)",
   "language": "python",
   "name": "python3"
  },
  "language_info": {
   "codemirror_mode": {
    "name": "ipython",
    "version": 3
   },
   "file_extension": ".py",
   "mimetype": "text/x-python",
   "name": "python",
   "nbconvert_exporter": "python",
   "pygments_lexer": "ipython3",
   "version": "3.11.5"
  }
 },
 "nbformat": 4,
 "nbformat_minor": 5
}
