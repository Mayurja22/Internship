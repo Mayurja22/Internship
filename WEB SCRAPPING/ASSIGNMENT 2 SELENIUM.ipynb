{
 "cells": [
  {
   "cell_type": "code",
   "execution_count": 4,
   "id": "40ccd568",
   "metadata": {},
   "outputs": [],
   "source": [
    "import selenium \n",
    "import pandas as pd\n",
    "from selenium import webdriver \n",
    "import warnings \n",
    "warnings.filterwarnings('ignore')\n",
    "from selenium.webdriver.common.by import By \n",
    "import time "
   ]
  },
  {
   "cell_type": "code",
   "execution_count": 173,
   "id": "161f4821",
   "metadata": {},
   "outputs": [],
   "source": [
    "driver = webdriver.Chrome()"
   ]
  },
  {
   "cell_type": "code",
   "execution_count": 5,
   "id": "53ce260a",
   "metadata": {},
   "outputs": [],
   "source": [
    "driver.get(\"https://www.naukri.com/\")"
   ]
  },
  {
   "cell_type": "code",
   "execution_count": 6,
   "id": "741d9285",
   "metadata": {},
   "outputs": [],
   "source": [
    "#maximize window \n",
    "driver.maximize_window()"
   ]
  },
  {
   "cell_type": "code",
   "execution_count": 7,
   "id": "0a629a0b",
   "metadata": {},
   "outputs": [],
   "source": [
    "designation=driver.find_element(By.CLASS_NAME,\"suggestor-input \")\n",
    "designation.send_keys('Data Scientist')"
   ]
  },
  {
   "cell_type": "code",
   "execution_count": 8,
   "id": "01bb8b5c",
   "metadata": {},
   "outputs": [],
   "source": [
    "location=driver.find_element(By.XPATH,\"/html/body/div[1]/div[7]/div/div/div[5]/div/div/div/div[1]/div/input\")\n",
    "location.send_keys('Delhi/NCR')"
   ]
  },
  {
   "cell_type": "code",
   "execution_count": 9,
   "id": "95158581",
   "metadata": {},
   "outputs": [],
   "source": [
    "driver.maximize_window()"
   ]
  },
  {
   "cell_type": "code",
   "execution_count": 10,
   "id": "48b71a08",
   "metadata": {},
   "outputs": [],
   "source": [
    "search=driver.find_element(By.CLASS_NAME,\"qsbSubmit\")\n",
    "search.click()"
   ]
  },
  {
   "cell_type": "code",
   "execution_count": 17,
   "id": "1e343dc9",
   "metadata": {},
   "outputs": [],
   "source": [
    "search=driver.find_element(By.XPATH,\"//div[@class='styles_filterContainer__4aQaD'][4]/div[2]/div[2]/label/p/span[1]\")\n",
    "search.click()"
   ]
  },
  {
   "cell_type": "code",
   "execution_count": 30,
   "id": "a11a730c",
   "metadata": {},
   "outputs": [],
   "source": [
    "job_titles=[]\n",
    "job_location=[]\n",
    "company_name=[]\n",
    "experience_required=[]"
   ]
  },
  {
   "cell_type": "code",
   "execution_count": 31,
   "id": "c2c3e964",
   "metadata": {},
   "outputs": [],
   "source": [
    "title_tags=driver.find_elements(By.XPATH,\"//div[@class='cust-job-tuple layout-wrapper lay-2 sjw__tuple ']/div/a\")\n",
    "for i in title_tags:\n",
    "    title=i.text\n",
    "    job_titles.append(title)"
   ]
  },
  {
   "cell_type": "code",
   "execution_count": 33,
   "id": "a0e8ed4f",
   "metadata": {},
   "outputs": [
    {
     "data": {
      "text/plain": [
       "19"
      ]
     },
     "execution_count": 33,
     "metadata": {},
     "output_type": "execute_result"
    }
   ],
   "source": [
    "len(job_titles)"
   ]
  },
  {
   "cell_type": "code",
   "execution_count": 34,
   "id": "e7e16197",
   "metadata": {},
   "outputs": [],
   "source": [
    "location_tags=driver.find_elements(By.XPATH,'//span[@class=\"locWdth\"]')\n",
    "for i in location_tags:\n",
    "    location=i.text\n",
    "    job_location.append(location)"
   ]
  },
  {
   "cell_type": "code",
   "execution_count": 38,
   "id": "6ea68893",
   "metadata": {},
   "outputs": [
    {
     "data": {
      "text/plain": [
       "19"
      ]
     },
     "execution_count": 38,
     "metadata": {},
     "output_type": "execute_result"
    }
   ],
   "source": [
    "len(job_location)"
   ]
  },
  {
   "cell_type": "code",
   "execution_count": 50,
   "id": "f9ca4b34",
   "metadata": {},
   "outputs": [
    {
     "name": "stdout",
     "output_type": "stream",
     "text": [
      "['Gurugram', 'Kolkata, Mumbai, New Delhi, Hyderabad, Pune, Chennai, Bengaluru', 'Noida', 'Noida', 'Gurugram', 'Gurugram', 'Kolkata, Mumbai, New Delhi, Hyderabad, Pune, Chennai, Bengaluru', 'Gurugram, Bengaluru', 'Gurugram', 'New Delhi', 'Gurugram', 'Noida', 'Mumbai, Gurugram', 'Kolkata, Mumbai, New Delhi, Hyderabad, Pune, Chennai, Bengaluru', 'Kolkata, Mumbai, New Delhi, Hyderabad, Pune, Chennai, Bengaluru', 'Kolkata, Mumbai, New Delhi, Hyderabad, Pune, Chennai, Bengaluru', 'Kolkata, Mumbai, New Delhi, Hyderabad, Pune, Chennai, Bengaluru', 'Kolkata, Mumbai, New Delhi, Hyderabad, Pune, Chennai, Bengaluru', 'Gurugram']\n"
     ]
    }
   ],
   "source": [
    "print(job_location)"
   ]
  },
  {
   "cell_type": "code",
   "execution_count": 40,
   "id": "6be9e15f",
   "metadata": {},
   "outputs": [],
   "source": [
    "company_tags=driver.find_elements(By.XPATH,\"//div[@class='cust-job-tuple layout-wrapper lay-2 sjw__tuple ']/div[2]/span/a[1]\")\n",
    "for i in company_tags:\n",
    "    company=i.text\n",
    "    company_name.append(company)"
   ]
  },
  {
   "cell_type": "code",
   "execution_count": 41,
   "id": "bd81e34a",
   "metadata": {},
   "outputs": [
    {
     "data": {
      "text/plain": [
       "19"
      ]
     },
     "execution_count": 41,
     "metadata": {},
     "output_type": "execute_result"
    }
   ],
   "source": [
    "len(company_name)"
   ]
  },
  {
   "cell_type": "code",
   "execution_count": 42,
   "id": "f1ea37ac",
   "metadata": {},
   "outputs": [],
   "source": [
    "experience_tags=driver.find_elements(By.XPATH,\"//div[@class='cust-job-tuple layout-wrapper lay-2 sjw__tuple ']/div[3]/div/span[1]/span/span\")\n",
    "for i in experience_tags:\n",
    "    exp=i.text\n",
    "    experience_required.append(exp)"
   ]
  },
  {
   "cell_type": "code",
   "execution_count": 43,
   "id": "7872c328",
   "metadata": {},
   "outputs": [
    {
     "data": {
      "text/plain": [
       "19"
      ]
     },
     "execution_count": 43,
     "metadata": {},
     "output_type": "execute_result"
    }
   ],
   "source": [
    "len(experience_required)"
   ]
  },
  {
   "cell_type": "code",
   "execution_count": 44,
   "id": "f3e01db7",
   "metadata": {},
   "outputs": [
    {
     "name": "stdout",
     "output_type": "stream",
     "text": [
      "['0-2 Yrs', '3-7 Yrs', '2-7 Yrs', '3-7 Yrs', '3-6 Yrs', '1-2 Yrs', '2-5 Yrs', '2-7 Yrs', '3-8 Yrs', '0-5 Yrs', '0-1 Yrs', '3-8 Yrs', '2-6 Yrs', '2-4 Yrs', '3-7 Yrs', '2-6 Yrs', '3-7 Yrs', '2-3 Yrs', '3-7 Yrs']\n"
     ]
    }
   ],
   "source": [
    "print(experience_required)"
   ]
  },
  {
   "cell_type": "code",
   "execution_count": 48,
   "id": "d29adace",
   "metadata": {},
   "outputs": [
    {
     "name": "stdout",
     "output_type": "stream",
     "text": [
      "['0-2 Yrs', '3-7 Yrs', '2-7 Yrs', '3-7 Yrs', '3-6 Yrs', '1-2 Yrs', '2-5 Yrs', '2-7 Yrs', '3-8 Yrs', '0-5 Yrs']\n"
     ]
    }
   ],
   "source": [
    "Exp = experience_required[:10]  # Keep only the first 10 characters\n",
    "print(Exp)"
   ]
  },
  {
   "cell_type": "code",
   "execution_count": 49,
   "id": "826a09ab",
   "metadata": {},
   "outputs": [
    {
     "name": "stdout",
     "output_type": "stream",
     "text": [
      "['Gurugram', 'Kolkata, Mumbai, New Delhi, Hyderabad, Pune, Chennai, Bengaluru', 'Noida', 'Noida', 'Gurugram', 'Gurugram', 'Kolkata, Mumbai, New Delhi, Hyderabad, Pune, Chennai, Bengaluru', 'Gurugram, Bengaluru', 'Gurugram', 'New Delhi']\n"
     ]
    }
   ],
   "source": [
    "Loc = job_location[:10]  # Keep only the first 10 characters\n",
    "print(Loc)"
   ]
  },
  {
   "cell_type": "code",
   "execution_count": 51,
   "id": "f69be049",
   "metadata": {},
   "outputs": [
    {
     "name": "stdout",
     "output_type": "stream",
     "text": [
      "['Collegedunia', 'Monnai', 'Innovaccer', 'Tiketcom', 'Netomi', 'Birdeye Australia', 'Essenware', 'PayU', 'Varuna Integrated Logistics', 'Sociomix']\n"
     ]
    }
   ],
   "source": [
    "Name=company_name[:10]\n",
    "print(Name)"
   ]
  },
  {
   "cell_type": "code",
   "execution_count": 52,
   "id": "87e7902e",
   "metadata": {},
   "outputs": [
    {
     "name": "stdout",
     "output_type": "stream",
     "text": [
      "['Data Scientist', 'Data Scientist', 'Data Scientist', 'Data Scientist', 'Data Scientist - I', 'Data Scientist', 'Data Scientist', 'Data Scientist (Telco)', 'Data Analyst & Data Scientist', 'Data Scientist']\n"
     ]
    }
   ],
   "source": [
    "title=job_titles[:10]\n",
    "print(title)"
   ]
  },
  {
   "cell_type": "code",
   "execution_count": 53,
   "id": "d2ac4300",
   "metadata": {},
   "outputs": [],
   "source": [
    "df = pd.DataFrame({\n",
    "    'Title': title,\n",
    "    'Location': Loc,\n",
    "    'Company Name': Name,\n",
    "    'Experience': Exp\n",
    "})"
   ]
  },
  {
   "cell_type": "code",
   "execution_count": 54,
   "id": "984c397e",
   "metadata": {},
   "outputs": [
    {
     "data": {
      "text/html": [
       "<div>\n",
       "<style scoped>\n",
       "    .dataframe tbody tr th:only-of-type {\n",
       "        vertical-align: middle;\n",
       "    }\n",
       "\n",
       "    .dataframe tbody tr th {\n",
       "        vertical-align: top;\n",
       "    }\n",
       "\n",
       "    .dataframe thead th {\n",
       "        text-align: right;\n",
       "    }\n",
       "</style>\n",
       "<table border=\"1\" class=\"dataframe\">\n",
       "  <thead>\n",
       "    <tr style=\"text-align: right;\">\n",
       "      <th></th>\n",
       "      <th>Title</th>\n",
       "      <th>Location</th>\n",
       "      <th>Company Name</th>\n",
       "      <th>Experience</th>\n",
       "    </tr>\n",
       "  </thead>\n",
       "  <tbody>\n",
       "    <tr>\n",
       "      <th>0</th>\n",
       "      <td>Data Scientist</td>\n",
       "      <td>Gurugram</td>\n",
       "      <td>Collegedunia</td>\n",
       "      <td>0-2 Yrs</td>\n",
       "    </tr>\n",
       "    <tr>\n",
       "      <th>1</th>\n",
       "      <td>Data Scientist</td>\n",
       "      <td>Kolkata, Mumbai, New Delhi, Hyderabad, Pune, C...</td>\n",
       "      <td>Monnai</td>\n",
       "      <td>3-7 Yrs</td>\n",
       "    </tr>\n",
       "    <tr>\n",
       "      <th>2</th>\n",
       "      <td>Data Scientist</td>\n",
       "      <td>Noida</td>\n",
       "      <td>Innovaccer</td>\n",
       "      <td>2-7 Yrs</td>\n",
       "    </tr>\n",
       "    <tr>\n",
       "      <th>3</th>\n",
       "      <td>Data Scientist</td>\n",
       "      <td>Noida</td>\n",
       "      <td>Tiketcom</td>\n",
       "      <td>3-7 Yrs</td>\n",
       "    </tr>\n",
       "    <tr>\n",
       "      <th>4</th>\n",
       "      <td>Data Scientist - I</td>\n",
       "      <td>Gurugram</td>\n",
       "      <td>Netomi</td>\n",
       "      <td>3-6 Yrs</td>\n",
       "    </tr>\n",
       "    <tr>\n",
       "      <th>5</th>\n",
       "      <td>Data Scientist</td>\n",
       "      <td>Gurugram</td>\n",
       "      <td>Birdeye Australia</td>\n",
       "      <td>1-2 Yrs</td>\n",
       "    </tr>\n",
       "    <tr>\n",
       "      <th>6</th>\n",
       "      <td>Data Scientist</td>\n",
       "      <td>Kolkata, Mumbai, New Delhi, Hyderabad, Pune, C...</td>\n",
       "      <td>Essenware</td>\n",
       "      <td>2-5 Yrs</td>\n",
       "    </tr>\n",
       "    <tr>\n",
       "      <th>7</th>\n",
       "      <td>Data Scientist (Telco)</td>\n",
       "      <td>Gurugram, Bengaluru</td>\n",
       "      <td>PayU</td>\n",
       "      <td>2-7 Yrs</td>\n",
       "    </tr>\n",
       "    <tr>\n",
       "      <th>8</th>\n",
       "      <td>Data Analyst &amp; Data Scientist</td>\n",
       "      <td>Gurugram</td>\n",
       "      <td>Varuna Integrated Logistics</td>\n",
       "      <td>3-8 Yrs</td>\n",
       "    </tr>\n",
       "    <tr>\n",
       "      <th>9</th>\n",
       "      <td>Data Scientist</td>\n",
       "      <td>New Delhi</td>\n",
       "      <td>Sociomix</td>\n",
       "      <td>0-5 Yrs</td>\n",
       "    </tr>\n",
       "  </tbody>\n",
       "</table>\n",
       "</div>"
      ],
      "text/plain": [
       "                           Title  \\\n",
       "0                 Data Scientist   \n",
       "1                 Data Scientist   \n",
       "2                 Data Scientist   \n",
       "3                 Data Scientist   \n",
       "4             Data Scientist - I   \n",
       "5                 Data Scientist   \n",
       "6                 Data Scientist   \n",
       "7         Data Scientist (Telco)   \n",
       "8  Data Analyst & Data Scientist   \n",
       "9                 Data Scientist   \n",
       "\n",
       "                                            Location  \\\n",
       "0                                           Gurugram   \n",
       "1  Kolkata, Mumbai, New Delhi, Hyderabad, Pune, C...   \n",
       "2                                              Noida   \n",
       "3                                              Noida   \n",
       "4                                           Gurugram   \n",
       "5                                           Gurugram   \n",
       "6  Kolkata, Mumbai, New Delhi, Hyderabad, Pune, C...   \n",
       "7                                Gurugram, Bengaluru   \n",
       "8                                           Gurugram   \n",
       "9                                          New Delhi   \n",
       "\n",
       "                  Company Name Experience  \n",
       "0                 Collegedunia    0-2 Yrs  \n",
       "1                       Monnai    3-7 Yrs  \n",
       "2                   Innovaccer    2-7 Yrs  \n",
       "3                     Tiketcom    3-7 Yrs  \n",
       "4                       Netomi    3-6 Yrs  \n",
       "5            Birdeye Australia    1-2 Yrs  \n",
       "6                    Essenware    2-5 Yrs  \n",
       "7                         PayU    2-7 Yrs  \n",
       "8  Varuna Integrated Logistics    3-8 Yrs  \n",
       "9                     Sociomix    0-5 Yrs  "
      ]
     },
     "execution_count": 54,
     "metadata": {},
     "output_type": "execute_result"
    }
   ],
   "source": [
    "df"
   ]
  },
  {
   "cell_type": "markdown",
   "id": "f22550b6",
   "metadata": {},
   "source": [
    "# Question No 2 "
   ]
  },
  {
   "cell_type": "code",
   "execution_count": 57,
   "id": "48e571c7",
   "metadata": {},
   "outputs": [],
   "source": [
    "driver = webdriver.Chrome()"
   ]
  },
  {
   "cell_type": "code",
   "execution_count": 59,
   "id": "5d47417d",
   "metadata": {},
   "outputs": [],
   "source": [
    "driver.get(\"https://www.shine.com/\")"
   ]
  },
  {
   "cell_type": "code",
   "execution_count": 80,
   "id": "aa5c3d6c",
   "metadata": {},
   "outputs": [],
   "source": [
    "search=driver.find_element(By.XPATH,\"//span[@class='btn']\")\n",
    "search.click()"
   ]
  },
  {
   "cell_type": "code",
   "execution_count": 81,
   "id": "7bddd578",
   "metadata": {},
   "outputs": [],
   "source": [
    "Job=driver.find_element(By.XPATH,\"//div[@class='searchForm_search_main__Wc5x4']/ul/li[1]/div/input\")\n",
    "Job.send_keys('Data Analyst')"
   ]
  },
  {
   "cell_type": "code",
   "execution_count": 83,
   "id": "907cb35f",
   "metadata": {},
   "outputs": [],
   "source": [
    "Location=driver.find_element(By.XPATH,\"//div[@class='searchForm_search_main__Wc5x4']/ul/li[2]/div/input\")\n",
    "Location.send_keys('Bangalore')"
   ]
  },
  {
   "cell_type": "code",
   "execution_count": 86,
   "id": "05b04640",
   "metadata": {},
   "outputs": [],
   "source": [
    "search=driver.find_element(By.XPATH,\"//div[@class='searchForm_btnWrap_advance__VYBHN']/button\")\n",
    "search.click()"
   ]
  },
  {
   "cell_type": "code",
   "execution_count": 148,
   "id": "aa342cfc",
   "metadata": {},
   "outputs": [],
   "source": [
    "job_titl=[]\n",
    "job_Loca=[]\n",
    "comp=[]\n",
    "expr=[]"
   ]
  },
  {
   "cell_type": "code",
   "execution_count": 119,
   "id": "c197d8ef",
   "metadata": {},
   "outputs": [],
   "source": [
    "title_tags=driver.find_elements(By.CLASS_NAME,\"jobCard_pReplaceH2__xWmHg\")\n",
    "for i in title_tags:\n",
    "    title=i.text\n",
    "    job_titl.append(title)"
   ]
  },
  {
   "cell_type": "code",
   "execution_count": 121,
   "id": "9b3edfcb",
   "metadata": {},
   "outputs": [
    {
     "data": {
      "text/plain": [
       "20"
      ]
     },
     "execution_count": 121,
     "metadata": {},
     "output_type": "execute_result"
    }
   ],
   "source": [
    "len(job_titl)"
   ]
  },
  {
   "cell_type": "code",
   "execution_count": 130,
   "id": "6a0a4e4d",
   "metadata": {},
   "outputs": [],
   "source": [
    "location_tags=driver.find_elements(By.XPATH,\"//div[@class='jobCard_jobCard_lists__fdnsc']/div[1]\")\n",
    "for i in location_tags:\n",
    "    location=i.text\n",
    "    job_Loca.append(location)"
   ]
  },
  {
   "cell_type": "code",
   "execution_count": 132,
   "id": "085186a8",
   "metadata": {},
   "outputs": [
    {
     "data": {
      "text/plain": [
       "20"
      ]
     },
     "execution_count": 132,
     "metadata": {},
     "output_type": "execute_result"
    }
   ],
   "source": [
    "len(job_Loca)"
   ]
  },
  {
   "cell_type": "code",
   "execution_count": 133,
   "id": "9d043f8f",
   "metadata": {},
   "outputs": [
    {
     "name": "stdout",
     "output_type": "stream",
     "text": [
      "['Bangalore\\n+8', 'Bangalore\\n+4', 'Bangalore\\n+8', 'Bangalore\\n+8', 'Bangalore\\n+2', 'Bangalore\\n+8', 'Bangalore\\n+2', 'Bangalore', 'Bangalore\\n+7', 'Bangalore', 'Bangalore\\n+7', 'Bangalore\\n+6', 'Bangalore', 'Bangalore', 'Bangalore\\n+8', 'Bangalore\\n+9', 'Bangalore\\n+8', 'Bangalore\\n+2', 'Bangalore\\n+1', 'Bangalore\\n+9']\n"
     ]
    }
   ],
   "source": [
    "print(job_Loca)"
   ]
  },
  {
   "cell_type": "code",
   "execution_count": 149,
   "id": "86716b0c",
   "metadata": {},
   "outputs": [],
   "source": [
    "company_tags=driver.find_elements(By.XPATH,\"//div[@class='jobCard_jobCard_cName__mYnow']/span\")\n",
    "for i in company_tags:\n",
    "    company=i.text\n",
    "    comp.append(company)"
   ]
  },
  {
   "cell_type": "code",
   "execution_count": 150,
   "id": "5305ec7e",
   "metadata": {},
   "outputs": [
    {
     "data": {
      "text/plain": [
       "20"
      ]
     },
     "execution_count": 150,
     "metadata": {},
     "output_type": "execute_result"
    }
   ],
   "source": [
    "len(comp)"
   ]
  },
  {
   "cell_type": "code",
   "execution_count": 151,
   "id": "52250fbd",
   "metadata": {},
   "outputs": [
    {
     "data": {
      "text/plain": [
       "['appsoft solutions',\n",
       " 'aryan technology',\n",
       " 'gallagher and mohan private limited',\n",
       " 'spento papers (india) llp',\n",
       " 'diraa hr services hiring for diraa ...',\n",
       " 'techno endura',\n",
       " 'innovsource services private limite...',\n",
       " 'white horse manpower consultancy (p...',\n",
       " 'mackenzie modern it solutions priva...',\n",
       " 'spurtree technologies private limit...',\n",
       " 'techno endura',\n",
       " 'techno endura',\n",
       " 'ntech it solutions private limited',\n",
       " 'metasearch recruitment services',\n",
       " 'techno endura',\n",
       " 'overnet trading private limited',\n",
       " 'spento papers (india) llp',\n",
       " 'diraa hr services hiring for diraa ...',\n",
       " 'epergne solutions',\n",
       " 'techno endura']"
      ]
     },
     "execution_count": 151,
     "metadata": {},
     "output_type": "execute_result"
    }
   ],
   "source": [
    "comp"
   ]
  },
  {
   "cell_type": "code",
   "execution_count": 142,
   "id": "332e9b49",
   "metadata": {},
   "outputs": [],
   "source": [
    "experience_tags=driver.find_elements(By.XPATH,\"//div[@class='jobCard_jobCard_lists__fdnsc']/div[2]/div[1]\")\n",
    "for i in experience_tags:\n",
    "    exp=i.text\n",
    "    expr.append(exp)"
   ]
  },
  {
   "cell_type": "code",
   "execution_count": 143,
   "id": "e963cfbc",
   "metadata": {},
   "outputs": [
    {
     "data": {
      "text/plain": [
       "20"
      ]
     },
     "execution_count": 143,
     "metadata": {},
     "output_type": "execute_result"
    }
   ],
   "source": [
    "len(expr)"
   ]
  },
  {
   "cell_type": "code",
   "execution_count": 144,
   "id": "599bc7a1",
   "metadata": {},
   "outputs": [
    {
     "data": {
      "text/plain": [
       "['0 to 4 Yrs',\n",
       " '0 to 4 Yrs',\n",
       " '2 to 7 Yrs',\n",
       " '8 to 13 Yrs',\n",
       " '0 to 4 Yrs',\n",
       " '0 to 2 Yrs',\n",
       " '1 to 4 Yrs',\n",
       " '5 to 8 Yrs',\n",
       " '5 to 8 Yrs',\n",
       " '5 to 10 Yrs',\n",
       " '0 to 4 Yrs',\n",
       " '0 to 2 Yrs',\n",
       " '8 to 13 Yrs',\n",
       " '3 to 8 Yrs',\n",
       " '0 to 2 Yrs',\n",
       " '0 to 4 Yrs',\n",
       " '12 to 22 Yrs',\n",
       " '0 to 4 Yrs',\n",
       " '6 to 12 Yrs',\n",
       " '0 to 4 Yrs']"
      ]
     },
     "execution_count": 144,
     "metadata": {},
     "output_type": "execute_result"
    }
   ],
   "source": [
    "expr"
   ]
  },
  {
   "cell_type": "code",
   "execution_count": 125,
   "id": "a1484505",
   "metadata": {},
   "outputs": [
    {
     "data": {
      "text/plain": [
       "['Data Analyst , Senior Data Analyst , Data Analyst - Tec ...',\n",
       " 'Data Analyst',\n",
       " 'Senior Data Analyst',\n",
       " 'Healthcare Data Analyst',\n",
       " 'Urgent Hiring For Data Analyst',\n",
       " 'Clinical Data Analyst Ii',\n",
       " 'Operations Executive ( Data Analyst )',\n",
       " 'Data Governance Analyst',\n",
       " 'Data Science Analytics',\n",
       " 'Business Analyst']"
      ]
     },
     "execution_count": 125,
     "metadata": {},
     "output_type": "execute_result"
    }
   ],
   "source": [
    "J=job_titl[:10]\n",
    "J"
   ]
  },
  {
   "cell_type": "code",
   "execution_count": 135,
   "id": "af84cf86",
   "metadata": {},
   "outputs": [
    {
     "data": {
      "text/plain": [
       "['Bangalore\\n+8',\n",
       " 'Bangalore\\n+4',\n",
       " 'Bangalore\\n+8',\n",
       " 'Bangalore\\n+8',\n",
       " 'Bangalore\\n+2',\n",
       " 'Bangalore\\n+8',\n",
       " 'Bangalore\\n+2',\n",
       " 'Bangalore',\n",
       " 'Bangalore\\n+7',\n",
       " 'Bangalore']"
      ]
     },
     "execution_count": 135,
     "metadata": {},
     "output_type": "execute_result"
    }
   ],
   "source": [
    "L=job_Loca[:10]\n",
    "L"
   ]
  },
  {
   "cell_type": "code",
   "execution_count": 146,
   "id": "bd4fce14",
   "metadata": {},
   "outputs": [
    {
     "data": {
      "text/plain": [
       "['0 to 4 Yrs',\n",
       " '0 to 4 Yrs',\n",
       " '2 to 7 Yrs',\n",
       " '8 to 13 Yrs',\n",
       " '0 to 4 Yrs',\n",
       " '0 to 2 Yrs',\n",
       " '1 to 4 Yrs',\n",
       " '5 to 8 Yrs',\n",
       " '5 to 8 Yrs',\n",
       " '5 to 10 Yrs']"
      ]
     },
     "execution_count": 146,
     "metadata": {},
     "output_type": "execute_result"
    }
   ],
   "source": [
    "E=expr[:10]\n",
    "E"
   ]
  },
  {
   "cell_type": "code",
   "execution_count": 153,
   "id": "5bd37a1c",
   "metadata": {},
   "outputs": [
    {
     "data": {
      "text/plain": [
       "['appsoft solutions',\n",
       " 'aryan technology',\n",
       " 'gallagher and mohan private limited',\n",
       " 'spento papers (india) llp',\n",
       " 'diraa hr services hiring for diraa ...',\n",
       " 'techno endura',\n",
       " 'innovsource services private limite...',\n",
       " 'white horse manpower consultancy (p...',\n",
       " 'mackenzie modern it solutions priva...',\n",
       " 'spurtree technologies private limit...']"
      ]
     },
     "execution_count": 153,
     "metadata": {},
     "output_type": "execute_result"
    }
   ],
   "source": [
    "C=comp[:10]\n",
    "C"
   ]
  },
  {
   "cell_type": "code",
   "execution_count": 154,
   "id": "1535803c",
   "metadata": {},
   "outputs": [],
   "source": [
    "df = pd.DataFrame({\n",
    "    'Title': J,\n",
    "    'Location': L,\n",
    "    'Company Name': C,\n",
    "    'Experience': E\n",
    "})"
   ]
  },
  {
   "cell_type": "code",
   "execution_count": 155,
   "id": "e5cb05e7",
   "metadata": {},
   "outputs": [
    {
     "data": {
      "text/html": [
       "<div>\n",
       "<style scoped>\n",
       "    .dataframe tbody tr th:only-of-type {\n",
       "        vertical-align: middle;\n",
       "    }\n",
       "\n",
       "    .dataframe tbody tr th {\n",
       "        vertical-align: top;\n",
       "    }\n",
       "\n",
       "    .dataframe thead th {\n",
       "        text-align: right;\n",
       "    }\n",
       "</style>\n",
       "<table border=\"1\" class=\"dataframe\">\n",
       "  <thead>\n",
       "    <tr style=\"text-align: right;\">\n",
       "      <th></th>\n",
       "      <th>Title</th>\n",
       "      <th>Location</th>\n",
       "      <th>Company Name</th>\n",
       "      <th>Experience</th>\n",
       "    </tr>\n",
       "  </thead>\n",
       "  <tbody>\n",
       "    <tr>\n",
       "      <th>0</th>\n",
       "      <td>Data Analyst , Senior Data Analyst , Data Anal...</td>\n",
       "      <td>Bangalore\\n+8</td>\n",
       "      <td>appsoft solutions</td>\n",
       "      <td>0 to 4 Yrs</td>\n",
       "    </tr>\n",
       "    <tr>\n",
       "      <th>1</th>\n",
       "      <td>Data Analyst</td>\n",
       "      <td>Bangalore\\n+4</td>\n",
       "      <td>aryan technology</td>\n",
       "      <td>0 to 4 Yrs</td>\n",
       "    </tr>\n",
       "    <tr>\n",
       "      <th>2</th>\n",
       "      <td>Senior Data Analyst</td>\n",
       "      <td>Bangalore\\n+8</td>\n",
       "      <td>gallagher and mohan private limited</td>\n",
       "      <td>2 to 7 Yrs</td>\n",
       "    </tr>\n",
       "    <tr>\n",
       "      <th>3</th>\n",
       "      <td>Healthcare Data Analyst</td>\n",
       "      <td>Bangalore\\n+8</td>\n",
       "      <td>spento papers (india) llp</td>\n",
       "      <td>8 to 13 Yrs</td>\n",
       "    </tr>\n",
       "    <tr>\n",
       "      <th>4</th>\n",
       "      <td>Urgent Hiring For Data Analyst</td>\n",
       "      <td>Bangalore\\n+2</td>\n",
       "      <td>diraa hr services hiring for diraa ...</td>\n",
       "      <td>0 to 4 Yrs</td>\n",
       "    </tr>\n",
       "    <tr>\n",
       "      <th>5</th>\n",
       "      <td>Clinical Data Analyst Ii</td>\n",
       "      <td>Bangalore\\n+8</td>\n",
       "      <td>techno endura</td>\n",
       "      <td>0 to 2 Yrs</td>\n",
       "    </tr>\n",
       "    <tr>\n",
       "      <th>6</th>\n",
       "      <td>Operations Executive ( Data Analyst )</td>\n",
       "      <td>Bangalore\\n+2</td>\n",
       "      <td>innovsource services private limite...</td>\n",
       "      <td>1 to 4 Yrs</td>\n",
       "    </tr>\n",
       "    <tr>\n",
       "      <th>7</th>\n",
       "      <td>Data Governance Analyst</td>\n",
       "      <td>Bangalore</td>\n",
       "      <td>white horse manpower consultancy (p...</td>\n",
       "      <td>5 to 8 Yrs</td>\n",
       "    </tr>\n",
       "    <tr>\n",
       "      <th>8</th>\n",
       "      <td>Data Science Analytics</td>\n",
       "      <td>Bangalore\\n+7</td>\n",
       "      <td>mackenzie modern it solutions priva...</td>\n",
       "      <td>5 to 8 Yrs</td>\n",
       "    </tr>\n",
       "    <tr>\n",
       "      <th>9</th>\n",
       "      <td>Business Analyst</td>\n",
       "      <td>Bangalore</td>\n",
       "      <td>spurtree technologies private limit...</td>\n",
       "      <td>5 to 10 Yrs</td>\n",
       "    </tr>\n",
       "  </tbody>\n",
       "</table>\n",
       "</div>"
      ],
      "text/plain": [
       "                                               Title       Location  \\\n",
       "0  Data Analyst , Senior Data Analyst , Data Anal...  Bangalore\\n+8   \n",
       "1                                       Data Analyst  Bangalore\\n+4   \n",
       "2                                Senior Data Analyst  Bangalore\\n+8   \n",
       "3                            Healthcare Data Analyst  Bangalore\\n+8   \n",
       "4                     Urgent Hiring For Data Analyst  Bangalore\\n+2   \n",
       "5                           Clinical Data Analyst Ii  Bangalore\\n+8   \n",
       "6              Operations Executive ( Data Analyst )  Bangalore\\n+2   \n",
       "7                            Data Governance Analyst      Bangalore   \n",
       "8                             Data Science Analytics  Bangalore\\n+7   \n",
       "9                                   Business Analyst      Bangalore   \n",
       "\n",
       "                             Company Name   Experience  \n",
       "0                       appsoft solutions   0 to 4 Yrs  \n",
       "1                        aryan technology   0 to 4 Yrs  \n",
       "2     gallagher and mohan private limited   2 to 7 Yrs  \n",
       "3               spento papers (india) llp  8 to 13 Yrs  \n",
       "4  diraa hr services hiring for diraa ...   0 to 4 Yrs  \n",
       "5                           techno endura   0 to 2 Yrs  \n",
       "6  innovsource services private limite...   1 to 4 Yrs  \n",
       "7  white horse manpower consultancy (p...   5 to 8 Yrs  \n",
       "8  mackenzie modern it solutions priva...   5 to 8 Yrs  \n",
       "9  spurtree technologies private limit...  5 to 10 Yrs  "
      ]
     },
     "execution_count": 155,
     "metadata": {},
     "output_type": "execute_result"
    }
   ],
   "source": [
    "df"
   ]
  },
  {
   "cell_type": "markdown",
   "id": "fce88e03",
   "metadata": {},
   "source": [
    "# Flipkart Iphone 11 reviews"
   ]
  },
  {
   "cell_type": "code",
   "execution_count": 15,
   "id": "e7c44f7c",
   "metadata": {},
   "outputs": [],
   "source": [
    "driver = webdriver.Chrome()"
   ]
  },
  {
   "cell_type": "code",
   "execution_count": 16,
   "id": "ea5c2cb8",
   "metadata": {},
   "outputs": [],
   "source": [
    "driver.get(\"https://www.flipkart.com/apple-iphone-11-black-64-gb/product-reviews/itm4e5041ba101fd?pid=MOBFWQ6BXGJCEYNY&lid=LSTMOBFWQ6BXGJCEYNYZXSHRJ&marketplace=FLIPKART\")"
   ]
  },
  {
   "cell_type": "code",
   "execution_count": 17,
   "id": "01d8a426",
   "metadata": {},
   "outputs": [],
   "source": [
    "rate = []\n",
    "revieww = []\n",
    "reviews = []"
   ]
  },
  {
   "cell_type": "code",
   "execution_count": 18,
   "id": "ef29b160",
   "metadata": {},
   "outputs": [
    {
     "name": "stdout",
     "output_type": "stream",
     "text": [
      "Scraping page: 1\n",
      "Scraping page: 2\n",
      "Scraping page: 3\n",
      "Scraping page: 4\n",
      "Scraping page: 5\n",
      "Scraping page: 6\n",
      "Scraping page: 7\n",
      "Scraping page: 8\n",
      "Scraping page: 9\n",
      "Scraping page: 10\n"
     ]
    }
   ],
   "source": [
    "for i in range(10):\n",
    "    print('Scraping page:', i+1)\n",
    "    Rati=driver.find_elements(By.XPATH,\"//p[@class='z9E0IG']\")\n",
    "    for R in Rati:\n",
    "        ra=R.text\n",
    "        rate.append(ra)\n",
    "    rev=driver.find_elements(By.XPATH,\"//div[@class='XQDdHH Ga3i8K']\")\n",
    "    for e in rev:\n",
    "        re=e.text\n",
    "        revieww.append(re)\n",
    "    full=driver.find_elements(By.XPATH,\"//div[@class='ZmyHeo']/div/div\")\n",
    "    for l in full:\n",
    "        fuu=l.text\n",
    "        reviews.append(fuu)\n",
    "\n",
    "    try:\n",
    "        next_button = driver.find_element(By.XPATH,\"//a[@class='_9QVEpD']\")\n",
    "        next_button.click()\n",
    "        time.sleep(2)\n",
    "    except:\n",
    "        print(\"done \")\n",
    "        break"
   ]
  },
  {
   "cell_type": "code",
   "execution_count": 19,
   "id": "497943e7",
   "metadata": {},
   "outputs": [],
   "source": [
    "df = pd.DataFrame({\n",
    "    'Review': revieww,\n",
    "    'Rating': rate,\n",
    "    'Review summary': reviews\n",
    "})"
   ]
  },
  {
   "cell_type": "code",
   "execution_count": 20,
   "id": "60b8583a",
   "metadata": {},
   "outputs": [
    {
     "data": {
      "text/html": [
       "<div>\n",
       "<style scoped>\n",
       "    .dataframe tbody tr th:only-of-type {\n",
       "        vertical-align: middle;\n",
       "    }\n",
       "\n",
       "    .dataframe tbody tr th {\n",
       "        vertical-align: top;\n",
       "    }\n",
       "\n",
       "    .dataframe thead th {\n",
       "        text-align: right;\n",
       "    }\n",
       "</style>\n",
       "<table border=\"1\" class=\"dataframe\">\n",
       "  <thead>\n",
       "    <tr style=\"text-align: right;\">\n",
       "      <th></th>\n",
       "      <th>Review</th>\n",
       "      <th>Rating</th>\n",
       "      <th>Review summary</th>\n",
       "    </tr>\n",
       "  </thead>\n",
       "  <tbody>\n",
       "    <tr>\n",
       "      <th>0</th>\n",
       "      <td>5</td>\n",
       "      <td>Terrific</td>\n",
       "      <td>Very very good</td>\n",
       "    </tr>\n",
       "    <tr>\n",
       "      <th>1</th>\n",
       "      <td>5</td>\n",
       "      <td>Perfect product!</td>\n",
       "      <td>Photos super</td>\n",
       "    </tr>\n",
       "    <tr>\n",
       "      <th>2</th>\n",
       "      <td>5</td>\n",
       "      <td>Best in the market!</td>\n",
       "      <td>Good Camera</td>\n",
       "    </tr>\n",
       "    <tr>\n",
       "      <th>3</th>\n",
       "      <td>5</td>\n",
       "      <td>Classy product</td>\n",
       "      <td>Camera is awesome\\nBest battery backup\\nA perf...</td>\n",
       "    </tr>\n",
       "    <tr>\n",
       "      <th>4</th>\n",
       "      <td>5</td>\n",
       "      <td>Terrific purchase</td>\n",
       "      <td>Value for money 😍</td>\n",
       "    </tr>\n",
       "    <tr>\n",
       "      <th>...</th>\n",
       "      <td>...</td>\n",
       "      <td>...</td>\n",
       "      <td>...</td>\n",
       "    </tr>\n",
       "    <tr>\n",
       "      <th>95</th>\n",
       "      <td>5</td>\n",
       "      <td>Worth every penny</td>\n",
       "      <td>Feeling awesome after getting the delivery of ...</td>\n",
       "    </tr>\n",
       "    <tr>\n",
       "      <th>96</th>\n",
       "      <td>5</td>\n",
       "      <td>Wonderful</td>\n",
       "      <td>This is amazing at all</td>\n",
       "    </tr>\n",
       "    <tr>\n",
       "      <th>97</th>\n",
       "      <td>5</td>\n",
       "      <td>Must buy!</td>\n",
       "      <td>Go for iPhone 11 , if confused between iPhone ...</td>\n",
       "    </tr>\n",
       "    <tr>\n",
       "      <th>98</th>\n",
       "      <td>5</td>\n",
       "      <td>Just wow!</td>\n",
       "      <td>Perfect Product!!</td>\n",
       "    </tr>\n",
       "    <tr>\n",
       "      <th>99</th>\n",
       "      <td>5</td>\n",
       "      <td>Brilliant</td>\n",
       "      <td>Excellent Phone.</td>\n",
       "    </tr>\n",
       "  </tbody>\n",
       "</table>\n",
       "<p>100 rows × 3 columns</p>\n",
       "</div>"
      ],
      "text/plain": [
       "   Review               Rating  \\\n",
       "0       5             Terrific   \n",
       "1       5     Perfect product!   \n",
       "2       5  Best in the market!   \n",
       "3       5       Classy product   \n",
       "4       5    Terrific purchase   \n",
       "..    ...                  ...   \n",
       "95      5    Worth every penny   \n",
       "96      5            Wonderful   \n",
       "97      5            Must buy!   \n",
       "98      5            Just wow!   \n",
       "99      5            Brilliant   \n",
       "\n",
       "                                       Review summary  \n",
       "0                                      Very very good  \n",
       "1                                        Photos super  \n",
       "2                                         Good Camera  \n",
       "3   Camera is awesome\\nBest battery backup\\nA perf...  \n",
       "4                                   Value for money 😍  \n",
       "..                                                ...  \n",
       "95  Feeling awesome after getting the delivery of ...  \n",
       "96                             This is amazing at all  \n",
       "97  Go for iPhone 11 , if confused between iPhone ...  \n",
       "98                                  Perfect Product!!  \n",
       "99                                   Excellent Phone.  \n",
       "\n",
       "[100 rows x 3 columns]"
      ]
     },
     "execution_count": 20,
     "metadata": {},
     "output_type": "execute_result"
    }
   ],
   "source": [
    "df"
   ]
  },
  {
   "cell_type": "markdown",
   "id": "4a837b73",
   "metadata": {},
   "source": [
    "# Question 4 "
   ]
  },
  {
   "cell_type": "code",
   "execution_count": 21,
   "id": "3f9dc65d",
   "metadata": {},
   "outputs": [],
   "source": [
    "driver = webdriver.Chrome()"
   ]
  },
  {
   "cell_type": "code",
   "execution_count": 22,
   "id": "e23738d1",
   "metadata": {},
   "outputs": [],
   "source": [
    "driver.get(\"https://www.flipkart.com\")"
   ]
  },
  {
   "cell_type": "code",
   "execution_count": 26,
   "id": "42cebee8",
   "metadata": {},
   "outputs": [],
   "source": [
    "Search=driver.find_element(By.XPATH,\"//input[@class='Pke_EE']\")\n",
    "Search.send_keys('sneakers')"
   ]
  },
  {
   "cell_type": "code",
   "execution_count": 27,
   "id": "b0168a2a",
   "metadata": {},
   "outputs": [],
   "source": [
    "button=driver.find_element(By.XPATH,\"//button[@class='_2iLD__']\")\n",
    "button.click()"
   ]
  },
  {
   "cell_type": "code",
   "execution_count": 44,
   "id": "dce18914",
   "metadata": {},
   "outputs": [],
   "source": [
    "Brands = []\n",
    "ProductDescriptions = []\n",
    "Prices = []"
   ]
  },
  {
   "cell_type": "code",
   "execution_count": 45,
   "id": "a5dbb146",
   "metadata": {},
   "outputs": [
    {
     "name": "stdout",
     "output_type": "stream",
     "text": [
      "Scraping page: 1\n",
      "Scraping page: 2\n",
      "Scraping page: 3\n"
     ]
    }
   ],
   "source": [
    "for i in range(3):\n",
    "    print('Scraping page:', i+1)\n",
    "    brand=driver.find_elements(By.XPATH,\"//div[@class='syl9yP']\")\n",
    "    for B in brand:\n",
    "        br=B.text\n",
    "        Brands.append(br)\n",
    "    describe=driver.find_elements(By.XPATH,\"//div[@class='hCKiGj']/a[1]\")\n",
    "    for P in describe:\n",
    "        Pr=P.text\n",
    "        ProductDescriptions.append(Pr)\n",
    "    rate=driver.find_elements(By.XPATH,\"//div[@class='hCKiGj']/a[2]\")\n",
    "    for R in rate:\n",
    "        fuu=R.text\n",
    "        Prices.append(fuu)\n",
    "\n",
    "    try:\n",
    "        next_button = driver.find_element(By.XPATH,\"//a[@class='_9QVEpD']\")\n",
    "        next_button.click()\n",
    "        time.sleep(2)\n",
    "    except:\n",
    "        print(\"done \")\n",
    "        break"
   ]
  },
  {
   "cell_type": "code",
   "execution_count": 46,
   "id": "d12c456c",
   "metadata": {},
   "outputs": [
    {
     "data": {
      "text/plain": [
       "120"
      ]
     },
     "execution_count": 46,
     "metadata": {},
     "output_type": "execute_result"
    }
   ],
   "source": [
    "len(Brands)"
   ]
  },
  {
   "cell_type": "code",
   "execution_count": 47,
   "id": "5cfeabf5",
   "metadata": {},
   "outputs": [
    {
     "data": {
      "text/plain": [
       "120"
      ]
     },
     "execution_count": 47,
     "metadata": {},
     "output_type": "execute_result"
    }
   ],
   "source": [
    "len(ProductDescriptions)"
   ]
  },
  {
   "cell_type": "code",
   "execution_count": 48,
   "id": "be245464",
   "metadata": {},
   "outputs": [
    {
     "data": {
      "text/plain": [
       "120"
      ]
     },
     "execution_count": 48,
     "metadata": {},
     "output_type": "execute_result"
    }
   ],
   "source": [
    "len(Prices)"
   ]
  },
  {
   "cell_type": "code",
   "execution_count": 49,
   "id": "e3b3e2ff",
   "metadata": {},
   "outputs": [
    {
     "data": {
      "text/plain": [
       "100"
      ]
     },
     "execution_count": 49,
     "metadata": {},
     "output_type": "execute_result"
    }
   ],
   "source": [
    "Brand=Brands[:100]\n",
    "len(Brand)"
   ]
  },
  {
   "cell_type": "code",
   "execution_count": 50,
   "id": "109152f2",
   "metadata": {},
   "outputs": [
    {
     "data": {
      "text/plain": [
       "100"
      ]
     },
     "execution_count": 50,
     "metadata": {},
     "output_type": "execute_result"
    }
   ],
   "source": [
    "ProductDescription=ProductDescriptions[:100]\n",
    "len(ProductDescription)"
   ]
  },
  {
   "cell_type": "code",
   "execution_count": 52,
   "id": "d00da08c",
   "metadata": {},
   "outputs": [
    {
     "data": {
      "text/plain": [
       "100"
      ]
     },
     "execution_count": 52,
     "metadata": {},
     "output_type": "execute_result"
    }
   ],
   "source": [
    "Price=Prices[:100]\n",
    "len(Price)"
   ]
  },
  {
   "cell_type": "code",
   "execution_count": 53,
   "id": "dc7436ff",
   "metadata": {},
   "outputs": [],
   "source": [
    "df = pd.DataFrame({\n",
    "    'Brand': Brand,\n",
    "    'ProductDescription': ProductDescription,\n",
    "    'Rate': Price\n",
    "})"
   ]
  },
  {
   "cell_type": "code",
   "execution_count": 54,
   "id": "ac461568",
   "metadata": {},
   "outputs": [
    {
     "data": {
      "text/html": [
       "<div>\n",
       "<style scoped>\n",
       "    .dataframe tbody tr th:only-of-type {\n",
       "        vertical-align: middle;\n",
       "    }\n",
       "\n",
       "    .dataframe tbody tr th {\n",
       "        vertical-align: top;\n",
       "    }\n",
       "\n",
       "    .dataframe thead th {\n",
       "        text-align: right;\n",
       "    }\n",
       "</style>\n",
       "<table border=\"1\" class=\"dataframe\">\n",
       "  <thead>\n",
       "    <tr style=\"text-align: right;\">\n",
       "      <th></th>\n",
       "      <th>Brand</th>\n",
       "      <th>ProductDescription</th>\n",
       "      <th>Rate</th>\n",
       "    </tr>\n",
       "  </thead>\n",
       "  <tbody>\n",
       "    <tr>\n",
       "      <th>0</th>\n",
       "      <td>aadi</td>\n",
       "      <td>Sneakers For Men</td>\n",
       "      <td>₹453₹1,99977% off\\nFree delivery</td>\n",
       "    </tr>\n",
       "    <tr>\n",
       "      <th>1</th>\n",
       "      <td>Shozie</td>\n",
       "      <td>Stylish Walking Partywear Sneakers Casual Shoe...</td>\n",
       "      <td>₹449₹99955% off\\nFree delivery</td>\n",
       "    </tr>\n",
       "    <tr>\n",
       "      <th>2</th>\n",
       "      <td>PUMA</td>\n",
       "      <td>Puma Propelix Sneakers For Men</td>\n",
       "      <td>₹2,339₹4,49948% off\\nFree delivery</td>\n",
       "    </tr>\n",
       "    <tr>\n",
       "      <th>3</th>\n",
       "      <td>KILLER</td>\n",
       "      <td>Killer Men Grey Faux Leather Casual Lace Up Sn...</td>\n",
       "      <td>₹1,199₹3,99569% off\\nFree delivery</td>\n",
       "    </tr>\n",
       "    <tr>\n",
       "      <th>4</th>\n",
       "      <td>CAMPUS</td>\n",
       "      <td>OG-D3 Sneakers For Men</td>\n",
       "      <td>₹657₹1,39953% off\\nFree delivery</td>\n",
       "    </tr>\n",
       "    <tr>\n",
       "      <th>...</th>\n",
       "      <td>...</td>\n",
       "      <td>...</td>\n",
       "      <td>...</td>\n",
       "    </tr>\n",
       "    <tr>\n",
       "      <th>95</th>\n",
       "      <td>PUMA</td>\n",
       "      <td>Puma Rungryp Sneakers For Men</td>\n",
       "      <td>₹2,350₹4,99952% off\\nFree delivery</td>\n",
       "    </tr>\n",
       "    <tr>\n",
       "      <th>96</th>\n",
       "      <td>Roadster</td>\n",
       "      <td>Casual Shoes Sneakers For Men</td>\n",
       "      <td>₹1,349₹3,29959% off\\nFree delivery</td>\n",
       "    </tr>\n",
       "    <tr>\n",
       "      <th>97</th>\n",
       "      <td>HRX by Hrithik Roshan</td>\n",
       "      <td>CITY ESCAPE Sneakers For Men</td>\n",
       "      <td>₹980₹3,49971% off\\nFree delivery</td>\n",
       "    </tr>\n",
       "    <tr>\n",
       "      <th>98</th>\n",
       "      <td>Red Tape</td>\n",
       "      <td>Casual Sneaker Shoes for Men | Elegantly Round...</td>\n",
       "      <td>₹1,769₹5,89970% off\\nFree delivery</td>\n",
       "    </tr>\n",
       "    <tr>\n",
       "      <th>99</th>\n",
       "      <td>Red Tape</td>\n",
       "      <td>Casual Shoes| Soft Cushioned Insole, Slip-Resi...</td>\n",
       "      <td>₹1,769₹5,89970% off\\nFree delivery</td>\n",
       "    </tr>\n",
       "  </tbody>\n",
       "</table>\n",
       "<p>100 rows × 3 columns</p>\n",
       "</div>"
      ],
      "text/plain": [
       "                    Brand                                 ProductDescription  \\\n",
       "0                    aadi                                   Sneakers For Men   \n",
       "1                  Shozie  Stylish Walking Partywear Sneakers Casual Shoe...   \n",
       "2                    PUMA                     Puma Propelix Sneakers For Men   \n",
       "3                  KILLER  Killer Men Grey Faux Leather Casual Lace Up Sn...   \n",
       "4                  CAMPUS                             OG-D3 Sneakers For Men   \n",
       "..                    ...                                                ...   \n",
       "95                   PUMA                      Puma Rungryp Sneakers For Men   \n",
       "96               Roadster                      Casual Shoes Sneakers For Men   \n",
       "97  HRX by Hrithik Roshan                       CITY ESCAPE Sneakers For Men   \n",
       "98               Red Tape  Casual Sneaker Shoes for Men | Elegantly Round...   \n",
       "99               Red Tape  Casual Shoes| Soft Cushioned Insole, Slip-Resi...   \n",
       "\n",
       "                                  Rate  \n",
       "0     ₹453₹1,99977% off\\nFree delivery  \n",
       "1       ₹449₹99955% off\\nFree delivery  \n",
       "2   ₹2,339₹4,49948% off\\nFree delivery  \n",
       "3   ₹1,199₹3,99569% off\\nFree delivery  \n",
       "4     ₹657₹1,39953% off\\nFree delivery  \n",
       "..                                 ...  \n",
       "95  ₹2,350₹4,99952% off\\nFree delivery  \n",
       "96  ₹1,349₹3,29959% off\\nFree delivery  \n",
       "97    ₹980₹3,49971% off\\nFree delivery  \n",
       "98  ₹1,769₹5,89970% off\\nFree delivery  \n",
       "99  ₹1,769₹5,89970% off\\nFree delivery  \n",
       "\n",
       "[100 rows x 3 columns]"
      ]
     },
     "execution_count": 54,
     "metadata": {},
     "output_type": "execute_result"
    }
   ],
   "source": [
    "df"
   ]
  },
  {
   "cell_type": "markdown",
   "id": "9b509a92",
   "metadata": {},
   "source": [
    "# Question 5"
   ]
  },
  {
   "cell_type": "code",
   "execution_count": 79,
   "id": "86bcc19e",
   "metadata": {},
   "outputs": [],
   "source": [
    "driver = webdriver.Chrome()"
   ]
  },
  {
   "cell_type": "code",
   "execution_count": 80,
   "id": "30865def",
   "metadata": {},
   "outputs": [],
   "source": [
    "driver.get(\"https://www.amazon.in/\")"
   ]
  },
  {
   "cell_type": "code",
   "execution_count": 81,
   "id": "1c8453e4",
   "metadata": {},
   "outputs": [],
   "source": [
    "Search=driver.find_element(By.XPATH,\"/html/body/div[1]/header/div/div[1]/div[2]/div/form/div[2]/div[1]/input\")\n",
    "Search.send_keys('Laptop')"
   ]
  },
  {
   "cell_type": "code",
   "execution_count": 82,
   "id": "b783a403",
   "metadata": {},
   "outputs": [],
   "source": [
    "button=driver.find_element(By.XPATH,\"/html/body/div[1]/header/div/div[1]/div[2]/div/form/div[3]/div/span/input\")\n",
    "button.click()"
   ]
  },
  {
   "cell_type": "code",
   "execution_count": 85,
   "id": "6dc3973f",
   "metadata": {},
   "outputs": [],
   "source": [
    "button=driver.find_element(By.XPATH,\"/html/body/div[1]/div[1]/div[1]/div[2]/div/div[3]/span/div[1]/span/div/div/div[5]/ul[2]/span/span[9]/li/span/a/div\")\n",
    "button.click()"
   ]
  },
  {
   "cell_type": "code",
   "execution_count": 86,
   "id": "96d213e1",
   "metadata": {},
   "outputs": [],
   "source": [
    "NAME=[]\n",
    "RATING=[]\n",
    "PRICE=[]"
   ]
  },
  {
   "cell_type": "code",
   "execution_count": 87,
   "id": "33930693",
   "metadata": {},
   "outputs": [],
   "source": [
    "name=driver.find_elements(By.XPATH,\"//span[@class='a-size-medium a-color-base a-text-normal']\")\n",
    "for i in name:\n",
    "    jk=i.text\n",
    "    NAME.append(jk)\n",
    "NAME=NAME[:10]\n",
    "\n",
    "rating=driver.find_elements(By.XPATH,\"//span[@class='a-size-base s-underline-text']\")\n",
    "for i in rating:\n",
    "    kj=i.text\n",
    "    RATING.append(kj)\n",
    "RATING=RATING[:10]\n",
    "\n",
    "price=driver.find_elements(By.XPATH,\"//span[@class='a-price-whole']\")\n",
    "for m in price:\n",
    "    sd=m.text\n",
    "    PRICE.append(sd)\n",
    "PRICE=PRICE[:10]"
   ]
  },
  {
   "cell_type": "code",
   "execution_count": 88,
   "id": "5e6ccc76",
   "metadata": {},
   "outputs": [],
   "source": [
    "df = pd.DataFrame({\n",
    "    'Laptop name ': NAME,\n",
    "    'Ratings': RATING,\n",
    "    'price': PRICE\n",
    "})"
   ]
  },
  {
   "cell_type": "code",
   "execution_count": 89,
   "id": "9c501564",
   "metadata": {},
   "outputs": [
    {
     "data": {
      "text/html": [
       "<div>\n",
       "<style scoped>\n",
       "    .dataframe tbody tr th:only-of-type {\n",
       "        vertical-align: middle;\n",
       "    }\n",
       "\n",
       "    .dataframe tbody tr th {\n",
       "        vertical-align: top;\n",
       "    }\n",
       "\n",
       "    .dataframe thead th {\n",
       "        text-align: right;\n",
       "    }\n",
       "</style>\n",
       "<table border=\"1\" class=\"dataframe\">\n",
       "  <thead>\n",
       "    <tr style=\"text-align: right;\">\n",
       "      <th></th>\n",
       "      <th>Laptop name</th>\n",
       "      <th>Ratings</th>\n",
       "      <th>price</th>\n",
       "    </tr>\n",
       "  </thead>\n",
       "  <tbody>\n",
       "    <tr>\n",
       "      <th>0</th>\n",
       "      <td>Dell Inspiorn 5630 Laptop, Intel 13th Gen i7-1...</td>\n",
       "      <td>1</td>\n",
       "      <td>91,744</td>\n",
       "    </tr>\n",
       "    <tr>\n",
       "      <th>1</th>\n",
       "      <td>Acer Aspire Lite 12th Gen Intel Core i7-1255U ...</td>\n",
       "      <td>488</td>\n",
       "      <td>52,980</td>\n",
       "    </tr>\n",
       "    <tr>\n",
       "      <th>2</th>\n",
       "      <td>ASUS Vivobook 15, 15.6\" (39.62cm) FHD, Intel C...</td>\n",
       "      <td>20</td>\n",
       "      <td>61,990</td>\n",
       "    </tr>\n",
       "    <tr>\n",
       "      <th>3</th>\n",
       "      <td>NSXEEN Portable Laptop Stand, Aluminum Adjusta...</td>\n",
       "      <td>286</td>\n",
       "      <td>449</td>\n",
       "    </tr>\n",
       "    <tr>\n",
       "      <th>4</th>\n",
       "      <td>HP Laptop 15s, 12th Gen Intel Core i7-1255U, 1...</td>\n",
       "      <td>70</td>\n",
       "      <td>66,490</td>\n",
       "    </tr>\n",
       "    <tr>\n",
       "      <th>5</th>\n",
       "      <td>Acer Nitro V Gaming Laptop 13th Gen Intel Core...</td>\n",
       "      <td>3</td>\n",
       "      <td>87,990</td>\n",
       "    </tr>\n",
       "    <tr>\n",
       "      <th>6</th>\n",
       "      <td>MSI Thin 15, Intel 13th Gen. Core i7-13620H, 4...</td>\n",
       "      <td>2</td>\n",
       "      <td>69,990</td>\n",
       "    </tr>\n",
       "    <tr>\n",
       "      <th>7</th>\n",
       "      <td>(Refurbished) Dell Latitude 7480 14in FHD Lapt...</td>\n",
       "      <td>738</td>\n",
       "      <td>27,845</td>\n",
       "    </tr>\n",
       "    <tr>\n",
       "      <th>8</th>\n",
       "      <td>Dell [Smartchoice] G15 5530 Gaming Laptop, Int...</td>\n",
       "      <td>11</td>\n",
       "      <td>1,00,090</td>\n",
       "    </tr>\n",
       "    <tr>\n",
       "      <th>9</th>\n",
       "      <td>Dell Inspiron 3530 Laptop, 13th Generation Int...</td>\n",
       "      <td>8</td>\n",
       "      <td>69,990</td>\n",
       "    </tr>\n",
       "  </tbody>\n",
       "</table>\n",
       "</div>"
      ],
      "text/plain": [
       "                                        Laptop name  Ratings     price\n",
       "0  Dell Inspiorn 5630 Laptop, Intel 13th Gen i7-1...       1    91,744\n",
       "1  Acer Aspire Lite 12th Gen Intel Core i7-1255U ...     488    52,980\n",
       "2  ASUS Vivobook 15, 15.6\" (39.62cm) FHD, Intel C...      20    61,990\n",
       "3  NSXEEN Portable Laptop Stand, Aluminum Adjusta...     286       449\n",
       "4  HP Laptop 15s, 12th Gen Intel Core i7-1255U, 1...      70    66,490\n",
       "5  Acer Nitro V Gaming Laptop 13th Gen Intel Core...       3    87,990\n",
       "6  MSI Thin 15, Intel 13th Gen. Core i7-13620H, 4...       2    69,990\n",
       "7  (Refurbished) Dell Latitude 7480 14in FHD Lapt...     738    27,845\n",
       "8  Dell [Smartchoice] G15 5530 Gaming Laptop, Int...      11  1,00,090\n",
       "9  Dell Inspiron 3530 Laptop, 13th Generation Int...       8    69,990"
      ]
     },
     "execution_count": 89,
     "metadata": {},
     "output_type": "execute_result"
    }
   ],
   "source": [
    "df"
   ]
  },
  {
   "cell_type": "markdown",
   "id": "ef5f2dfe",
   "metadata": {},
   "source": [
    "# QUESTION 6"
   ]
  },
  {
   "cell_type": "code",
   "execution_count": 5,
   "id": "445588ff",
   "metadata": {},
   "outputs": [],
   "source": [
    "driver = webdriver.Chrome()"
   ]
  },
  {
   "cell_type": "code",
   "execution_count": 6,
   "id": "31e41e2f",
   "metadata": {},
   "outputs": [],
   "source": [
    "driver.get(\"https://www.azquotes.com/\")"
   ]
  },
  {
   "cell_type": "code",
   "execution_count": 7,
   "id": "f53477bf",
   "metadata": {},
   "outputs": [],
   "source": [
    "button=driver.find_element(By.XPATH,\"/html/body/div[1]/div[1]/div[1]/div/div[3]/ul/li[5]/a\")\n",
    "button.click()"
   ]
  },
  {
   "cell_type": "code",
   "execution_count": 8,
   "id": "66033d78",
   "metadata": {},
   "outputs": [],
   "source": [
    "Quote = []\n",
    "Author = []\n",
    "Type = []"
   ]
  },
  {
   "cell_type": "code",
   "execution_count": 9,
   "id": "98f8fe96",
   "metadata": {},
   "outputs": [
    {
     "name": "stdout",
     "output_type": "stream",
     "text": [
      "Scraping page: 1\n",
      "Scraping page: 2\n",
      "Scraping page: 3\n",
      "Scraping page: 4\n",
      "Scraping page: 5\n",
      "Scraping page: 6\n",
      "Scraping page: 7\n",
      "Scraping page: 8\n",
      "Scraping page: 9\n",
      "Scraping page: 10\n",
      "done \n"
     ]
    }
   ],
   "source": [
    "for i in range(10):\n",
    "    print('Scraping page:', i+1)\n",
    "    quote=driver.find_elements(By.XPATH,\"//div[@class='wrap-block']/p/a[2]\")\n",
    "    for a in quote:\n",
    "        te=a.text\n",
    "        Quote.append(te)\n",
    "    Aname=driver.find_elements(By.XPATH,\"//div[@class='wrap-block']/div/a\")\n",
    "    for P in Aname:\n",
    "        Pr=P.text\n",
    "        Author.append(Pr)\n",
    "    types=driver.find_elements(By.XPATH,\"//div[@class='wrap-block']/div[2]/div[1]/a[1]\")\n",
    "    for R in types:\n",
    "        fuu=R.text\n",
    "        Type.append(fuu)\n",
    "\n",
    "    try:\n",
    "        next_button = driver.find_element(By.XPATH,\"//li[@class='next']\")\n",
    "        next_button.click()\n",
    "        time.sleep(2)\n",
    "    except:\n",
    "        print(\"done \")\n",
    "        break"
   ]
  },
  {
   "cell_type": "code",
   "execution_count": 10,
   "id": "b0f0ce2f",
   "metadata": {},
   "outputs": [],
   "source": [
    "df = pd.DataFrame({\n",
    "    'Quote': Quote,\n",
    "    'Author_Name': Author,\n",
    "    'Type Of Quotes': Type\n",
    "})"
   ]
  },
  {
   "cell_type": "code",
   "execution_count": 11,
   "id": "0de15f1f",
   "metadata": {},
   "outputs": [
    {
     "data": {
      "text/html": [
       "<div>\n",
       "<style scoped>\n",
       "    .dataframe tbody tr th:only-of-type {\n",
       "        vertical-align: middle;\n",
       "    }\n",
       "\n",
       "    .dataframe tbody tr th {\n",
       "        vertical-align: top;\n",
       "    }\n",
       "\n",
       "    .dataframe thead th {\n",
       "        text-align: right;\n",
       "    }\n",
       "</style>\n",
       "<table border=\"1\" class=\"dataframe\">\n",
       "  <thead>\n",
       "    <tr style=\"text-align: right;\">\n",
       "      <th></th>\n",
       "      <th>Quote</th>\n",
       "      <th>Author_Name</th>\n",
       "      <th>Type Of Quotes</th>\n",
       "    </tr>\n",
       "  </thead>\n",
       "  <tbody>\n",
       "    <tr>\n",
       "      <th>0</th>\n",
       "      <td>The essence of strategy is choosing what not t...</td>\n",
       "      <td>Michael Porter</td>\n",
       "      <td>Essence</td>\n",
       "    </tr>\n",
       "    <tr>\n",
       "      <th>1</th>\n",
       "      <td>One cannot and must not try to erase the past ...</td>\n",
       "      <td>Golda Meir</td>\n",
       "      <td>Inspiration</td>\n",
       "    </tr>\n",
       "    <tr>\n",
       "      <th>2</th>\n",
       "      <td>Patriotism means to stand by the country. It d...</td>\n",
       "      <td>Theodore Roosevelt</td>\n",
       "      <td>Country</td>\n",
       "    </tr>\n",
       "    <tr>\n",
       "      <th>3</th>\n",
       "      <td>Death is something inevitable. When a man has ...</td>\n",
       "      <td>Nelson Mandela</td>\n",
       "      <td>Inspirational</td>\n",
       "    </tr>\n",
       "    <tr>\n",
       "      <th>4</th>\n",
       "      <td>You have to love a nation that celebrates its ...</td>\n",
       "      <td>Erma Bombeck</td>\n",
       "      <td>4th Of July</td>\n",
       "    </tr>\n",
       "    <tr>\n",
       "      <th>...</th>\n",
       "      <td>...</td>\n",
       "      <td>...</td>\n",
       "      <td>...</td>\n",
       "    </tr>\n",
       "    <tr>\n",
       "      <th>995</th>\n",
       "      <td>Regret for the things we did can be tempered b...</td>\n",
       "      <td>Sydney J. Harris</td>\n",
       "      <td>Love</td>\n",
       "    </tr>\n",
       "    <tr>\n",
       "      <th>996</th>\n",
       "      <td>America... just a nation of two hundred millio...</td>\n",
       "      <td>Hunter S. Thompson</td>\n",
       "      <td>Gun</td>\n",
       "    </tr>\n",
       "    <tr>\n",
       "      <th>997</th>\n",
       "      <td>For every disciplined effort there is a multip...</td>\n",
       "      <td>Jim Rohn</td>\n",
       "      <td>Inspirational</td>\n",
       "    </tr>\n",
       "    <tr>\n",
       "      <th>998</th>\n",
       "      <td>The spiritual journey is individual, highly pe...</td>\n",
       "      <td>Ram Dass</td>\n",
       "      <td>Spiritual</td>\n",
       "    </tr>\n",
       "    <tr>\n",
       "      <th>999</th>\n",
       "      <td>The mind is not a vessel to be filled but a fi...</td>\n",
       "      <td>Plutarch</td>\n",
       "      <td>Inspirational</td>\n",
       "    </tr>\n",
       "  </tbody>\n",
       "</table>\n",
       "<p>1000 rows × 3 columns</p>\n",
       "</div>"
      ],
      "text/plain": [
       "                                                 Quote         Author_Name  \\\n",
       "0    The essence of strategy is choosing what not t...      Michael Porter   \n",
       "1    One cannot and must not try to erase the past ...          Golda Meir   \n",
       "2    Patriotism means to stand by the country. It d...  Theodore Roosevelt   \n",
       "3    Death is something inevitable. When a man has ...      Nelson Mandela   \n",
       "4    You have to love a nation that celebrates its ...        Erma Bombeck   \n",
       "..                                                 ...                 ...   \n",
       "995  Regret for the things we did can be tempered b...    Sydney J. Harris   \n",
       "996  America... just a nation of two hundred millio...  Hunter S. Thompson   \n",
       "997  For every disciplined effort there is a multip...            Jim Rohn   \n",
       "998  The spiritual journey is individual, highly pe...            Ram Dass   \n",
       "999  The mind is not a vessel to be filled but a fi...            Plutarch   \n",
       "\n",
       "    Type Of Quotes  \n",
       "0          Essence  \n",
       "1      Inspiration  \n",
       "2          Country  \n",
       "3    Inspirational  \n",
       "4      4th Of July  \n",
       "..             ...  \n",
       "995           Love  \n",
       "996            Gun  \n",
       "997  Inspirational  \n",
       "998      Spiritual  \n",
       "999  Inspirational  \n",
       "\n",
       "[1000 rows x 3 columns]"
      ]
     },
     "execution_count": 11,
     "metadata": {},
     "output_type": "execute_result"
    }
   ],
   "source": [
    "df"
   ]
  },
  {
   "cell_type": "markdown",
   "id": "65d195e4",
   "metadata": {},
   "source": [
    "# Question No.7 "
   ]
  },
  {
   "cell_type": "code",
   "execution_count": 12,
   "id": "60557ee1",
   "metadata": {},
   "outputs": [],
   "source": [
    "driver = webdriver.Chrome()"
   ]
  },
  {
   "cell_type": "code",
   "execution_count": 13,
   "id": "77accb3b",
   "metadata": {},
   "outputs": [],
   "source": [
    "driver.get(\"https://www.jagranjosh.com/general-knowledge/list-of-all-prime-ministers-of-india-1473165149-1\")"
   ]
  },
  {
   "cell_type": "code",
   "execution_count": 63,
   "id": "8baa59a6",
   "metadata": {},
   "outputs": [],
   "source": [
    "name = []\n",
    "age = [] \n",
    "terms = []\n",
    "ending = []\n",
    "Remark = []"
   ]
  },
  {
   "cell_type": "code",
   "execution_count": 62,
   "id": "8334cab2",
   "metadata": {},
   "outputs": [],
   "source": [
    "Remark.clear()"
   ]
  },
  {
   "cell_type": "code",
   "execution_count": 64,
   "id": "4309a27d",
   "metadata": {},
   "outputs": [],
   "source": [
    "named=driver.find_elements(By.XPATH,\"//tbody/tr/td[2]\")\n",
    "for i in named:\n",
    "    tf=i.text\n",
    "    name.append(tf)\n",
    "name=name[1:-1]\n",
    "\n",
    "\n",
    "DOB=driver.find_elements(By.XPATH,\"//tbody/tr/td[3]\")\n",
    "for f in DOB:\n",
    "    df=f.text\n",
    "    age.append(df)\n",
    "age=age[1:]\n",
    "\n",
    "\n",
    "Term=driver.find_elements(By.XPATH,\"//tbody/tr/td[4]\")\n",
    "for h in Term:\n",
    "    gh=h.text\n",
    "    terms.append(gh)\n",
    "terms=terms[1:]\n",
    "\n",
    "end=driver.find_elements(By.XPATH,\"//tbody/tr/td[5]\")\n",
    "for t in end:\n",
    "    hg=t.text\n",
    "    ending.append(hg)\n",
    "ending=ending[1:]\n",
    "\n",
    "remar=driver.find_elements(By.XPATH,\"//tbody/tr/td[6]\")\n",
    "for i in remar:\n",
    "    f=i.text\n",
    "    Remark.append(f)\n"
   ]
  },
  {
   "cell_type": "code",
   "execution_count": 55,
   "id": "f5fbe53d",
   "metadata": {},
   "outputs": [
    {
     "data": {
      "text/plain": [
       "18"
      ]
     },
     "execution_count": 55,
     "metadata": {},
     "output_type": "execute_result"
    }
   ],
   "source": [
    "len(Remark)"
   ]
  },
  {
   "cell_type": "code",
   "execution_count": 56,
   "id": "1d1f8e17",
   "metadata": {},
   "outputs": [
    {
     "data": {
      "text/plain": [
       "18"
      ]
     },
     "execution_count": 56,
     "metadata": {},
     "output_type": "execute_result"
    }
   ],
   "source": [
    "len(ending)"
   ]
  },
  {
   "cell_type": "code",
   "execution_count": 57,
   "id": "e62beab0",
   "metadata": {},
   "outputs": [
    {
     "data": {
      "text/plain": [
       "58"
      ]
     },
     "execution_count": 57,
     "metadata": {},
     "output_type": "execute_result"
    }
   ],
   "source": [
    "len(name)"
   ]
  },
  {
   "cell_type": "code",
   "execution_count": 47,
   "id": "ee8ba61b",
   "metadata": {},
   "outputs": [
    {
     "data": {
      "text/plain": [
       "0"
      ]
     },
     "execution_count": 47,
     "metadata": {},
     "output_type": "execute_result"
    }
   ],
   "source": [
    "len(Age)"
   ]
  },
  {
   "cell_type": "code",
   "execution_count": 39,
   "id": "95703f7f",
   "metadata": {},
   "outputs": [
    {
     "data": {
      "text/plain": [
       "19"
      ]
     },
     "execution_count": 39,
     "metadata": {},
     "output_type": "execute_result"
    }
   ],
   "source": [
    "len(Terms)"
   ]
  },
  {
   "cell_type": "code",
   "execution_count": 40,
   "id": "b77fb6b9",
   "metadata": {},
   "outputs": [],
   "source": [
    "Terms=Terms[1:]"
   ]
  },
  {
   "cell_type": "code",
   "execution_count": 46,
   "id": "8f2cb576",
   "metadata": {},
   "outputs": [
    {
     "data": {
      "text/plain": [
       "18"
      ]
     },
     "execution_count": 46,
     "metadata": {},
     "output_type": "execute_result"
    }
   ],
   "source": [
    "len(Terms)"
   ]
  },
  {
   "cell_type": "code",
   "execution_count": 65,
   "id": "263c965a",
   "metadata": {},
   "outputs": [],
   "source": [
    "df = pd.DataFrame({\n",
    "    'Name': name,\n",
    "    'Age': age,\n",
    "    'term_of_office_start': terms,\n",
    "    'term_of_office_End': ending,\n",
    "    'Duration_remarks': Remark\n",
    "})"
   ]
  },
  {
   "cell_type": "code",
   "execution_count": 66,
   "id": "e24cbd9f",
   "metadata": {},
   "outputs": [
    {
     "data": {
      "text/html": [
       "<div>\n",
       "<style scoped>\n",
       "    .dataframe tbody tr th:only-of-type {\n",
       "        vertical-align: middle;\n",
       "    }\n",
       "\n",
       "    .dataframe tbody tr th {\n",
       "        vertical-align: top;\n",
       "    }\n",
       "\n",
       "    .dataframe thead th {\n",
       "        text-align: right;\n",
       "    }\n",
       "</style>\n",
       "<table border=\"1\" class=\"dataframe\">\n",
       "  <thead>\n",
       "    <tr style=\"text-align: right;\">\n",
       "      <th></th>\n",
       "      <th>Name</th>\n",
       "      <th>Age</th>\n",
       "      <th>term_of_office_start</th>\n",
       "      <th>term_of_office_End</th>\n",
       "      <th>Duration_remarks</th>\n",
       "    </tr>\n",
       "  </thead>\n",
       "  <tbody>\n",
       "    <tr>\n",
       "      <th>0</th>\n",
       "      <td>Jawaharlal Nehru</td>\n",
       "      <td>57 years, 274 days</td>\n",
       "      <td>15 August1947</td>\n",
       "      <td>27 May 1964</td>\n",
       "      <td>16 years, 286 days</td>\n",
       "    </tr>\n",
       "    <tr>\n",
       "      <th>1</th>\n",
       "      <td>Gulzarilal Nanda</td>\n",
       "      <td>65 years, 328 days</td>\n",
       "      <td>27 May 1964</td>\n",
       "      <td>9 June 1964</td>\n",
       "      <td>13 days</td>\n",
       "    </tr>\n",
       "    <tr>\n",
       "      <th>2</th>\n",
       "      <td>Lal Bahadur Shastri</td>\n",
       "      <td>62 years, 250 days</td>\n",
       "      <td>9 June 1964</td>\n",
       "      <td>11 January 1966</td>\n",
       "      <td>1 year, 216 days</td>\n",
       "    </tr>\n",
       "    <tr>\n",
       "      <th>3</th>\n",
       "      <td>Gulzarilal Nanda</td>\n",
       "      <td>67 years, 191 days</td>\n",
       "      <td>11 January 1966</td>\n",
       "      <td>24 January 1966</td>\n",
       "      <td>13 days</td>\n",
       "    </tr>\n",
       "    <tr>\n",
       "      <th>4</th>\n",
       "      <td>Indira Gandhi</td>\n",
       "      <td>48 years, 66 days</td>\n",
       "      <td>24 January 1966</td>\n",
       "      <td>24 March 1977</td>\n",
       "      <td>11 years, 59 days</td>\n",
       "    </tr>\n",
       "    <tr>\n",
       "      <th>5</th>\n",
       "      <td>Morarji Desai</td>\n",
       "      <td>81 years, 24 days</td>\n",
       "      <td>24 March 1977</td>\n",
       "      <td>28 July 1979</td>\n",
       "      <td>2 years, 126 days</td>\n",
       "    </tr>\n",
       "    <tr>\n",
       "      <th>6</th>\n",
       "      <td>Charan Singh</td>\n",
       "      <td>76 years, 217 days</td>\n",
       "      <td>28 July 1979</td>\n",
       "      <td>14 January 1980</td>\n",
       "      <td>170 days</td>\n",
       "    </tr>\n",
       "    <tr>\n",
       "      <th>7</th>\n",
       "      <td>Indira Gandhi</td>\n",
       "      <td>62 years, 56 days</td>\n",
       "      <td>14 January 1980</td>\n",
       "      <td>31 October 1984</td>\n",
       "      <td>4 years, 291 days</td>\n",
       "    </tr>\n",
       "    <tr>\n",
       "      <th>8</th>\n",
       "      <td>Rajiv Gandhi</td>\n",
       "      <td>40 years, 72 days</td>\n",
       "      <td>31 October 1984</td>\n",
       "      <td>2 December 1989</td>\n",
       "      <td>5 years, 32 days</td>\n",
       "    </tr>\n",
       "    <tr>\n",
       "      <th>9</th>\n",
       "      <td>Vishwanath Pratap Singh</td>\n",
       "      <td>58 years, 160 days</td>\n",
       "      <td>2 December 1989</td>\n",
       "      <td>10 November 1990</td>\n",
       "      <td>343 days</td>\n",
       "    </tr>\n",
       "    <tr>\n",
       "      <th>10</th>\n",
       "      <td>Chandra Shekhar</td>\n",
       "      <td>63 years, 207 days</td>\n",
       "      <td>10 November 1990</td>\n",
       "      <td>21 June 1991</td>\n",
       "      <td>223 days</td>\n",
       "    </tr>\n",
       "    <tr>\n",
       "      <th>11</th>\n",
       "      <td>P. V. Narasimha Rao</td>\n",
       "      <td>69 years, 358 days</td>\n",
       "      <td>21 June 1991</td>\n",
       "      <td>16 May 1996</td>\n",
       "      <td>4 years, 330 days</td>\n",
       "    </tr>\n",
       "    <tr>\n",
       "      <th>12</th>\n",
       "      <td>Atal Bihari Vajpayee</td>\n",
       "      <td>71 years, 143 days</td>\n",
       "      <td>16 May 1996</td>\n",
       "      <td>1 June 1996</td>\n",
       "      <td>16 days</td>\n",
       "    </tr>\n",
       "    <tr>\n",
       "      <th>13</th>\n",
       "      <td>H. D. Deve Gowda</td>\n",
       "      <td>63 years, 14 days</td>\n",
       "      <td>1 June 1996</td>\n",
       "      <td>21 April 1997</td>\n",
       "      <td>324 days</td>\n",
       "    </tr>\n",
       "    <tr>\n",
       "      <th>14</th>\n",
       "      <td>Inder Kumar Gujral</td>\n",
       "      <td>77 years, 138 days</td>\n",
       "      <td>21 April 1997</td>\n",
       "      <td>19 March 1998</td>\n",
       "      <td>332 days</td>\n",
       "    </tr>\n",
       "    <tr>\n",
       "      <th>15</th>\n",
       "      <td>Atal Bihari Vajpayee</td>\n",
       "      <td>73 years, 84 days</td>\n",
       "      <td>19 March 1998</td>\n",
       "      <td>22 May 2004</td>\n",
       "      <td>6 years, 64 days</td>\n",
       "    </tr>\n",
       "    <tr>\n",
       "      <th>16</th>\n",
       "      <td>Manmohan Singh</td>\n",
       "      <td>71 years, 239 days</td>\n",
       "      <td>22 May 2004</td>\n",
       "      <td>26 May 2014</td>\n",
       "      <td>10 years, 4 days</td>\n",
       "    </tr>\n",
       "    <tr>\n",
       "      <th>17</th>\n",
       "      <td>Narendra Modi</td>\n",
       "      <td>63 years, 251 days</td>\n",
       "      <td>26 May 2014</td>\n",
       "      <td>Incumbent</td>\n",
       "      <td>10 years, 87 days</td>\n",
       "    </tr>\n",
       "  </tbody>\n",
       "</table>\n",
       "</div>"
      ],
      "text/plain": [
       "                       Name                 Age term_of_office_start  \\\n",
       "0          Jawaharlal Nehru  57 years, 274 days        15 August1947   \n",
       "1          Gulzarilal Nanda  65 years, 328 days          27 May 1964   \n",
       "2       Lal Bahadur Shastri  62 years, 250 days          9 June 1964   \n",
       "3          Gulzarilal Nanda  67 years, 191 days      11 January 1966   \n",
       "4             Indira Gandhi   48 years, 66 days      24 January 1966   \n",
       "5             Morarji Desai   81 years, 24 days        24 March 1977   \n",
       "6              Charan Singh  76 years, 217 days         28 July 1979   \n",
       "7             Indira Gandhi   62 years, 56 days      14 January 1980   \n",
       "8              Rajiv Gandhi   40 years, 72 days      31 October 1984   \n",
       "9   Vishwanath Pratap Singh  58 years, 160 days      2 December 1989   \n",
       "10          Chandra Shekhar  63 years, 207 days     10 November 1990   \n",
       "11      P. V. Narasimha Rao  69 years, 358 days         21 June 1991   \n",
       "12     Atal Bihari Vajpayee  71 years, 143 days          16 May 1996   \n",
       "13         H. D. Deve Gowda   63 years, 14 days          1 June 1996   \n",
       "14       Inder Kumar Gujral  77 years, 138 days        21 April 1997   \n",
       "15     Atal Bihari Vajpayee   73 years, 84 days        19 March 1998   \n",
       "16           Manmohan Singh  71 years, 239 days          22 May 2004   \n",
       "17            Narendra Modi  63 years, 251 days          26 May 2014   \n",
       "\n",
       "   term_of_office_End    Duration_remarks  \n",
       "0         27 May 1964  16 years, 286 days  \n",
       "1         9 June 1964             13 days  \n",
       "2     11 January 1966    1 year, 216 days  \n",
       "3     24 January 1966             13 days  \n",
       "4       24 March 1977   11 years, 59 days  \n",
       "5        28 July 1979   2 years, 126 days  \n",
       "6     14 January 1980            170 days  \n",
       "7     31 October 1984   4 years, 291 days  \n",
       "8     2 December 1989    5 years, 32 days  \n",
       "9    10 November 1990            343 days  \n",
       "10       21 June 1991            223 days  \n",
       "11        16 May 1996   4 years, 330 days  \n",
       "12        1 June 1996             16 days  \n",
       "13      21 April 1997            324 days  \n",
       "14      19 March 1998            332 days  \n",
       "15        22 May 2004    6 years, 64 days  \n",
       "16        26 May 2014    10 years, 4 days  \n",
       "17          Incumbent   10 years, 87 days  "
      ]
     },
     "execution_count": 66,
     "metadata": {},
     "output_type": "execute_result"
    }
   ],
   "source": [
    "df"
   ]
  },
  {
   "cell_type": "markdown",
   "id": "d1130adf",
   "metadata": {},
   "source": [
    "# Question No. 8 "
   ]
  },
  {
   "cell_type": "code",
   "execution_count": 67,
   "id": "dbc4b9c7",
   "metadata": {},
   "outputs": [],
   "source": [
    "driver = webdriver.Chrome()"
   ]
  },
  {
   "cell_type": "code",
   "execution_count": 68,
   "id": "62a2e1f2",
   "metadata": {},
   "outputs": [],
   "source": [
    "driver.get(\"https://www.motor1.com/\")"
   ]
  },
  {
   "cell_type": "code",
   "execution_count": 69,
   "id": "451e5ffa",
   "metadata": {},
   "outputs": [],
   "source": [
    "Search=driver.find_element(By.XPATH,\"/html/body/div[9]/div[2]/div/div/div[3]/div/div/div/form/input\")\n",
    "Search.send_keys('50 most expensive cars')"
   ]
  },
  {
   "cell_type": "code",
   "execution_count": 71,
   "id": "fd7ddef4",
   "metadata": {},
   "outputs": [],
   "source": [
    "button=driver.find_element(By.XPATH,\"/html/body/div[9]/div[2]/div/div/div[3]/div/div/div/form/button[1]\")\n",
    "button.click()"
   ]
  },
  {
   "cell_type": "code",
   "execution_count": 72,
   "id": "1523afd4",
   "metadata": {},
   "outputs": [],
   "source": [
    "button=driver.find_element(By.XPATH,\"/html/body/div[9]/div[9]/div/div[1]/div/div/div[1]/div/div[1]/h3/a\")\n",
    "button.click()"
   ]
  },
  {
   "cell_type": "code",
   "execution_count": 73,
   "id": "7a83f319",
   "metadata": {},
   "outputs": [],
   "source": [
    "name=[]\n",
    "price=[]"
   ]
  },
  {
   "cell_type": "code",
   "execution_count": 74,
   "id": "401485b8",
   "metadata": {},
   "outputs": [],
   "source": [
    "car=driver.find_elements(By.XPATH,\"//h3[@class='subheader']\")\n",
    "for i in car:\n",
    "    rt=i.text\n",
    "    name.append(rt)\n",
    "name=name[:-1]\n",
    "\n",
    "pp=driver.find_elements(By.XPATH,\"//strong\")\n",
    "for j in pp:\n",
    "    tt=j.text\n",
    "    price.append(tt)\n"
   ]
  },
  {
   "cell_type": "code",
   "execution_count": 75,
   "id": "cf0adb71",
   "metadata": {},
   "outputs": [
    {
     "data": {
      "text/plain": [
       "50"
      ]
     },
     "execution_count": 75,
     "metadata": {},
     "output_type": "execute_result"
    }
   ],
   "source": [
    "len(name)"
   ]
  },
  {
   "cell_type": "code",
   "execution_count": 76,
   "id": "8eb780a5",
   "metadata": {},
   "outputs": [
    {
     "data": {
      "text/plain": [
       "50"
      ]
     },
     "execution_count": 76,
     "metadata": {},
     "output_type": "execute_result"
    }
   ],
   "source": [
    "len(price)"
   ]
  },
  {
   "cell_type": "code",
   "execution_count": 77,
   "id": "d039652b",
   "metadata": {},
   "outputs": [],
   "source": [
    "df = pd.DataFrame({\n",
    "    'Car_Name': name,\n",
    "    'Price': price,\n",
    "})"
   ]
  },
  {
   "cell_type": "code",
   "execution_count": 78,
   "id": "5171f979",
   "metadata": {},
   "outputs": [
    {
     "data": {
      "text/html": [
       "<div>\n",
       "<style scoped>\n",
       "    .dataframe tbody tr th:only-of-type {\n",
       "        vertical-align: middle;\n",
       "    }\n",
       "\n",
       "    .dataframe tbody tr th {\n",
       "        vertical-align: top;\n",
       "    }\n",
       "\n",
       "    .dataframe thead th {\n",
       "        text-align: right;\n",
       "    }\n",
       "</style>\n",
       "<table border=\"1\" class=\"dataframe\">\n",
       "  <thead>\n",
       "    <tr style=\"text-align: right;\">\n",
       "      <th></th>\n",
       "      <th>Car_Name</th>\n",
       "      <th>Price</th>\n",
       "    </tr>\n",
       "  </thead>\n",
       "  <tbody>\n",
       "    <tr>\n",
       "      <th>0</th>\n",
       "      <td>McLaren Senna GTR</td>\n",
       "      <td>$1.7 Million</td>\n",
       "    </tr>\n",
       "    <tr>\n",
       "      <th>1</th>\n",
       "      <td>Czinger 21C</td>\n",
       "      <td>Price: $1.7 Million</td>\n",
       "    </tr>\n",
       "    <tr>\n",
       "      <th>2</th>\n",
       "      <td>Ferrari Monza</td>\n",
       "      <td>Price: $1.7 Million</td>\n",
       "    </tr>\n",
       "    <tr>\n",
       "      <th>3</th>\n",
       "      <td>Gordon Murray T.33</td>\n",
       "      <td>Price: $1.7 Million</td>\n",
       "    </tr>\n",
       "    <tr>\n",
       "      <th>4</th>\n",
       "      <td>Koenigsegg Gemera</td>\n",
       "      <td>Price: $1.7 Million</td>\n",
       "    </tr>\n",
       "    <tr>\n",
       "      <th>5</th>\n",
       "      <td>Hennessey Venom F5</td>\n",
       "      <td>Price: $1.8 Million</td>\n",
       "    </tr>\n",
       "    <tr>\n",
       "      <th>6</th>\n",
       "      <td>Bentley Bacalar</td>\n",
       "      <td>Price: $1.9 Million</td>\n",
       "    </tr>\n",
       "    <tr>\n",
       "      <th>7</th>\n",
       "      <td>Hispano Suiza Carmen Boulogne</td>\n",
       "      <td>Price: $1.9 Million</td>\n",
       "    </tr>\n",
       "    <tr>\n",
       "      <th>8</th>\n",
       "      <td>Bentley Mulliner Batur</td>\n",
       "      <td>Price: $2.0 Million</td>\n",
       "    </tr>\n",
       "    <tr>\n",
       "      <th>9</th>\n",
       "      <td>SSC Tuatara</td>\n",
       "      <td>Price: $2.0 Million</td>\n",
       "    </tr>\n",
       "    <tr>\n",
       "      <th>10</th>\n",
       "      <td>Lotus Evija</td>\n",
       "      <td>Price: $2.1 Million</td>\n",
       "    </tr>\n",
       "    <tr>\n",
       "      <th>11</th>\n",
       "      <td>Aston Martin Vulcan</td>\n",
       "      <td>Price: $2.3 Million</td>\n",
       "    </tr>\n",
       "    <tr>\n",
       "      <th>12</th>\n",
       "      <td>Delage D12</td>\n",
       "      <td>Price: $2.3 Million</td>\n",
       "    </tr>\n",
       "    <tr>\n",
       "      <th>13</th>\n",
       "      <td>Ferrari Daytona SP3</td>\n",
       "      <td>Price: $2.3 Million</td>\n",
       "    </tr>\n",
       "    <tr>\n",
       "      <th>14</th>\n",
       "      <td>McLaren Speedtail</td>\n",
       "      <td>Price: $2.3 Million</td>\n",
       "    </tr>\n",
       "    <tr>\n",
       "      <th>15</th>\n",
       "      <td>Rimac Nevera</td>\n",
       "      <td>Price: $2.4 Million</td>\n",
       "    </tr>\n",
       "    <tr>\n",
       "      <th>16</th>\n",
       "      <td>Pagani Utopia</td>\n",
       "      <td>Price: $2.5 Million</td>\n",
       "    </tr>\n",
       "    <tr>\n",
       "      <th>17</th>\n",
       "      <td>Pininfarina Battista</td>\n",
       "      <td>Price: $2.5 Million</td>\n",
       "    </tr>\n",
       "    <tr>\n",
       "      <th>18</th>\n",
       "      <td>Gordon Murray T.50</td>\n",
       "      <td>Price: $2.6 Million</td>\n",
       "    </tr>\n",
       "    <tr>\n",
       "      <th>19</th>\n",
       "      <td>Lamborghini Countach</td>\n",
       "      <td>Price: $2.6 Million</td>\n",
       "    </tr>\n",
       "    <tr>\n",
       "      <th>20</th>\n",
       "      <td>Hennessey Venom F5 Revolution</td>\n",
       "      <td>$2.7 Million</td>\n",
       "    </tr>\n",
       "    <tr>\n",
       "      <th>21</th>\n",
       "      <td>Mercedes-AMG Project One</td>\n",
       "      <td>Price: $2.7 Million</td>\n",
       "    </tr>\n",
       "    <tr>\n",
       "      <th>22</th>\n",
       "      <td>Zenvo Aurora</td>\n",
       "      <td>Price: $2.8 Million</td>\n",
       "    </tr>\n",
       "    <tr>\n",
       "      <th>23</th>\n",
       "      <td>Aston Martin Victor</td>\n",
       "      <td>Price: $3.0 Million</td>\n",
       "    </tr>\n",
       "    <tr>\n",
       "      <th>24</th>\n",
       "      <td>Hennessey Venom F5 Roadster</td>\n",
       "      <td>$3.0 Million</td>\n",
       "    </tr>\n",
       "    <tr>\n",
       "      <th>25</th>\n",
       "      <td>Koenigsegg Jesko</td>\n",
       "      <td>Price: $3.0 Million</td>\n",
       "    </tr>\n",
       "    <tr>\n",
       "      <th>26</th>\n",
       "      <td>Aspark Owl</td>\n",
       "      <td>$3.1 Million</td>\n",
       "    </tr>\n",
       "    <tr>\n",
       "      <th>27</th>\n",
       "      <td>Aston Martin Valkyrie</td>\n",
       "      <td>Price: $3.2 Million</td>\n",
       "    </tr>\n",
       "    <tr>\n",
       "      <th>28</th>\n",
       "      <td>W Motors Lykan Hypersport</td>\n",
       "      <td>Price: $3.4 Million</td>\n",
       "    </tr>\n",
       "    <tr>\n",
       "      <th>29</th>\n",
       "      <td>McLaren Solus</td>\n",
       "      <td>$3.5 Million</td>\n",
       "    </tr>\n",
       "    <tr>\n",
       "      <th>30</th>\n",
       "      <td>Pagani Huayra Evo R</td>\n",
       "      <td>$3.5 Million (est.)</td>\n",
       "    </tr>\n",
       "    <tr>\n",
       "      <th>31</th>\n",
       "      <td>Lamborghini Sian</td>\n",
       "      <td>Price: $3.6 million</td>\n",
       "    </tr>\n",
       "    <tr>\n",
       "      <th>32</th>\n",
       "      <td>Koenigsegg CC850</td>\n",
       "      <td>Price: $3.7 Million</td>\n",
       "    </tr>\n",
       "    <tr>\n",
       "      <th>33</th>\n",
       "      <td>Bugatti Chiron Super Sport 300+</td>\n",
       "      <td>Price: $3.9 Million</td>\n",
       "    </tr>\n",
       "    <tr>\n",
       "      <th>34</th>\n",
       "      <td>Gordon Murray Automotive T.50s Niki Lauda</td>\n",
       "      <td>$3.9 Million</td>\n",
       "    </tr>\n",
       "    <tr>\n",
       "      <th>35</th>\n",
       "      <td>Pagani Huayra Roadster BC</td>\n",
       "      <td>$4.0 Million</td>\n",
       "    </tr>\n",
       "    <tr>\n",
       "      <th>36</th>\n",
       "      <td>Lamborghini Veneno</td>\n",
       "      <td>Price: $4.5 Million</td>\n",
       "    </tr>\n",
       "    <tr>\n",
       "      <th>37</th>\n",
       "      <td>Bugatti Bolide</td>\n",
       "      <td>Price: $4.7 Million</td>\n",
       "    </tr>\n",
       "    <tr>\n",
       "      <th>38</th>\n",
       "      <td>Pininfarina B95 Speedster</td>\n",
       "      <td>Price: $4.8 Million</td>\n",
       "    </tr>\n",
       "    <tr>\n",
       "      <th>39</th>\n",
       "      <td>Bugatti Mistral</td>\n",
       "      <td>Price: $5.0 Million</td>\n",
       "    </tr>\n",
       "    <tr>\n",
       "      <th>40</th>\n",
       "      <td>Bugatti Divo</td>\n",
       "      <td>Price: $5.8 Million</td>\n",
       "    </tr>\n",
       "    <tr>\n",
       "      <th>41</th>\n",
       "      <td>Pagani Huayra Imola</td>\n",
       "      <td>$6.0 Million</td>\n",
       "    </tr>\n",
       "    <tr>\n",
       "      <th>42</th>\n",
       "      <td>Pagani Codalunga</td>\n",
       "      <td>Price: $7.4 Million</td>\n",
       "    </tr>\n",
       "    <tr>\n",
       "      <th>43</th>\n",
       "      <td>Mercedes-Maybach Exelero</td>\n",
       "      <td>Price: $8.0 Million</td>\n",
       "    </tr>\n",
       "    <tr>\n",
       "      <th>44</th>\n",
       "      <td>Bugatti Centodieci</td>\n",
       "      <td>Price: $9.0 Million</td>\n",
       "    </tr>\n",
       "    <tr>\n",
       "      <th>45</th>\n",
       "      <td>Bugatti Chiron Profilée</td>\n",
       "      <td>Price: $10.8 Million</td>\n",
       "    </tr>\n",
       "    <tr>\n",
       "      <th>46</th>\n",
       "      <td>Rolls-Royce Sweptail</td>\n",
       "      <td>Price: $12.8 Million</td>\n",
       "    </tr>\n",
       "    <tr>\n",
       "      <th>47</th>\n",
       "      <td>Bugatti La Voiture Noire</td>\n",
       "      <td>Price: $13.4 Million</td>\n",
       "    </tr>\n",
       "    <tr>\n",
       "      <th>48</th>\n",
       "      <td>Rolls-Royce Boat Tail</td>\n",
       "      <td>Price: $28.0 Million (est.)</td>\n",
       "    </tr>\n",
       "    <tr>\n",
       "      <th>49</th>\n",
       "      <td>Rolls-Royce La Rose Noire Droptail</td>\n",
       "      <td>Price: $30 Million (est.)</td>\n",
       "    </tr>\n",
       "  </tbody>\n",
       "</table>\n",
       "</div>"
      ],
      "text/plain": [
       "                                     Car_Name                        Price\n",
       "0                           McLaren Senna GTR                 $1.7 Million\n",
       "1                                 Czinger 21C          Price: $1.7 Million\n",
       "2                               Ferrari Monza          Price: $1.7 Million\n",
       "3                          Gordon Murray T.33          Price: $1.7 Million\n",
       "4                           Koenigsegg Gemera          Price: $1.7 Million\n",
       "5                          Hennessey Venom F5          Price: $1.8 Million\n",
       "6                             Bentley Bacalar          Price: $1.9 Million\n",
       "7               Hispano Suiza Carmen Boulogne          Price: $1.9 Million\n",
       "8                      Bentley Mulliner Batur          Price: $2.0 Million\n",
       "9                                 SSC Tuatara          Price: $2.0 Million\n",
       "10                                Lotus Evija          Price: $2.1 Million\n",
       "11                        Aston Martin Vulcan          Price: $2.3 Million\n",
       "12                                 Delage D12          Price: $2.3 Million\n",
       "13                        Ferrari Daytona SP3          Price: $2.3 Million\n",
       "14                          McLaren Speedtail          Price: $2.3 Million\n",
       "15                               Rimac Nevera          Price: $2.4 Million\n",
       "16                              Pagani Utopia          Price: $2.5 Million\n",
       "17                       Pininfarina Battista          Price: $2.5 Million\n",
       "18                         Gordon Murray T.50          Price: $2.6 Million\n",
       "19                       Lamborghini Countach          Price: $2.6 Million\n",
       "20              Hennessey Venom F5 Revolution                 $2.7 Million\n",
       "21                   Mercedes-AMG Project One          Price: $2.7 Million\n",
       "22                               Zenvo Aurora          Price: $2.8 Million\n",
       "23                        Aston Martin Victor          Price: $3.0 Million\n",
       "24                Hennessey Venom F5 Roadster                 $3.0 Million\n",
       "25                           Koenigsegg Jesko          Price: $3.0 Million\n",
       "26                                 Aspark Owl                 $3.1 Million\n",
       "27                      Aston Martin Valkyrie          Price: $3.2 Million\n",
       "28                  W Motors Lykan Hypersport          Price: $3.4 Million\n",
       "29                              McLaren Solus                 $3.5 Million\n",
       "30                        Pagani Huayra Evo R          $3.5 Million (est.)\n",
       "31                           Lamborghini Sian          Price: $3.6 million\n",
       "32                           Koenigsegg CC850          Price: $3.7 Million\n",
       "33            Bugatti Chiron Super Sport 300+          Price: $3.9 Million\n",
       "34  Gordon Murray Automotive T.50s Niki Lauda                 $3.9 Million\n",
       "35                  Pagani Huayra Roadster BC                 $4.0 Million\n",
       "36                         Lamborghini Veneno          Price: $4.5 Million\n",
       "37                             Bugatti Bolide          Price: $4.7 Million\n",
       "38                  Pininfarina B95 Speedster          Price: $4.8 Million\n",
       "39                            Bugatti Mistral          Price: $5.0 Million\n",
       "40                               Bugatti Divo          Price: $5.8 Million\n",
       "41                        Pagani Huayra Imola                 $6.0 Million\n",
       "42                           Pagani Codalunga          Price: $7.4 Million\n",
       "43                   Mercedes-Maybach Exelero          Price: $8.0 Million\n",
       "44                         Bugatti Centodieci          Price: $9.0 Million\n",
       "45                    Bugatti Chiron Profilée         Price: $10.8 Million\n",
       "46                       Rolls-Royce Sweptail         Price: $12.8 Million\n",
       "47                   Bugatti La Voiture Noire         Price: $13.4 Million\n",
       "48                      Rolls-Royce Boat Tail  Price: $28.0 Million (est.)\n",
       "49         Rolls-Royce La Rose Noire Droptail    Price: $30 Million (est.)"
      ]
     },
     "execution_count": 78,
     "metadata": {},
     "output_type": "execute_result"
    }
   ],
   "source": [
    "df"
   ]
  },
  {
   "cell_type": "code",
   "execution_count": null,
   "id": "2687386f",
   "metadata": {},
   "outputs": [],
   "source": [
    "    "
   ]
  }
 ],
 "metadata": {
  "kernelspec": {
   "display_name": "Python 3 (ipykernel)",
   "language": "python",
   "name": "python3"
  },
  "language_info": {
   "codemirror_mode": {
    "name": "ipython",
    "version": 3
   },
   "file_extension": ".py",
   "mimetype": "text/x-python",
   "name": "python",
   "nbconvert_exporter": "python",
   "pygments_lexer": "ipython3",
   "version": "3.11.5"
  }
 },
 "nbformat": 4,
 "nbformat_minor": 5
}
