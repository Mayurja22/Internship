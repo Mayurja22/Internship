{
 "cells": [
  {
   "cell_type": "code",
   "execution_count": 17,
   "id": "572f1350",
   "metadata": {},
   "outputs": [],
   "source": [
    "import selenium \n",
    "import pandas as pd\n",
    "from selenium import webdriver \n",
    "from selenium.common.exceptions import NoSuchElementException\n",
    "import warnings \n",
    "warnings.filterwarnings('ignore')\n",
    "from selenium.webdriver.common.by import By \n",
    "import time \n",
    "import urllib.request"
   ]
  },
  {
   "cell_type": "code",
   "execution_count": 18,
   "id": "ebb3c8dc",
   "metadata": {},
   "outputs": [],
   "source": [
    "driver = webdriver.Chrome()"
   ]
  },
  {
   "cell_type": "code",
   "execution_count": 19,
   "id": "1ce9c953",
   "metadata": {},
   "outputs": [],
   "source": [
    "driver.get(\"https://www.youtube.com/\")"
   ]
  },
  {
   "cell_type": "code",
   "execution_count": 20,
   "id": "6adefd28",
   "metadata": {},
   "outputs": [],
   "source": [
    "Comment=driver.find_element(By.XPATH,\"/html/body/ytd-app/div[1]/div/ytd-masthead/div[4]/div[2]/ytd-searchbox/form/div[1]/div[1]/input\")\n",
    "Comment.send_keys('carryminati')"
   ]
  },
  {
   "cell_type": "code",
   "execution_count": 21,
   "id": "85a5e042",
   "metadata": {},
   "outputs": [],
   "source": [
    "btn=driver.find_element(By.XPATH,\"/html/body/ytd-app/div[1]/div/ytd-masthead/div[4]/div[2]/ytd-searchbox/button\")\n",
    "btn.click()"
   ]
  },
  {
   "cell_type": "code",
   "execution_count": 23,
   "id": "775e73ef",
   "metadata": {},
   "outputs": [],
   "source": [
    "btn=driver.find_element(By.XPATH,\"/html/body/ytd-app/div[1]/ytd-page-manager/ytd-search/div[1]/ytd-two-column-search-results-renderer/div/ytd-section-list-renderer/div[2]/ytd-item-section-renderer/div[3]/ytd-shelf-renderer[1]/div[1]/div[2]/ytd-vertical-list-renderer/div[1]/ytd-video-renderer[1]/div[1]/div/div[1]/div/h3/a\")\n",
    "btn.click()"
   ]
  },
  {
   "cell_type": "code",
   "execution_count": 24,
   "id": "8f73bde3",
   "metadata": {},
   "outputs": [],
   "source": [
    "SCROLL_PAUSE_TIME = 2\n",
    "last_height = driver.execute_script(\"return document.documentElement.scrollHeight\")\n",
    "\n",
    "while True:\n",
    "   \n",
    "    driver.execute_script(\"window.scrollTo(0, document.documentElement.scrollHeight);\")\n",
    "    \n",
    "    \n",
    "    time.sleep(SCROLL_PAUSE_TIME)\n",
    "    \n",
    "   \n",
    "    new_height = driver.execute_script(\"return document.documentElement.scrollHeight\")\n",
    "    if new_height == last_height:\n",
    "        break\n",
    "    last_height = new_height"
   ]
  },
  {
   "cell_type": "code",
   "execution_count": 25,
   "id": "ccbe5762",
   "metadata": {},
   "outputs": [],
   "source": [
    "comments_data = []\n",
    "comment_elements = driver.find_elements(By.XPATH, \"//ytd-comment-thread-renderer\")"
   ]
  },
  {
   "cell_type": "code",
   "execution_count": 26,
   "id": "34dd5762",
   "metadata": {},
   "outputs": [
    {
     "name": "stdout",
     "output_type": "stream",
     "text": [
      "Extracted 500 comments.\n",
      "Comment: apna favourite part batao \n",
      "Upvotes: 119000\n",
      "Published Time: 2 months ago\n",
      "\n",
      "Comment: 8:19 Best Collab \n",
      "Upvotes: 66000\n",
      "Published Time: 2 months ago\n",
      "\n",
      "Comment: Carry + Purav = New Era️\n",
      "Upvotes: 75000\n",
      "Published Time: 2 months ago\n",
      "\n",
      "Comment: Carry in Big boss \n",
      "Upvotes: 76000\n",
      "Published Time: 2 months ago\n",
      "\n",
      "Comment: 4:09 Bhai email id to badhiya tha \n",
      "Upvotes: 30\n",
      "Published Time: 7 days ago (edited)\n",
      "\n"
     ]
    }
   ],
   "source": [
    "for comment_element in comment_elements[:500]:  # Limit to 500 comments\n",
    "    try:\n",
    " \n",
    "        comment_text = comment_element.find_element(By.XPATH, \".//div[@class='style-scope ytd-expander']/yt-attributed-string\").text\n",
    "            \n",
    "\n",
    "        upvotes_str = comment_element.find_element(By.XPATH, \".//span[@id='vote-count-middle']\").text\n",
    "        if 'K' in upvotes_str:\n",
    "            upvotes = int(float(upvotes_str.replace('K', '').replace(',', '').strip()) * 1000)\n",
    "        elif 'M' in upvotes_str:\n",
    "            upvotes = int(float(upvotes_str.replace('M', '').replace(',', '').strip()) * 1000000)\n",
    "        else:\n",
    "            upvotes = int(upvotes_str.replace(',', '').strip()) if upvotes_str else 0\n",
    "\n",
    "        published_time = comment_element.find_element(By.XPATH, \".//span[@class='style-scope ytd-comment-view-model']/a\").text\n",
    "        \n",
    "        comments_data.append({\n",
    "            \"Comment\": comment_text,\n",
    "            \"Upvotes\": upvotes,\n",
    "            \"Published Time\": published_time\n",
    "        })\n",
    "    except Exception as e:\n",
    "        print(f\"Error extracting comment data: {e}\")\n",
    "\n",
    "\n",
    "print(f\"Extracted {len(comments_data)} comments.\")\n",
    "\n",
    "for comment in comments_data[:5]:\n",
    "    print(f\"Comment: {comment['Comment']}\")\n",
    "    print(f\"Upvotes: {comment['Upvotes']}\")\n",
    "    print(f\"Published Time: {comment['Published Time']}\\n\")\n",
    "    \n"
   ]
  },
  {
   "cell_type": "code",
   "execution_count": null,
   "id": "b007eb04",
   "metadata": {},
   "outputs": [],
   "source": []
  }
 ],
 "metadata": {
  "kernelspec": {
   "display_name": "Python 3 (ipykernel)",
   "language": "python",
   "name": "python3"
  },
  "language_info": {
   "codemirror_mode": {
    "name": "ipython",
    "version": 3
   },
   "file_extension": ".py",
   "mimetype": "text/x-python",
   "name": "python",
   "nbconvert_exporter": "python",
   "pygments_lexer": "ipython3",
   "version": "3.11.5"
  }
 },
 "nbformat": 4,
 "nbformat_minor": 5
}
