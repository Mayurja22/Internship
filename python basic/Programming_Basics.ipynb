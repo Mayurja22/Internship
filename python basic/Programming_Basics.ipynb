{
 "cells": [
  {
   "cell_type": "markdown",
   "id": "fe09511d",
   "metadata": {},
   "source": [
    "### OOPS CONCEPTS"
   ]
  },
  {
   "cell_type": "markdown",
   "id": "9db7815d",
   "metadata": {},
   "source": [
    "##### We will create a class-class is a design or blueprint of an object. without the blueprint ideally an object cannot be created. Class is a logical entity,we work with objects(real time entities) created from classes."
   ]
  },
  {
   "cell_type": "code",
   "execution_count": 2,
   "id": "1357a425",
   "metadata": {},
   "outputs": [],
   "source": [
    "#class is a collection of objects-we create an empty class\n",
    "\n",
    "class Learner:\n",
    "    pass\n",
    "       "
   ]
  },
  {
   "cell_type": "code",
   "execution_count": 3,
   "id": "cc2df790",
   "metadata": {},
   "outputs": [],
   "source": [
    "#creating two objects from class 'Learner'\n",
    "abhijeet=Learner()\n",
    "abhinaya=Learner()"
   ]
  },
  {
   "cell_type": "code",
   "execution_count": 4,
   "id": "9644aa05",
   "metadata": {},
   "outputs": [
    {
     "name": "stdout",
     "output_type": "stream",
     "text": [
      "<class '__main__.Learner'>\n"
     ]
    }
   ],
   "source": [
    "#finding the class information:\n",
    "print(type(abhijeet))"
   ]
  },
  {
   "cell_type": "code",
   "execution_count": 4,
   "id": "bad5e4cb",
   "metadata": {},
   "outputs": [],
   "source": [
    "#we will work with objects,not classes.classes are only needed to create an object."
   ]
  },
  {
   "cell_type": "code",
   "execution_count": 5,
   "id": "6b3bef9f",
   "metadata": {},
   "outputs": [],
   "source": [
    "object1=15"
   ]
  },
  {
   "cell_type": "code",
   "execution_count": 6,
   "id": "04879132",
   "metadata": {},
   "outputs": [
    {
     "name": "stdout",
     "output_type": "stream",
     "text": [
      "15\n"
     ]
    }
   ],
   "source": [
    "print(object1)"
   ]
  },
  {
   "cell_type": "code",
   "execution_count": 7,
   "id": "53678962",
   "metadata": {},
   "outputs": [
    {
     "data": {
      "text/plain": [
       "15"
      ]
     },
     "execution_count": 7,
     "metadata": {},
     "output_type": "execute_result"
    }
   ],
   "source": [
    "object1"
   ]
  },
  {
   "cell_type": "code",
   "execution_count": 8,
   "id": "c4481ef6",
   "metadata": {},
   "outputs": [],
   "source": [
    "#functions will always be followed with a parenthesis-()"
   ]
  },
  {
   "cell_type": "code",
   "execution_count": 8,
   "id": "a867c4f2",
   "metadata": {
    "tags": []
   },
   "outputs": [
    {
     "name": "stdout",
     "output_type": "stream",
     "text": [
      "<class 'int'>\n"
     ]
    }
   ],
   "source": [
    "print(type(object1))"
   ]
  },
  {
   "cell_type": "code",
   "execution_count": 10,
   "id": "36352fe9",
   "metadata": {},
   "outputs": [],
   "source": [
    "#97.5--#float"
   ]
  },
  {
   "cell_type": "code",
   "execution_count": 9,
   "id": "b2de33ec",
   "metadata": {},
   "outputs": [
    {
     "data": {
      "text/plain": [
       "'this is a python session'"
      ]
     },
     "execution_count": 9,
     "metadata": {},
     "output_type": "execute_result"
    }
   ],
   "source": [
    "obj3='this is a python session'\n",
    "obj3"
   ]
  },
  {
   "cell_type": "code",
   "execution_count": 10,
   "id": "c0dfca9d",
   "metadata": {},
   "outputs": [
    {
     "data": {
      "text/plain": [
       "str"
      ]
     },
     "execution_count": 10,
     "metadata": {},
     "output_type": "execute_result"
    }
   ],
   "source": [
    "type(obj3)"
   ]
  },
  {
   "cell_type": "code",
   "execution_count": 11,
   "id": "8301b55e",
   "metadata": {},
   "outputs": [],
   "source": [
    "obj4=4+7j\n",
    "#complex datatype contains a real component and an imaginary component.real component=4,imaginary=7j"
   ]
  },
  {
   "cell_type": "code",
   "execution_count": 13,
   "id": "7810b214",
   "metadata": {},
   "outputs": [
    {
     "data": {
      "text/plain": [
       "complex"
      ]
     },
     "execution_count": 13,
     "metadata": {},
     "output_type": "execute_result"
    }
   ],
   "source": [
    "obj4\n",
    "type(obj4)"
   ]
  },
  {
   "cell_type": "code",
   "execution_count": 16,
   "id": "7f800028",
   "metadata": {},
   "outputs": [],
   "source": [
    "#the above is a problem of multiple assignments. when we have multiple assignments,we use a print() function."
   ]
  },
  {
   "cell_type": "code",
   "execution_count": 14,
   "id": "14f63a86",
   "metadata": {},
   "outputs": [
    {
     "name": "stdout",
     "output_type": "stream",
     "text": [
      "(4+7j)\n",
      "<class 'complex'>\n"
     ]
    }
   ],
   "source": [
    "print(obj4)\n",
    "print(type(obj4))"
   ]
  },
  {
   "cell_type": "markdown",
   "id": "e89e9d4a",
   "metadata": {},
   "source": [
    "### What is an instance variable? -If the value of a variable differs from object to object then such variables are called instance variables. To create 2 objects which are different from each other,we create instance(object) variables within a class "
   ]
  },
  {
   "cell_type": "code",
   "execution_count": 15,
   "id": "5370bb52",
   "metadata": {},
   "outputs": [],
   "source": [
    "abhijeet.surname='Danai'\n",
    "abhijeet.age=25"
   ]
  },
  {
   "cell_type": "code",
   "execution_count": 16,
   "id": "83162e7f",
   "metadata": {},
   "outputs": [
    {
     "data": {
      "text/plain": [
       "25"
      ]
     },
     "execution_count": 16,
     "metadata": {},
     "output_type": "execute_result"
    }
   ],
   "source": [
    "abhijeet.age"
   ]
  },
  {
   "cell_type": "code",
   "execution_count": 17,
   "id": "3c9d5762",
   "metadata": {},
   "outputs": [],
   "source": [
    "abhinaya.languages=['R','Python']"
   ]
  },
  {
   "cell_type": "code",
   "execution_count": 18,
   "id": "439969e8",
   "metadata": {},
   "outputs": [
    {
     "ename": "AttributeError",
     "evalue": "'Learner' object has no attribute 'languages'",
     "output_type": "error",
     "traceback": [
      "\u001b[0;31m---------------------------------------------------------------------------\u001b[0m",
      "\u001b[0;31mAttributeError\u001b[0m                            Traceback (most recent call last)",
      "\u001b[0;32m/tmp/ipykernel_235/3443464178.py\u001b[0m in \u001b[0;36m<cell line: 1>\u001b[0;34m()\u001b[0m\n\u001b[0;32m----> 1\u001b[0;31m \u001b[0mabhijeet\u001b[0m\u001b[0;34m.\u001b[0m\u001b[0mlanguages\u001b[0m\u001b[0;34m\u001b[0m\u001b[0;34m\u001b[0m\u001b[0m\n\u001b[0m",
      "\u001b[0;31mAttributeError\u001b[0m: 'Learner' object has no attribute 'languages'"
     ]
    }
   ],
   "source": [
    "abhijeet.languages"
   ]
  },
  {
   "cell_type": "code",
   "execution_count": 19,
   "id": "6d704d86",
   "metadata": {},
   "outputs": [
    {
     "data": {
      "text/plain": [
       "['R', 'Python']"
      ]
     },
     "execution_count": 19,
     "metadata": {},
     "output_type": "execute_result"
    }
   ],
   "source": [
    "abhinaya.languages"
   ]
  },
  {
   "cell_type": "code",
   "execution_count": 20,
   "id": "3fdde769",
   "metadata": {},
   "outputs": [
    {
     "data": {
      "text/plain": [
       "'Danai'"
      ]
     },
     "execution_count": 20,
     "metadata": {},
     "output_type": "execute_result"
    }
   ],
   "source": [
    "abhijeet.surname"
   ]
  },
  {
   "cell_type": "code",
   "execution_count": 21,
   "id": "5803c3db",
   "metadata": {},
   "outputs": [],
   "source": [
    "x=15\n",
    "y=23.5\n",
    "z='Second'"
   ]
  },
  {
   "cell_type": "code",
   "execution_count": 22,
   "id": "a8513212",
   "metadata": {},
   "outputs": [
    {
     "name": "stdout",
     "output_type": "stream",
     "text": [
      "<class 'int'>\n",
      "<class 'float'>\n",
      "<class 'str'>\n"
     ]
    }
   ],
   "source": [
    "print(type(x))\n",
    "print(type(y))\n",
    "print(type(z))"
   ]
  },
  {
   "cell_type": "code",
   "execution_count": 23,
   "id": "2048029b",
   "metadata": {},
   "outputs": [
    {
     "name": "stdout",
     "output_type": "stream",
     "text": [
      "<class 'bool'>\n"
     ]
    }
   ],
   "source": [
    "w=True\n",
    "print(type(w))"
   ]
  },
  {
   "cell_type": "code",
   "execution_count": 24,
   "id": "99b8f7a5",
   "metadata": {},
   "outputs": [
    {
     "name": "stdout",
     "output_type": "stream",
     "text": [
      "<class 'NoneType'>\n"
     ]
    }
   ],
   "source": [
    "v=None\n",
    "print(type(v))"
   ]
  },
  {
   "cell_type": "code",
   "execution_count": 25,
   "id": "1dc4aaf5",
   "metadata": {},
   "outputs": [],
   "source": [
    "#multiline string values:-triple quotes\n",
    "a=\"\"\"This is the second\n",
    "session of programming basics\"\"\""
   ]
  },
  {
   "cell_type": "markdown",
   "id": "bdd203ae",
   "metadata": {},
   "source": [
    "### Creating custom functions:"
   ]
  },
  {
   "cell_type": "code",
   "execution_count": 28,
   "id": "acc1d833",
   "metadata": {},
   "outputs": [],
   "source": [
    "abc=[6,7,8,9]"
   ]
  },
  {
   "cell_type": "code",
   "execution_count": 30,
   "id": "d763d4bd",
   "metadata": {},
   "outputs": [
    {
     "ename": "AttributeError",
     "evalue": "'list' object has no attribute 'mean'",
     "output_type": "error",
     "traceback": [
      "\u001b[0;31m---------------------------------------------------------------------------\u001b[0m",
      "\u001b[0;31mAttributeError\u001b[0m                            Traceback (most recent call last)",
      "\u001b[0;32m/tmp/ipykernel_235/2243625784.py\u001b[0m in \u001b[0;36m<cell line: 1>\u001b[0;34m()\u001b[0m\n\u001b[0;32m----> 1\u001b[0;31m \u001b[0mabc\u001b[0m\u001b[0;34m.\u001b[0m\u001b[0mmean\u001b[0m\u001b[0;34m(\u001b[0m\u001b[0;34m)\u001b[0m\u001b[0;34m\u001b[0m\u001b[0;34m\u001b[0m\u001b[0m\n\u001b[0m",
      "\u001b[0;31mAttributeError\u001b[0m: 'list' object has no attribute 'mean'"
     ]
    }
   ],
   "source": [
    "abc.mean()"
   ]
  },
  {
   "cell_type": "code",
   "execution_count": 10,
   "id": "2c00784e",
   "metadata": {},
   "outputs": [],
   "source": [
    "#we want to compute the mean above,so we will get it from a package(collection of functions).We get the \n",
    "#mean function from the 'statistics' package."
   ]
  },
  {
   "cell_type": "code",
   "execution_count": 31,
   "id": "a82b4226",
   "metadata": {},
   "outputs": [],
   "source": [
    "#To activate/initialize a package in python,we use the 'import' keyword\n",
    "import statistics"
   ]
  },
  {
   "cell_type": "code",
   "execution_count": 32,
   "id": "8e3e7daa",
   "metadata": {},
   "outputs": [
    {
     "data": {
      "text/plain": [
       "7.5"
      ]
     },
     "execution_count": 32,
     "metadata": {},
     "output_type": "execute_result"
    }
   ],
   "source": [
    "statistics.mean(abc)"
   ]
  },
  {
   "cell_type": "code",
   "execution_count": 33,
   "id": "4a31ae85",
   "metadata": {},
   "outputs": [
    {
     "data": {
      "text/plain": [
       "30"
      ]
     },
     "execution_count": 33,
     "metadata": {},
     "output_type": "execute_result"
    }
   ],
   "source": [
    "6+7+8+9\n"
   ]
  },
  {
   "cell_type": "code",
   "execution_count": 34,
   "id": "1aaf4d86",
   "metadata": {},
   "outputs": [
    {
     "data": {
      "text/plain": [
       "7.5"
      ]
     },
     "execution_count": 34,
     "metadata": {},
     "output_type": "execute_result"
    }
   ],
   "source": [
    "30/4"
   ]
  },
  {
   "cell_type": "code",
   "execution_count": 35,
   "id": "b3354dd1",
   "metadata": {},
   "outputs": [],
   "source": [
    "#creating our own custom function for 'mean'\n",
    "def my_mean(v,w,x,y):\n",
    "    return (v+w+x+y)/4\n",
    "    "
   ]
  },
  {
   "cell_type": "code",
   "execution_count": 36,
   "id": "bbbb1b63",
   "metadata": {
    "tags": []
   },
   "outputs": [
    {
     "ename": "TypeError",
     "evalue": "my_mean() missing 4 required positional arguments: 'v', 'w', 'x', and 'y'",
     "output_type": "error",
     "traceback": [
      "\u001b[0;31m---------------------------------------------------------------------------\u001b[0m",
      "\u001b[0;31mTypeError\u001b[0m                                 Traceback (most recent call last)",
      "\u001b[0;32m/tmp/ipykernel_235/2906964502.py\u001b[0m in \u001b[0;36m<cell line: 1>\u001b[0;34m()\u001b[0m\n\u001b[0;32m----> 1\u001b[0;31m \u001b[0mmy_mean\u001b[0m\u001b[0;34m(\u001b[0m\u001b[0;34m)\u001b[0m\u001b[0;34m\u001b[0m\u001b[0;34m\u001b[0m\u001b[0m\n\u001b[0m",
      "\u001b[0;31mTypeError\u001b[0m: my_mean() missing 4 required positional arguments: 'v', 'w', 'x', and 'y'"
     ]
    }
   ],
   "source": [
    "my_mean()"
   ]
  },
  {
   "cell_type": "code",
   "execution_count": 37,
   "id": "1bfd1150",
   "metadata": {},
   "outputs": [
    {
     "data": {
      "text/plain": [
       "7.5"
      ]
     },
     "execution_count": 37,
     "metadata": {},
     "output_type": "execute_result"
    }
   ],
   "source": [
    "my_mean(6,7,8,9) #calling a function"
   ]
  },
  {
   "cell_type": "code",
   "execution_count": 38,
   "id": "6df5d85a",
   "metadata": {},
   "outputs": [],
   "source": [
    "a=5\n",
    "b=2\n",
    "c=7\n",
    "d=9"
   ]
  },
  {
   "cell_type": "code",
   "execution_count": 39,
   "id": "5bf817d7",
   "metadata": {},
   "outputs": [
    {
     "data": {
      "text/plain": [
       "5.75"
      ]
     },
     "execution_count": 39,
     "metadata": {},
     "output_type": "execute_result"
    }
   ],
   "source": [
    "my_mean(a,b,c,d)"
   ]
  },
  {
   "cell_type": "markdown",
   "id": "0f61cc4b",
   "metadata": {},
   "source": [
    "#### OOPS-CONTINUED"
   ]
  },
  {
   "cell_type": "code",
   "execution_count": 22,
   "id": "084ef53c",
   "metadata": {},
   "outputs": [],
   "source": [
    "#lets create a class with attributes: attributes are features within the class,while class is an object constructor"
   ]
  },
  {
   "cell_type": "code",
   "execution_count": 40,
   "id": "b042df6b",
   "metadata": {},
   "outputs": [],
   "source": [
    "class student:\n",
    "    Marks=90\n",
    "    pass\n",
    "#the variable 'marks' is specific to the class 'student'.this attribute is not shared with objects created from this class"
   ]
  },
  {
   "cell_type": "code",
   "execution_count": 41,
   "id": "4a56f17d",
   "metadata": {},
   "outputs": [],
   "source": [
    "#create two objects belonging to the class'student'.\n",
    "tim=student()\n",
    "sim=student()"
   ]
  },
  {
   "cell_type": "code",
   "execution_count": 42,
   "id": "e95e89c2",
   "metadata": {},
   "outputs": [
    {
     "name": "stdout",
     "output_type": "stream",
     "text": [
      "{}\n"
     ]
    }
   ],
   "source": [
    "#checking the attributes of each object:\n",
    "print(tim.__dict__)"
   ]
  },
  {
   "cell_type": "code",
   "execution_count": 43,
   "id": "877c5cf6",
   "metadata": {},
   "outputs": [],
   "source": [
    "#creating instance variables for tim:\n",
    "tim.age=25\n",
    "tim.surname='ray'\n",
    "tim.grade=12\n"
   ]
  },
  {
   "cell_type": "code",
   "execution_count": 44,
   "id": "22bad350",
   "metadata": {},
   "outputs": [
    {
     "name": "stdout",
     "output_type": "stream",
     "text": [
      "{'age': 25, 'surname': 'ray', 'grade': 12}\n"
     ]
    }
   ],
   "source": [
    "#checking the attributes of each object:\n",
    "print(tim.__dict__)"
   ]
  },
  {
   "cell_type": "code",
   "execution_count": 45,
   "id": "7b6b4519",
   "metadata": {},
   "outputs": [],
   "source": [
    "#create object/instance variables for sim:\n",
    "sim.age=30\n",
    "sim.surname='may'\n",
    "sim.grade='singing'"
   ]
  },
  {
   "cell_type": "code",
   "execution_count": 46,
   "id": "57127c58",
   "metadata": {},
   "outputs": [
    {
     "name": "stdout",
     "output_type": "stream",
     "text": [
      "{'age': 30, 'surname': 'may', 'grade': 'singing'}\n"
     ]
    }
   ],
   "source": [
    "#checking the attributes of each object:\n",
    "print(sim.__dict__)"
   ]
  },
  {
   "cell_type": "code",
   "execution_count": 30,
   "id": "79c87237",
   "metadata": {},
   "outputs": [],
   "source": [
    "#'Marks' is a class variable which is not shared with the objects,tim and sim. so these 2 objects tim,sim can have\n",
    "#different marks"
   ]
  },
  {
   "cell_type": "code",
   "execution_count": 47,
   "id": "09aa976b",
   "metadata": {},
   "outputs": [],
   "source": [
    "sim.Marks=99"
   ]
  },
  {
   "cell_type": "code",
   "execution_count": 48,
   "id": "da8b3ab8",
   "metadata": {
    "tags": []
   },
   "outputs": [
    {
     "name": "stdout",
     "output_type": "stream",
     "text": [
      "{'age': 30, 'surname': 'may', 'grade': 'singing', 'Marks': 99}\n"
     ]
    }
   ],
   "source": [
    "print(sim.__dict__)"
   ]
  },
  {
   "cell_type": "code",
   "execution_count": 49,
   "id": "df50359d",
   "metadata": {},
   "outputs": [
    {
     "name": "stdout",
     "output_type": "stream",
     "text": [
      "{'age': 25, 'surname': 'ray', 'grade': 12}\n"
     ]
    }
   ],
   "source": [
    "print(tim.__dict__)"
   ]
  },
  {
   "cell_type": "markdown",
   "id": "732da6a3",
   "metadata": {},
   "source": [
    "#### Changing or updating the marks in the class variable can ONLY be done within the class,NOT with the help of object variables."
   ]
  },
  {
   "cell_type": "code",
   "execution_count": 50,
   "id": "545cce50",
   "metadata": {},
   "outputs": [
    {
     "name": "stdout",
     "output_type": "stream",
     "text": [
      "{'__module__': '__main__', 'Marks': 90, '__dict__': <attribute '__dict__' of 'student' objects>, '__weakref__': <attribute '__weakref__' of 'student' objects>, '__doc__': None}\n"
     ]
    }
   ],
   "source": [
    "print(student.__dict__)"
   ]
  },
  {
   "cell_type": "code",
   "execution_count": 51,
   "id": "839cbf58",
   "metadata": {},
   "outputs": [],
   "source": [
    "student.Marks=100"
   ]
  },
  {
   "cell_type": "code",
   "execution_count": 52,
   "id": "f8a9c694",
   "metadata": {},
   "outputs": [
    {
     "name": "stdout",
     "output_type": "stream",
     "text": [
      "{'__module__': '__main__', 'Marks': 100, '__dict__': <attribute '__dict__' of 'student' objects>, '__weakref__': <attribute '__weakref__' of 'student' objects>, '__doc__': None}\n"
     ]
    }
   ],
   "source": [
    "print(student.__dict__)"
   ]
  },
  {
   "cell_type": "markdown",
   "id": "436d5563",
   "metadata": {},
   "source": [
    "#### We cannot change/modify a class variable with the help of an object"
   ]
  },
  {
   "cell_type": "code",
   "execution_count": 53,
   "id": "85579fa3",
   "metadata": {},
   "outputs": [],
   "source": [
    "class Employee:\n",
    "    working_days=60\n",
    "    def print_details(self):\n",
    "        return f\"The employee city name is {self.city} Salary is {self.salary} and designation is {self.position}\""
   ]
  },
  {
   "cell_type": "code",
   "execution_count": 41,
   "id": "fec31c89",
   "metadata": {},
   "outputs": [],
   "source": [
    "## we are creating a class variable 'working_days' and a function(method)called 'print_details' within the class 'Employee'"
   ]
  },
  {
   "cell_type": "code",
   "execution_count": 54,
   "id": "6cc31cb7",
   "metadata": {},
   "outputs": [],
   "source": [
    "#lets create 2 objects of the class Employee\n",
    "kingshuk=Employee()\n",
    "mary=Employee()\n",
    "madhu=Employee()"
   ]
  },
  {
   "cell_type": "code",
   "execution_count": 55,
   "id": "0f4778f5",
   "metadata": {},
   "outputs": [],
   "source": [
    "kingshuk.city='Delhi'\n",
    "kingshuk.salary=2000\n",
    "kingshuk.position='Programmer'"
   ]
  },
  {
   "cell_type": "code",
   "execution_count": 56,
   "id": "a7d1e64c",
   "metadata": {},
   "outputs": [],
   "source": [
    "mary.city='Bangalore'\n",
    "mary.salary=2500\n",
    "mary.position='Analyst'"
   ]
  },
  {
   "cell_type": "markdown",
   "id": "52a34e29",
   "metadata": {},
   "source": [
    "#### We create a method(function) in the class 'Employee' called 'print_details',and the argument 'self' refers to the object we want to apply this function on. Say we want to apply the function on mary then self='mary'"
   ]
  },
  {
   "cell_type": "code",
   "execution_count": 57,
   "id": "fad4b589",
   "metadata": {},
   "outputs": [
    {
     "name": "stdout",
     "output_type": "stream",
     "text": [
      "The employee city name is Bangalore Salary is 2500 and designation is Analyst\n"
     ]
    }
   ],
   "source": [
    "print(mary.print_details())"
   ]
  },
  {
   "cell_type": "markdown",
   "id": "ce2e53c8",
   "metadata": {},
   "source": [
    "#### Constructors:"
   ]
  },
  {
   "cell_type": "markdown",
   "id": "3e13a356",
   "metadata": {},
   "source": [
    "#### Constructors is a special method(function). When this method(function) is called it automatically creates an object from a class.\n",
    "#### when constructors are called it activates the attributes(features) of the class for an object. We use the 'init' method to create an object from the class,the object will retain the class features(attributes)"
   ]
  },
  {
   "cell_type": "code",
   "execution_count": 58,
   "id": "3353ace8",
   "metadata": {},
   "outputs": [],
   "source": [
    "class person:\n",
    "    def __init__(self,firstname,lastname):\n",
    "        self.first=firstname\n",
    "        self.last=lastname"
   ]
  },
  {
   "cell_type": "code",
   "execution_count": 59,
   "id": "e9d7853c",
   "metadata": {},
   "outputs": [],
   "source": [
    "nishi=person('nishi','gupta')"
   ]
  },
  {
   "cell_type": "code",
   "execution_count": 60,
   "id": "89665adf",
   "metadata": {},
   "outputs": [
    {
     "data": {
      "text/plain": [
       "'gupta'"
      ]
     },
     "execution_count": 60,
     "metadata": {},
     "output_type": "execute_result"
    }
   ],
   "source": [
    "nishi.last"
   ]
  },
  {
   "cell_type": "markdown",
   "id": "9c2a3084",
   "metadata": {},
   "source": [
    "#### end of session2:"
   ]
  },
  {
   "cell_type": "code",
   "execution_count": null,
   "id": "40d6b05c",
   "metadata": {},
   "outputs": [],
   "source": [
    "#shortcut for markdown\n",
    "#escape+m"
   ]
  },
  {
   "cell_type": "markdown",
   "id": "265670ea",
   "metadata": {},
   "source": [
    "### Scope of a variable:"
   ]
  },
  {
   "cell_type": "code",
   "execution_count": 1,
   "id": "6ccfc2b7",
   "metadata": {},
   "outputs": [],
   "source": [
    "### The lifetime of a variable in a single session. Or its lifespan."
   ]
  },
  {
   "cell_type": "code",
   "execution_count": 3,
   "id": "8843ec4c",
   "metadata": {},
   "outputs": [],
   "source": [
    "### A variable with global scope is always defined outside a function(custom function)"
   ]
  },
  {
   "cell_type": "code",
   "execution_count": 61,
   "id": "8d36579d",
   "metadata": {},
   "outputs": [],
   "source": [
    "a=10 ##global variable\n",
    "def my_func():\n",
    "    print(a)"
   ]
  },
  {
   "cell_type": "code",
   "execution_count": 62,
   "id": "1c21397c",
   "metadata": {},
   "outputs": [
    {
     "name": "stdout",
     "output_type": "stream",
     "text": [
      "10\n"
     ]
    }
   ],
   "source": [
    "my_func()"
   ]
  },
  {
   "cell_type": "code",
   "execution_count": 63,
   "id": "a4e997ed",
   "metadata": {},
   "outputs": [],
   "source": [
    "a=10 #global variable\n",
    "def my_func():\n",
    "    a=40 #local variable\n",
    "    print(a)"
   ]
  },
  {
   "cell_type": "code",
   "execution_count": 64,
   "id": "81c2342f",
   "metadata": {},
   "outputs": [
    {
     "name": "stdout",
     "output_type": "stream",
     "text": [
      "40\n"
     ]
    }
   ],
   "source": [
    "my_func()"
   ]
  },
  {
   "cell_type": "code",
   "execution_count": 65,
   "id": "96b3c177",
   "metadata": {},
   "outputs": [
    {
     "data": {
      "text/plain": [
       "10"
      ]
     },
     "execution_count": 65,
     "metadata": {},
     "output_type": "execute_result"
    }
   ],
   "source": [
    "a"
   ]
  },
  {
   "cell_type": "code",
   "execution_count": 12,
   "id": "3a2cc5e3",
   "metadata": {},
   "outputs": [],
   "source": [
    "# A variable which is defined inside a function has internal scope and is called a local variable\n",
    "# A variable which is defined outside a function has a global scope,and is active throughout the current session."
   ]
  },
  {
   "cell_type": "code",
   "execution_count": 13,
   "id": "63815c2a",
   "metadata": {},
   "outputs": [],
   "source": [
    "#To declare a local variable 'global',we use the global keyword."
   ]
  },
  {
   "cell_type": "code",
   "execution_count": 66,
   "id": "7485e47c",
   "metadata": {},
   "outputs": [],
   "source": [
    "a=10\n",
    "def my_func():\n",
    "    global a\n",
    "    a=40 #has global scope\n",
    "    print(a)"
   ]
  },
  {
   "cell_type": "code",
   "execution_count": 67,
   "id": "9b438968",
   "metadata": {},
   "outputs": [
    {
     "name": "stdout",
     "output_type": "stream",
     "text": [
      "40\n"
     ]
    }
   ],
   "source": [
    "my_func()"
   ]
  },
  {
   "cell_type": "code",
   "execution_count": 68,
   "id": "d2d44070",
   "metadata": {},
   "outputs": [
    {
     "data": {
      "text/plain": [
       "40"
      ]
     },
     "execution_count": 68,
     "metadata": {},
     "output_type": "execute_result"
    }
   ],
   "source": [
    "a"
   ]
  },
  {
   "cell_type": "code",
   "execution_count": 21,
   "id": "d3117e32",
   "metadata": {},
   "outputs": [],
   "source": [
    "#enclosed scope: when a variable is neither local nor global it has an enclosed scope(it works with nested functions)"
   ]
  },
  {
   "cell_type": "code",
   "execution_count": 75,
   "id": "c7672fa8",
   "metadata": {
    "tags": []
   },
   "outputs": [
    {
     "name": "stdout",
     "output_type": "stream",
     "text": [
      "15\n",
      "30\n",
      "15\n"
     ]
    }
   ],
   "source": [
    "def first():\n",
    "    m=15 #has a local scope w.r.t function first()\n",
    "    def second():\n",
    "        n=30   #has a local scope w.r.t function second()\n",
    "        print(m)# here m has an enclosed scope\n",
    "        print(n)#n is local\n",
    "    second()\n",
    "    print(m)\n",
    "first()\n",
    "    "
   ]
  },
  {
   "cell_type": "code",
   "execution_count": 70,
   "id": "ec17ffcd",
   "metadata": {},
   "outputs": [
    {
     "name": "stdout",
     "output_type": "stream",
     "text": [
      "50\n",
      "30\n",
      "15\n"
     ]
    }
   ],
   "source": [
    "def first():\n",
    "    m=15 #has a local scope w.r.t function first()\n",
    "    def second():\n",
    "        n=30\n",
    "        m=50       \n",
    "        print(m)# here m has an enclosed scope\n",
    "        print(n)#n is local\n",
    "    second()\n",
    "    print(m)\n",
    "first()\n"
   ]
  },
  {
   "cell_type": "code",
   "execution_count": 77,
   "id": "f1f5facb",
   "metadata": {},
   "outputs": [
    {
     "name": "stdout",
     "output_type": "stream",
     "text": [
      "45\n",
      "30\n",
      "45\n"
     ]
    }
   ],
   "source": [
    "\n",
    "m=90  #this m is a global variable--as it is outside a function\n",
    "def first():\n",
    "    m=15 #has a local scope w.r.t function first()\n",
    "    def second():\n",
    "        nonlocal m #removes 'm' from local scope of both first and second. It has the same value when the function is called\n",
    "        n=30\n",
    "        m=45       \n",
    "        print(m)# here m has an enclosed scope\n",
    "        print(n)#n is local\n",
    "    second()\n",
    "    print(m)\n",
    "first()"
   ]
  },
  {
   "cell_type": "code",
   "execution_count": 78,
   "id": "a95699a2",
   "metadata": {},
   "outputs": [
    {
     "data": {
      "text/plain": [
       "90"
      ]
     },
     "execution_count": 78,
     "metadata": {},
     "output_type": "execute_result"
    }
   ],
   "source": [
    "m"
   ]
  },
  {
   "cell_type": "code",
   "execution_count": 31,
   "id": "7e37462c",
   "metadata": {},
   "outputs": [],
   "source": [
    "#Enumerate-built in scope"
   ]
  },
  {
   "cell_type": "markdown",
   "id": "1c117464",
   "metadata": {},
   "source": [
    "#### Loops:"
   ]
  },
  {
   "cell_type": "code",
   "execution_count": 79,
   "id": "a163bdf9",
   "metadata": {
    "tags": []
   },
   "outputs": [
    {
     "data": {
      "text/plain": [
       "range(0, 10)"
      ]
     },
     "execution_count": 79,
     "metadata": {},
     "output_type": "execute_result"
    }
   ],
   "source": [
    "range(10)"
   ]
  },
  {
   "cell_type": "code",
   "execution_count": 80,
   "id": "7a1dda95",
   "metadata": {},
   "outputs": [],
   "source": [
    "b=[2,4,6,8,10]"
   ]
  },
  {
   "cell_type": "code",
   "execution_count": 81,
   "id": "f8f7352b",
   "metadata": {},
   "outputs": [
    {
     "name": "stdout",
     "output_type": "stream",
     "text": [
      "2\n",
      "4\n",
      "6\n",
      "8\n",
      "10\n"
     ]
    }
   ],
   "source": [
    "for name in b:\n",
    "    print(name)"
   ]
  },
  {
   "cell_type": "code",
   "execution_count": 82,
   "id": "d6b1577a",
   "metadata": {
    "tags": []
   },
   "outputs": [
    {
     "name": "stdout",
     "output_type": "stream",
     "text": [
      "0\n",
      "1\n",
      "2\n",
      "3\n",
      "4\n",
      "5\n",
      "6\n",
      "7\n",
      "8\n",
      "9\n"
     ]
    }
   ],
   "source": [
    "for y in range(10):\n",
    "    print(y)"
   ]
  },
  {
   "cell_type": "code",
   "execution_count": 83,
   "id": "670def50",
   "metadata": {},
   "outputs": [
    {
     "name": "stdout",
     "output_type": "stream",
     "text": [
      "5\n",
      "6\n",
      "7\n",
      "8\n",
      "9\n",
      "10\n",
      "11\n",
      "12\n",
      "13\n",
      "14\n"
     ]
    }
   ],
   "source": [
    "#setting limits for the data we choose:\n",
    "for y in range(5,15):\n",
    "    print(y)\n",
    "                                       #in this case,the upper limit is excluded"
   ]
  },
  {
   "cell_type": "code",
   "execution_count": 84,
   "id": "1e0a075c",
   "metadata": {},
   "outputs": [
    {
     "name": "stdout",
     "output_type": "stream",
     "text": [
      "5\n",
      "8\n",
      "11\n",
      "14\n"
     ]
    }
   ],
   "source": [
    "for y in range(5,15,3):\n",
    "    print(y)\n",
    "    \n",
    "#2 is the interval or 'n'. So we will skip (n-1) elements while reading it"
   ]
  },
  {
   "cell_type": "markdown",
   "id": "f7d5c994",
   "metadata": {},
   "source": [
    "### While Loops:"
   ]
  },
  {
   "cell_type": "code",
   "execution_count": 85,
   "id": "93235868",
   "metadata": {},
   "outputs": [
    {
     "name": "stdout",
     "output_type": "stream",
     "text": [
      "0\n",
      "1\n",
      "2\n",
      "3\n",
      "4\n"
     ]
    }
   ],
   "source": [
    "x=0\n",
    "while x<5:\n",
    "    print(x)\n",
    "    x=x+1"
   ]
  },
  {
   "cell_type": "code",
   "execution_count": 42,
   "id": "a0b3138b",
   "metadata": {},
   "outputs": [],
   "source": [
    "#enumerate function:"
   ]
  },
  {
   "cell_type": "code",
   "execution_count": 86,
   "id": "1af69861",
   "metadata": {},
   "outputs": [],
   "source": [
    "list1=['apples','bananas','oranges','lemons','mangoes']"
   ]
  },
  {
   "cell_type": "code",
   "execution_count": 87,
   "id": "01b31c8b",
   "metadata": {},
   "outputs": [
    {
     "name": "stdout",
     "output_type": "stream",
     "text": [
      "0 apples\n",
      "1 bananas\n",
      "2 oranges\n",
      "3 lemons\n",
      "4 mangoes\n"
     ]
    }
   ],
   "source": [
    "for position,i in enumerate(list1):\n",
    "    print(position,i)\n",
    "#in the output 0 is the position"
   ]
  },
  {
   "cell_type": "code",
   "execution_count": 88,
   "id": "10033011",
   "metadata": {},
   "outputs": [
    {
     "name": "stdout",
     "output_type": "stream",
     "text": [
      "(0, 'apples')\n",
      "(1, 'bananas')\n",
      "(2, 'oranges')\n",
      "(3, 'lemons')\n",
      "(4, 'mangoes')\n"
     ]
    }
   ],
   "source": [
    "for prakirtik in enumerate(list1):\n",
    "    print(prakirtik)\n",
    "#in the ouput o represents the count of the execution"
   ]
  },
  {
   "cell_type": "markdown",
   "id": "9914a864",
   "metadata": {},
   "source": [
    "### enumerate function helps us in dealing with multiple values(iterables) where we want to keep a track of the count of values."
   ]
  },
  {
   "cell_type": "code",
   "execution_count": 89,
   "id": "b8d97d1e",
   "metadata": {
    "tags": []
   },
   "outputs": [],
   "source": [
    "obj='simplilearn'\n",
    "obj1=enumerate(obj)"
   ]
  },
  {
   "cell_type": "code",
   "execution_count": 90,
   "id": "85204b5d",
   "metadata": {},
   "outputs": [
    {
     "name": "stdout",
     "output_type": "stream",
     "text": [
      "[(0, 's'), (1, 'i'), (2, 'm'), (3, 'p'), (4, 'l'), (5, 'i'), (6, 'l'), (7, 'e'), (8, 'a'), (9, 'r'), (10, 'n')]\n"
     ]
    }
   ],
   "source": [
    "print(list(enumerate(obj)))"
   ]
  },
  {
   "cell_type": "markdown",
   "id": "9662a9cf",
   "metadata": {},
   "source": [
    "#### Sorted:"
   ]
  },
  {
   "cell_type": "code",
   "execution_count": 91,
   "id": "d086d1bf",
   "metadata": {},
   "outputs": [
    {
     "data": {
      "text/plain": [
       "[1, 2, 9, 13, 15, 25]"
      ]
     },
     "execution_count": 91,
     "metadata": {},
     "output_type": "execute_result"
    }
   ],
   "source": [
    "list2=[2,9,13,25,1,15]\n",
    "sorted(list2)   #default sorting is done in asc order"
   ]
  },
  {
   "cell_type": "code",
   "execution_count": 92,
   "id": "a240fc9a",
   "metadata": {},
   "outputs": [
    {
     "data": {
      "text/plain": [
       "[15, 1, 25, 13, 9, 2]"
      ]
     },
     "execution_count": 92,
     "metadata": {},
     "output_type": "execute_result"
    }
   ],
   "source": [
    "list(reversed(list2)) #reverses the sequence of creation"
   ]
  },
  {
   "cell_type": "code",
   "execution_count": 93,
   "id": "0886f1f6",
   "metadata": {},
   "outputs": [
    {
     "data": {
      "text/plain": [
       "[25, 15, 13, 9, 2, 1]"
      ]
     },
     "execution_count": 93,
     "metadata": {},
     "output_type": "execute_result"
    }
   ],
   "source": [
    "#to sort the elements in the descending order:\n",
    "sorted(list2,reverse=True)"
   ]
  },
  {
   "cell_type": "code",
   "execution_count": 94,
   "id": "43494cf1",
   "metadata": {},
   "outputs": [],
   "source": [
    "m=('A','B','C','D','E')\n",
    "n=('red','blue','green','yellow','magenta')"
   ]
  },
  {
   "cell_type": "code",
   "execution_count": 95,
   "id": "84dd3c45",
   "metadata": {},
   "outputs": [
    {
     "name": "stdout",
     "output_type": "stream",
     "text": [
      "(('A', 'red'), ('B', 'blue'), ('C', 'green'), ('D', 'yellow'), ('E', 'magenta'))\n"
     ]
    }
   ],
   "source": [
    "z=zip(m,n)\n",
    "print(tuple(z))"
   ]
  },
  {
   "cell_type": "code",
   "execution_count": 58,
   "id": "ba4de318",
   "metadata": {},
   "outputs": [],
   "source": [
    "#Slicing/subsetting---we use box brackets to subset our objects.[]"
   ]
  },
  {
   "cell_type": "code",
   "execution_count": 96,
   "id": "a431b0ab",
   "metadata": {},
   "outputs": [],
   "source": [
    "t1='programming'"
   ]
  },
  {
   "cell_type": "code",
   "execution_count": 97,
   "id": "183d2960",
   "metadata": {},
   "outputs": [
    {
     "data": {
      "text/plain": [
       "'m'"
      ]
     },
     "execution_count": 97,
     "metadata": {},
     "output_type": "execute_result"
    }
   ],
   "source": [
    "t1[7]"
   ]
  },
  {
   "cell_type": "code",
   "execution_count": 98,
   "id": "5f9c4f01",
   "metadata": {},
   "outputs": [
    {
     "data": {
      "text/plain": [
       "'m'"
      ]
     },
     "execution_count": 98,
     "metadata": {},
     "output_type": "execute_result"
    }
   ],
   "source": [
    "t1[-4]"
   ]
  },
  {
   "cell_type": "code",
   "execution_count": 99,
   "id": "5c9a5a66",
   "metadata": {},
   "outputs": [
    {
     "data": {
      "text/plain": [
       "3"
      ]
     },
     "execution_count": 99,
     "metadata": {},
     "output_type": "execute_result"
    }
   ],
   "source": [
    "t1.index('g')"
   ]
  },
  {
   "cell_type": "code",
   "execution_count": 100,
   "id": "fd9bed86",
   "metadata": {},
   "outputs": [
    {
     "name": "stdout",
     "output_type": "stream",
     "text": [
      "False\n"
     ]
    }
   ],
   "source": [
    "print(t1.startswith('g'))"
   ]
  },
  {
   "cell_type": "markdown",
   "id": "799f885d",
   "metadata": {},
   "source": [
    "### lists:"
   ]
  },
  {
   "cell_type": "markdown",
   "id": "810fd0a2",
   "metadata": {},
   "source": [
    "* lists are ordered collection of elements\n",
    "* lists are mutable--can be changed\n",
    "* Lists can be created with box brackets and also the list() function\n",
    "* Lists are the most powerful data structures as it contains elements of mixed data types."
   ]
  },
  {
   "cell_type": "code",
   "execution_count": 101,
   "id": "5ff65141",
   "metadata": {},
   "outputs": [],
   "source": [
    "#1\n",
    "list1=[56,67.5,'text',True]"
   ]
  },
  {
   "cell_type": "code",
   "execution_count": 102,
   "id": "bf5e0e34",
   "metadata": {},
   "outputs": [
    {
     "data": {
      "text/plain": [
       "[56, 67.5, 'text', True]"
      ]
     },
     "execution_count": 102,
     "metadata": {},
     "output_type": "execute_result"
    }
   ],
   "source": [
    "list1   #maintains the same sequence/order of creation."
   ]
  },
  {
   "cell_type": "code",
   "execution_count": 103,
   "id": "6218d7f1",
   "metadata": {},
   "outputs": [],
   "source": [
    "#2.\n",
    "list1[2]='string'"
   ]
  },
  {
   "cell_type": "code",
   "execution_count": 104,
   "id": "4f1cdcab",
   "metadata": {},
   "outputs": [
    {
     "data": {
      "text/plain": [
       "[56, 67.5, 'string', True]"
      ]
     },
     "execution_count": 104,
     "metadata": {},
     "output_type": "execute_result"
    }
   ],
   "source": [
    "list1"
   ]
  },
  {
   "cell_type": "code",
   "execution_count": 105,
   "id": "b96f19a4",
   "metadata": {},
   "outputs": [],
   "source": [
    "#adding a value to a list:\n",
    "list1.append('extra')"
   ]
  },
  {
   "cell_type": "code",
   "execution_count": 106,
   "id": "662dce9e",
   "metadata": {},
   "outputs": [
    {
     "data": {
      "text/plain": [
       "[56, 67.5, 'string', True, 'extra']"
      ]
     },
     "execution_count": 106,
     "metadata": {},
     "output_type": "execute_result"
    }
   ],
   "source": [
    "list1"
   ]
  },
  {
   "cell_type": "code",
   "execution_count": 107,
   "id": "1a7cd683",
   "metadata": {},
   "outputs": [],
   "source": [
    "#if i want to include a value in a specific position we use the insert function:\n",
    "list1.insert(3,'90')"
   ]
  },
  {
   "cell_type": "code",
   "execution_count": 108,
   "id": "079d9d4e",
   "metadata": {},
   "outputs": [
    {
     "data": {
      "text/plain": [
       "[56, 67.5, 'string', '90', True, 'extra']"
      ]
     },
     "execution_count": 108,
     "metadata": {},
     "output_type": "execute_result"
    }
   ],
   "source": [
    "list1"
   ]
  },
  {
   "cell_type": "code",
   "execution_count": 109,
   "id": "02181c21",
   "metadata": {},
   "outputs": [],
   "source": [
    "#we can remove elements too from a list\n",
    "list1.remove('90')"
   ]
  },
  {
   "cell_type": "code",
   "execution_count": 110,
   "id": "977ddf13",
   "metadata": {},
   "outputs": [
    {
     "data": {
      "text/plain": [
       "[56, 67.5, 'string', True, 'extra']"
      ]
     },
     "execution_count": 110,
     "metadata": {},
     "output_type": "execute_result"
    }
   ],
   "source": [
    "list1"
   ]
  },
  {
   "cell_type": "code",
   "execution_count": 111,
   "id": "867d9723",
   "metadata": {},
   "outputs": [],
   "source": [
    "list2=list([56, 67.5, 'string', True, 'extra'])"
   ]
  },
  {
   "cell_type": "code",
   "execution_count": 112,
   "id": "20ec1156",
   "metadata": {},
   "outputs": [
    {
     "name": "stdout",
     "output_type": "stream",
     "text": [
      "<class 'list'>\n"
     ]
    }
   ],
   "source": [
    "print(type(list2))"
   ]
  },
  {
   "cell_type": "code",
   "execution_count": 113,
   "id": "97f60965",
   "metadata": {},
   "outputs": [],
   "source": [
    "string1='Welcome to the course of data science from simplilearn'"
   ]
  },
  {
   "cell_type": "code",
   "execution_count": 114,
   "id": "5900cf53",
   "metadata": {},
   "outputs": [
    {
     "data": {
      "text/plain": [
       "'simplilearn'"
      ]
     },
     "execution_count": 114,
     "metadata": {},
     "output_type": "execute_result"
    }
   ],
   "source": [
    "string1[-11:]"
   ]
  },
  {
   "cell_type": "code",
   "execution_count": 115,
   "id": "e9ea2519",
   "metadata": {},
   "outputs": [
    {
     "data": {
      "text/plain": [
       "'data science'"
      ]
     },
     "execution_count": 115,
     "metadata": {},
     "output_type": "execute_result"
    }
   ],
   "source": [
    "string1[25:37] #upper limit is ignored "
   ]
  },
  {
   "cell_type": "code",
   "execution_count": 10,
   "id": "34fd360b",
   "metadata": {},
   "outputs": [],
   "source": [
    "# data types-tuples,sets,dictionaries\n",
    "# loop control statements\n",
    "#if else conditional statements\n",
    "#functions"
   ]
  },
  {
   "cell_type": "markdown",
   "id": "4dd38b16",
   "metadata": {},
   "source": [
    "*  A for loop is used for iterating over a sequence of values(list,a dict,set). With the for loop we can execute a set of statements once for each item in the collection.\n",
    "\n",
    "*   for<any variable name> in <collection of values>:\n",
    "    * body of the loop"
   ]
  },
  {
   "cell_type": "code",
   "execution_count": 116,
   "id": "c9b8d33a",
   "metadata": {},
   "outputs": [
    {
     "name": "stdout",
     "output_type": "stream",
     "text": [
      "hello python: 0\n",
      "hello python: 1\n",
      "hello python: 2\n",
      "hello python: 3\n",
      "hello python: 4\n",
      "hello python: 5\n",
      "hello python: 6\n",
      "hello python: 7\n",
      "hello python: 8\n",
      "hello python: 9\n"
     ]
    }
   ],
   "source": [
    "#count controlled loops:\n",
    "for i in range(10):\n",
    "    print('hello python:',i)"
   ]
  },
  {
   "cell_type": "code",
   "execution_count": 117,
   "id": "468eee51",
   "metadata": {},
   "outputs": [
    {
     "name": "stdout",
     "output_type": "stream",
     "text": [
      "kkk is equal to: 10\n",
      "kkk is equal to: 100\n",
      "kkk is equal to: 1000\n"
     ]
    }
   ],
   "source": [
    "#collection of values\n",
    "mylist=[10,100,1000]\n",
    "for kkk in mylist:\n",
    "    print('kkk is equal to:',kkk)"
   ]
  },
  {
   "cell_type": "code",
   "execution_count": 118,
   "id": "d8bfd81d",
   "metadata": {},
   "outputs": [
    {
     "name": "stdout",
     "output_type": "stream",
     "text": [
      "s\n",
      "i\n",
      "m\n",
      "p\n",
      "i\n",
      "l\n",
      "e\n",
      "a\n",
      "r\n",
      "n\n"
     ]
    }
   ],
   "source": [
    "#looping through all elements of a string:\n",
    "for j in 'simpilearn':\n",
    "    print(j)"
   ]
  },
  {
   "cell_type": "code",
   "execution_count": 119,
   "id": "f97729dc",
   "metadata": {},
   "outputs": [
    {
     "name": "stdout",
     "output_type": "stream",
     "text": [
      "History\n",
      "Geography\n",
      "chemistry\n",
      "mathematics\n"
     ]
    }
   ],
   "source": [
    "#controlling the execution of a loop with a 'break' statements:\n",
    "subjects=['History','Geography','chemistry','mathematics','economics']\n",
    "\n",
    "for i in subjects:\n",
    "    print(i)\n",
    "    if i=='mathematics':\n",
    "        break\n",
    "    "
   ]
  },
  {
   "cell_type": "code",
   "execution_count": 121,
   "id": "15e4d429",
   "metadata": {
    "tags": []
   },
   "outputs": [
    {
     "name": "stdout",
     "output_type": "stream",
     "text": [
      "History\n",
      "Geography\n",
      "chemistry\n"
     ]
    }
   ],
   "source": [
    "#controlling the execution of a loop with a 'break' statements:\n",
    "subjects=['History','Geography','chemistry','mathematics','economics']\n",
    "\n",
    "for i in subjects:\n",
    "    \n",
    "    if i=='mathematics':\n",
    "        break\n",
    "    print(i)\n",
    "        \n",
    "        \n",
    "        \n",
    "    "
   ]
  },
  {
   "cell_type": "code",
   "execution_count": 122,
   "id": "9160b2e7",
   "metadata": {},
   "outputs": [
    {
     "name": "stdout",
     "output_type": "stream",
     "text": [
      "current value: y\n",
      "current value: h\n",
      "current value: n\n",
      "current value:  \n",
      "current value: s\n",
      "current value: e\n",
      "current value: s\n",
      "current value: s\n",
      "current value: i\n",
      "current value: n\n"
     ]
    }
   ],
   "source": [
    "#continue statements-skips the current iteration of the loop and continues to the next iteration\n",
    "for j in 'python session':\n",
    "    if j=='o' or j=='t' or j=='p':\n",
    "        continue\n",
    "    print('current value:',j)"
   ]
  },
  {
   "cell_type": "code",
   "execution_count": 123,
   "id": "aa770f05",
   "metadata": {},
   "outputs": [
    {
     "name": "stdout",
     "output_type": "stream",
     "text": [
      "current value: p\n",
      "current value: y\n",
      "current value: t\n",
      "current value: h\n",
      "current value: o\n",
      "current value: n\n",
      "current value:  \n"
     ]
    }
   ],
   "source": [
    "for j in 'python session':\n",
    "    if j=='s':\n",
    "        break\n",
    "    print('current value:',j)"
   ]
  },
  {
   "cell_type": "code",
   "execution_count": 124,
   "id": "68e58d3c",
   "metadata": {},
   "outputs": [
    {
     "name": "stdout",
     "output_type": "stream",
     "text": [
      "n\n"
     ]
    }
   ],
   "source": [
    "## pass statements is used to create empty loops:\n",
    "for i in 'simplilearn':\n",
    "    pass\n",
    "print(i)"
   ]
  },
  {
   "cell_type": "markdown",
   "id": "36e7db03",
   "metadata": {},
   "source": [
    "#### A while loop will execute till a certain condition(mentioned after the while keyword) is true:"
   ]
  },
  {
   "cell_type": "code",
   "execution_count": 125,
   "id": "ffa26609",
   "metadata": {},
   "outputs": [],
   "source": [
    "while False:\n",
    "    print('hello')"
   ]
  },
  {
   "cell_type": "code",
   "execution_count": null,
   "id": "115d3b41-0569-45ac-9ffa-5de58ecf60c4",
   "metadata": {},
   "outputs": [],
   "source": [
    "#while True:\n",
    "print('hello')"
   ]
  },
  {
   "cell_type": "code",
   "execution_count": 1,
   "id": "5301ff83",
   "metadata": {},
   "outputs": [
    {
     "name": "stdout",
     "output_type": "stream",
     "text": [
      "This is a negetive number\n"
     ]
    }
   ],
   "source": [
    "count=-6\n",
    "\n",
    "if count>0:\n",
    "    print('this is a positive value')\n",
    "else:\n",
    "    print('This is a negetive number')"
   ]
  },
  {
   "cell_type": "code",
   "execution_count": 2,
   "id": "d9126801",
   "metadata": {},
   "outputs": [
    {
     "name": "stdin",
     "output_type": "stream",
     "text": [
      "Number: 5\n"
     ]
    }
   ],
   "source": [
    "user=int(input('Number:'))"
   ]
  },
  {
   "cell_type": "code",
   "execution_count": 3,
   "id": "cf96ca86",
   "metadata": {},
   "outputs": [
    {
     "name": "stdout",
     "output_type": "stream",
     "text": [
      "5 : this is a positive value\n"
     ]
    }
   ],
   "source": [
    "if user>0:\n",
    "    print(user,': this is a positive value')\n",
    "else:\n",
    "    print(user,': this is a negetive number')"
   ]
  },
  {
   "cell_type": "code",
   "execution_count": 4,
   "id": "b215910e",
   "metadata": {},
   "outputs": [
    {
     "name": "stdout",
     "output_type": "stream",
     "text": [
      "Mature\n"
     ]
    }
   ],
   "source": [
    "### nested if conditions:\n",
    "\n",
    "age=42\n",
    "if age>=50:\n",
    "    print('Senior')\n",
    "elif age>=30:\n",
    "    print('Mature')\n",
    "elif age>=20:\n",
    "    print('Young')\n",
    "else:\n",
    "    print('Not applicable')"
   ]
  },
  {
   "cell_type": "code",
   "execution_count": 5,
   "id": "6bd3c88c",
   "metadata": {},
   "outputs": [
    {
     "name": "stdout",
     "output_type": "stream",
     "text": [
      "Not applicable\n"
     ]
    }
   ],
   "source": [
    "### nested if conditions:\n",
    "\n",
    "age=15\n",
    "if age>=50:\n",
    "    print('Senior')\n",
    "elif age>=30:\n",
    "    print('Mature')\n",
    "elif age>=20:\n",
    "    print('Young')\n",
    "\n",
    "print('Not applicable')"
   ]
  },
  {
   "cell_type": "code",
   "execution_count": 8,
   "id": "6a26f4a5",
   "metadata": {},
   "outputs": [
    {
     "name": "stdin",
     "output_type": "stream",
     "text": [
      "Enter Age 6\n"
     ]
    }
   ],
   "source": [
    "age = int(input('Enter Age'))"
   ]
  },
  {
   "cell_type": "code",
   "execution_count": 9,
   "id": "f1bf10ba",
   "metadata": {},
   "outputs": [
    {
     "name": "stdout",
     "output_type": "stream",
     "text": [
      "Not applicable\n"
     ]
    }
   ],
   "source": [
    "if age>=50:\n",
    "    print('Senior')\n",
    "elif age>=30:\n",
    "    print('Mature')\n",
    "elif age>=20:\n",
    "    print('Young')\n",
    "else:\n",
    "    print('Not applicable')"
   ]
  },
  {
   "cell_type": "code",
   "execution_count": 4,
   "id": "d58965cd",
   "metadata": {},
   "outputs": [],
   "source": [
    "#vectorised form of if-else statements:\n",
    "#if condition:code"
   ]
  },
  {
   "cell_type": "code",
   "execution_count": 10,
   "id": "89306c67",
   "metadata": {},
   "outputs": [],
   "source": [
    "count1=67"
   ]
  },
  {
   "cell_type": "code",
   "execution_count": 11,
   "id": "dd345367",
   "metadata": {},
   "outputs": [],
   "source": [
    "if count1<20:print('The value is less than twenty')"
   ]
  },
  {
   "cell_type": "code",
   "execution_count": 10,
   "id": "df2e35a7",
   "metadata": {},
   "outputs": [],
   "source": [
    "#code:if:condition:else"
   ]
  },
  {
   "cell_type": "code",
   "execution_count": 12,
   "id": "9148c32b",
   "metadata": {},
   "outputs": [
    {
     "name": "stdout",
     "output_type": "stream",
     "text": [
      "age is greater than 20\n"
     ]
    }
   ],
   "source": [
    "'age is less than twenty'if count1<20 else print('age is greater than 20')"
   ]
  },
  {
   "cell_type": "code",
   "execution_count": 13,
   "id": "fcd9fe6f",
   "metadata": {},
   "outputs": [],
   "source": [
    "number=89"
   ]
  },
  {
   "cell_type": "code",
   "execution_count": 14,
   "id": "9eb875f6",
   "metadata": {},
   "outputs": [
    {
     "name": "stdout",
     "output_type": "stream",
     "text": [
      "The number is odd\n"
     ]
    }
   ],
   "source": [
    "'Number is even' if number%2==0 else print('The number is odd')"
   ]
  },
  {
   "cell_type": "code",
   "execution_count": 15,
   "id": "060ad61c",
   "metadata": {},
   "outputs": [
    {
     "name": "stdin",
     "output_type": "stream",
     "text": [
      "Number: 15\n"
     ]
    }
   ],
   "source": [
    "user=int(input('Number:'))"
   ]
  },
  {
   "cell_type": "code",
   "execution_count": 16,
   "id": "d101bde1",
   "metadata": {},
   "outputs": [
    {
     "name": "stdout",
     "output_type": "stream",
     "text": [
      "15 :this is a positive value\n"
     ]
    }
   ],
   "source": [
    "if user>0:\n",
    "    print(user,':this is a positive value')\n",
    "else:\n",
    "    print(user,':this is negtaive value')"
   ]
  },
  {
   "cell_type": "markdown",
   "id": "410bea62",
   "metadata": {},
   "source": [
    "#### Tuples:"
   ]
  },
  {
   "cell_type": "markdown",
   "id": "65457c16",
   "metadata": {},
   "source": [
    "* Collection of elements in an object separated by commas.\n",
    "* We create a tuple using round brackets or by using the 'tuple' function\n",
    "* contains elements of mixed data types\n",
    "* Tuples are immutable(elements of a tuple cannot be changed)"
   ]
  },
  {
   "cell_type": "code",
   "execution_count": 2,
   "id": "dfa6c0e6",
   "metadata": {},
   "outputs": [],
   "source": [
    "tup1=('string',45,56.5,True,5+7j)"
   ]
  },
  {
   "cell_type": "code",
   "execution_count": 3,
   "id": "b202b1e7",
   "metadata": {},
   "outputs": [
    {
     "name": "stdout",
     "output_type": "stream",
     "text": [
      "<class 'tuple'>\n"
     ]
    }
   ],
   "source": [
    "print(type(tup1))"
   ]
  },
  {
   "cell_type": "code",
   "execution_count": 6,
   "id": "3e9efad3",
   "metadata": {},
   "outputs": [
    {
     "name": "stdout",
     "output_type": "stream",
     "text": [
      "<class 'tuple'>\n"
     ]
    }
   ],
   "source": [
    "tup2=tuple((8,9,'tuple'))\n",
    "print(type(tup2))"
   ]
  },
  {
   "cell_type": "code",
   "execution_count": 7,
   "id": "5b06f722",
   "metadata": {},
   "outputs": [
    {
     "data": {
      "text/plain": [
       "56.5"
      ]
     },
     "execution_count": 7,
     "metadata": {},
     "output_type": "execute_result"
    }
   ],
   "source": [
    "tup1[2]"
   ]
  },
  {
   "cell_type": "code",
   "execution_count": 8,
   "id": "d5c3cf31",
   "metadata": {},
   "outputs": [
    {
     "ename": "TypeError",
     "evalue": "'tuple' object does not support item assignment",
     "output_type": "error",
     "traceback": [
      "\u001b[1;31m---------------------------------------------------------------------------\u001b[0m",
      "\u001b[1;31mTypeError\u001b[0m                                 Traceback (most recent call last)",
      "Cell \u001b[1;32mIn[8], line 1\u001b[0m\n\u001b[1;32m----> 1\u001b[0m tup1[\u001b[38;5;241m2\u001b[39m]\u001b[38;5;241m=\u001b[39m\u001b[38;5;241m65.5\u001b[39m\n",
      "\u001b[1;31mTypeError\u001b[0m: 'tuple' object does not support item assignment"
     ]
    }
   ],
   "source": [
    "tup1[2]=65.5"
   ]
  },
  {
   "cell_type": "code",
   "execution_count": 9,
   "id": "691daa0d",
   "metadata": {},
   "outputs": [
    {
     "data": {
      "text/plain": [
       "('string', 45, 56.5, True, (5+7j), 8, 9, 'tuple')"
      ]
     },
     "execution_count": 9,
     "metadata": {},
     "output_type": "execute_result"
    }
   ],
   "source": [
    "tup= tup1+tup2\n",
    "tup"
   ]
  },
  {
   "cell_type": "markdown",
   "id": "7ff06a42",
   "metadata": {},
   "source": [
    "#### Sets are unordered collection of elements that is mutable  and has no duplicate values."
   ]
  },
  {
   "cell_type": "code",
   "execution_count": 10,
   "id": "e67df6ef",
   "metadata": {},
   "outputs": [],
   "source": [
    "set1={'String',78,93.2,3+5j}"
   ]
  },
  {
   "cell_type": "code",
   "execution_count": 12,
   "id": "3a46bd63",
   "metadata": {},
   "outputs": [
    {
     "name": "stdout",
     "output_type": "stream",
     "text": [
      "{0, 35.2, 99, 'text', (5+2j), None}\n",
      "<class 'set'>\n"
     ]
    }
   ],
   "source": [
    "#sets can be created with a set function:\n",
    "list1=['text',99,35.2,5+2j,None,0,False]\n",
    "#converting this list to a set(typecasting)\n",
    "set2=set(list1)\n",
    "print(set2)\n",
    "print(type(set2))"
   ]
  },
  {
   "cell_type": "code",
   "execution_count": 14,
   "id": "b7778835",
   "metadata": {},
   "outputs": [
    {
     "data": {
      "text/plain": [
       "['text', 99, 35.2, (5+2j), None, 0, False]"
      ]
     },
     "execution_count": 14,
     "metadata": {},
     "output_type": "execute_result"
    }
   ],
   "source": [
    "list1 #lists allow duplicates,but a set does not."
   ]
  },
  {
   "cell_type": "code",
   "execution_count": 15,
   "id": "9ee8ef1f",
   "metadata": {},
   "outputs": [
    {
     "data": {
      "text/plain": [
       "{77, 88, 99}"
      ]
     },
     "execution_count": 15,
     "metadata": {},
     "output_type": "execute_result"
    }
   ],
   "source": [
    "# sets are mutable: elements can be added or removed in a set\n",
    "set3={77,88,99}\n",
    "set3"
   ]
  },
  {
   "cell_type": "code",
   "execution_count": 16,
   "id": "a09ad50c",
   "metadata": {},
   "outputs": [
    {
     "name": "stdout",
     "output_type": "stream",
     "text": [
      "{88, 99, 77, 15}\n"
     ]
    }
   ],
   "source": [
    "set3.add(15)\n",
    "print(set3)"
   ]
  },
  {
   "cell_type": "code",
   "execution_count": 17,
   "id": "7146b101",
   "metadata": {},
   "outputs": [],
   "source": [
    "#to add multiple elements:\n",
    "set3.update([10,11,13])"
   ]
  },
  {
   "cell_type": "code",
   "execution_count": 18,
   "id": "76129078",
   "metadata": {},
   "outputs": [
    {
     "data": {
      "text/plain": [
       "{10, 11, 13, 15, 77, 88, 99}"
      ]
     },
     "execution_count": 18,
     "metadata": {},
     "output_type": "execute_result"
    }
   ],
   "source": [
    "set3"
   ]
  },
  {
   "cell_type": "code",
   "execution_count": 19,
   "id": "ebdffd20",
   "metadata": {},
   "outputs": [],
   "source": [
    "#removing elemts from a set\n",
    "set3.discard(88)"
   ]
  },
  {
   "cell_type": "code",
   "execution_count": 20,
   "id": "957f566b",
   "metadata": {},
   "outputs": [
    {
     "data": {
      "text/plain": [
       "{10, 11, 13, 15, 77, 99}"
      ]
     },
     "execution_count": 20,
     "metadata": {},
     "output_type": "execute_result"
    }
   ],
   "source": [
    "set3"
   ]
  },
  {
   "cell_type": "code",
   "execution_count": 21,
   "id": "1252043b",
   "metadata": {},
   "outputs": [],
   "source": [
    "set4={10,12,13,14,15}"
   ]
  },
  {
   "cell_type": "code",
   "execution_count": 22,
   "id": "65ff301f",
   "metadata": {},
   "outputs": [
    {
     "data": {
      "text/plain": [
       "{10, 11, 12, 13, 14, 15, 77, 99}"
      ]
     },
     "execution_count": 22,
     "metadata": {},
     "output_type": "execute_result"
    }
   ],
   "source": [
    "#union of both sets:\n",
    "set_union=set3.union(set4)\n",
    "set_union"
   ]
  },
  {
   "cell_type": "code",
   "execution_count": 23,
   "id": "c0dcab82",
   "metadata": {},
   "outputs": [
    {
     "data": {
      "text/plain": [
       "{11, 77, 99}"
      ]
     },
     "execution_count": 23,
     "metadata": {},
     "output_type": "execute_result"
    }
   ],
   "source": [
    "#difference between two sets:\n",
    "set_diff=set3.difference(set4)\n",
    "set_diff"
   ]
  },
  {
   "cell_type": "markdown",
   "id": "be2cda23",
   "metadata": {},
   "source": [
    "##### Dictionaries:"
   ]
  },
  {
   "cell_type": "markdown",
   "id": "2161d0e7",
   "metadata": {},
   "source": [
    "#### Dictionaries are key-value pairs,where the key is immutable while value is mutable."
   ]
  },
  {
   "cell_type": "code",
   "execution_count": 24,
   "id": "f4b41825",
   "metadata": {},
   "outputs": [
    {
     "data": {
      "text/plain": [
       "{'name': 'john', 'marks': 89}"
      ]
     },
     "execution_count": 24,
     "metadata": {},
     "output_type": "execute_result"
    }
   ],
   "source": [
    "dict1={'name':'john','marks':89}\n",
    "dict1"
   ]
  },
  {
   "cell_type": "code",
   "execution_count": 25,
   "id": "4c6f81b5",
   "metadata": {},
   "outputs": [
    {
     "name": "stdout",
     "output_type": "stream",
     "text": [
      "<class 'dict'>\n"
     ]
    }
   ],
   "source": [
    "print(type(dict1))"
   ]
  },
  {
   "cell_type": "code",
   "execution_count": 26,
   "id": "6775ed0f",
   "metadata": {},
   "outputs": [
    {
     "data": {
      "text/plain": [
       "dict_keys(['name', 'marks'])"
      ]
     },
     "execution_count": 26,
     "metadata": {},
     "output_type": "execute_result"
    }
   ],
   "source": [
    "dict1.keys()"
   ]
  },
  {
   "cell_type": "code",
   "execution_count": 27,
   "id": "782d9f3b",
   "metadata": {},
   "outputs": [
    {
     "data": {
      "text/plain": [
       "dict_values(['john', 89])"
      ]
     },
     "execution_count": 27,
     "metadata": {},
     "output_type": "execute_result"
    }
   ],
   "source": [
    "dict1.values()"
   ]
  },
  {
   "cell_type": "code",
   "execution_count": 28,
   "id": "9f46a824",
   "metadata": {},
   "outputs": [],
   "source": [
    "dict2=dict({'Name':'Python',2:'second',3:'third','summer':'mangoes'})"
   ]
  },
  {
   "cell_type": "code",
   "execution_count": 29,
   "id": "baee8a5c",
   "metadata": {},
   "outputs": [
    {
     "data": {
      "text/plain": [
       "{'Name': 'Python', 2: 'second', 3: 'third', 'summer': 'mangoes'}"
      ]
     },
     "execution_count": 29,
     "metadata": {},
     "output_type": "execute_result"
    }
   ],
   "source": [
    "dict2"
   ]
  },
  {
   "cell_type": "code",
   "execution_count": 30,
   "id": "47c60035",
   "metadata": {},
   "outputs": [
    {
     "data": {
      "text/plain": [
       "dict_keys(['Name', 2, 3, 'summer'])"
      ]
     },
     "execution_count": 30,
     "metadata": {},
     "output_type": "execute_result"
    }
   ],
   "source": [
    "dict2.keys()"
   ]
  },
  {
   "cell_type": "code",
   "execution_count": 31,
   "id": "abe26c10",
   "metadata": {},
   "outputs": [],
   "source": [
    "#keys are immutable:\n",
    "dict2['Name']='language'"
   ]
  },
  {
   "cell_type": "code",
   "execution_count": 32,
   "id": "7dc04ecb",
   "metadata": {},
   "outputs": [
    {
     "data": {
      "text/plain": [
       "{'Name': 'language', 2: 'second', 3: 'third', 'summer': 'mangoes'}"
      ]
     },
     "execution_count": 32,
     "metadata": {},
     "output_type": "execute_result"
    }
   ],
   "source": [
    "dict2"
   ]
  },
  {
   "cell_type": "code",
   "execution_count": 33,
   "id": "1757627a",
   "metadata": {},
   "outputs": [
    {
     "data": {
      "text/plain": [
       "'second'"
      ]
     },
     "execution_count": 33,
     "metadata": {},
     "output_type": "execute_result"
    }
   ],
   "source": [
    "#slicing a dict\n",
    "dict2.get(2)"
   ]
  },
  {
   "cell_type": "code",
   "execution_count": 38,
   "id": "2a86b275",
   "metadata": {},
   "outputs": [],
   "source": [
    "dict2.get(1)  #slicing a dict is possible only with respect to keys"
   ]
  },
  {
   "cell_type": "code",
   "execution_count": 39,
   "id": "10038ee2",
   "metadata": {},
   "outputs": [],
   "source": [
    "#delecting records from a dict\n",
    "del dict2['summer']"
   ]
  },
  {
   "cell_type": "code",
   "execution_count": 40,
   "id": "bdf43fef",
   "metadata": {},
   "outputs": [
    {
     "data": {
      "text/plain": [
       "{'Name': 'language', 2: 'second', 3: 'third'}"
      ]
     },
     "execution_count": 40,
     "metadata": {},
     "output_type": "execute_result"
    }
   ],
   "source": [
    "dict2"
   ]
  },
  {
   "cell_type": "code",
   "execution_count": 41,
   "id": "68f842b9",
   "metadata": {},
   "outputs": [
    {
     "ename": "KeyError",
     "evalue": "'language'",
     "output_type": "error",
     "traceback": [
      "\u001b[1;31m---------------------------------------------------------------------------\u001b[0m",
      "\u001b[1;31mKeyError\u001b[0m                                  Traceback (most recent call last)",
      "Cell \u001b[1;32mIn[41], line 1\u001b[0m\n\u001b[1;32m----> 1\u001b[0m \u001b[38;5;28;01mdel\u001b[39;00m dict2[\u001b[38;5;124m'\u001b[39m\u001b[38;5;124mlanguage\u001b[39m\u001b[38;5;124m'\u001b[39m]\n",
      "\u001b[1;31mKeyError\u001b[0m: 'language'"
     ]
    }
   ],
   "source": [
    "del dict2['language']"
   ]
  },
  {
   "cell_type": "code",
   "execution_count": 42,
   "id": "c9d1a42c",
   "metadata": {},
   "outputs": [],
   "source": [
    "a=[8,10,15,12]\n",
    "b=[2,3,2,3]"
   ]
  },
  {
   "cell_type": "code",
   "execution_count": 43,
   "id": "9df426ce",
   "metadata": {},
   "outputs": [
    {
     "name": "stdout",
     "output_type": "stream",
     "text": [
      "<class 'list'>\n",
      "<class 'list'>\n"
     ]
    }
   ],
   "source": [
    "print(type(a))\n",
    "print(type(b))"
   ]
  },
  {
   "cell_type": "code",
   "execution_count": 44,
   "id": "81085b9a",
   "metadata": {},
   "outputs": [
    {
     "ename": "TypeError",
     "evalue": "unsupported operand type(s) for -: 'list' and 'list'",
     "output_type": "error",
     "traceback": [
      "\u001b[1;31m---------------------------------------------------------------------------\u001b[0m",
      "\u001b[1;31mTypeError\u001b[0m                                 Traceback (most recent call last)",
      "Cell \u001b[1;32mIn[44], line 1\u001b[0m\n\u001b[1;32m----> 1\u001b[0m c\u001b[38;5;241m=\u001b[39ma\u001b[38;5;241m-\u001b[39mb\n",
      "\u001b[1;31mTypeError\u001b[0m: unsupported operand type(s) for -: 'list' and 'list'"
     ]
    }
   ],
   "source": [
    "c=a-b"
   ]
  },
  {
   "cell_type": "code",
   "execution_count": 45,
   "id": "26c97191",
   "metadata": {},
   "outputs": [],
   "source": [
    "t1=(8,10,15,12)\n",
    "t2=(2,3,2,3)"
   ]
  },
  {
   "cell_type": "code",
   "execution_count": 46,
   "id": "5dd5da10",
   "metadata": {},
   "outputs": [
    {
     "ename": "TypeError",
     "evalue": "unsupported operand type(s) for -: 'tuple' and 'tuple'",
     "output_type": "error",
     "traceback": [
      "\u001b[1;31m---------------------------------------------------------------------------\u001b[0m",
      "\u001b[1;31mTypeError\u001b[0m                                 Traceback (most recent call last)",
      "Cell \u001b[1;32mIn[46], line 1\u001b[0m\n\u001b[1;32m----> 1\u001b[0m c\u001b[38;5;241m=\u001b[39mt1\u001b[38;5;241m-\u001b[39mt2\n",
      "\u001b[1;31mTypeError\u001b[0m: unsupported operand type(s) for -: 'tuple' and 'tuple'"
     ]
    }
   ],
   "source": [
    "c=t1-t2"
   ]
  },
  {
   "cell_type": "code",
   "execution_count": 47,
   "id": "afaf7feb",
   "metadata": {},
   "outputs": [],
   "source": [
    "c=t1+t2"
   ]
  },
  {
   "cell_type": "code",
   "execution_count": 48,
   "id": "522fcce5",
   "metadata": {},
   "outputs": [
    {
     "data": {
      "text/plain": [
       "(8, 10, 15, 12, 2, 3, 2, 3)"
      ]
     },
     "execution_count": 48,
     "metadata": {},
     "output_type": "execute_result"
    }
   ],
   "source": [
    "c"
   ]
  },
  {
   "cell_type": "markdown",
   "id": "600ac1d3",
   "metadata": {},
   "source": [
    "#### Mathematical operations like addition,substraction,multiplication or division cannot be applied on the internal data structures like lists,sets,tuples or dictionaries."
   ]
  },
  {
   "cell_type": "markdown",
   "id": "38b81b97",
   "metadata": {},
   "source": [
    "* To apply mathematical operations on data we have to store it in an array.\n",
    "* arrays are created using an array function\n",
    "* the array function can be fetched from the 'Numpy' package,Numpy stands for 'Numerical Python'"
   ]
  },
  {
   "cell_type": "code",
   "execution_count": 49,
   "id": "060ea1db",
   "metadata": {},
   "outputs": [],
   "source": [
    "t1=(8,10,15,12)\n",
    "t2=(2,3,2,3)"
   ]
  },
  {
   "cell_type": "code",
   "execution_count": 50,
   "id": "a672351f",
   "metadata": {},
   "outputs": [],
   "source": [
    "import numpy as np"
   ]
  },
  {
   "cell_type": "code",
   "execution_count": 51,
   "id": "b5317e9b",
   "metadata": {},
   "outputs": [],
   "source": [
    "t1_array=np.array(t1)\n",
    "t2_array=np.array(t2)"
   ]
  },
  {
   "cell_type": "code",
   "execution_count": 52,
   "id": "b7058e82",
   "metadata": {},
   "outputs": [
    {
     "name": "stdout",
     "output_type": "stream",
     "text": [
      "<class 'numpy.ndarray'>\n",
      "<class 'numpy.ndarray'>\n"
     ]
    }
   ],
   "source": [
    "print(type(t1_array))\n",
    "print(type(t2_array))"
   ]
  },
  {
   "cell_type": "code",
   "execution_count": 53,
   "id": "b9b8fb87",
   "metadata": {},
   "outputs": [
    {
     "data": {
      "text/plain": [
       "array([ 6,  7, 13,  9])"
      ]
     },
     "execution_count": 53,
     "metadata": {},
     "output_type": "execute_result"
    }
   ],
   "source": [
    "t1_array-t2_array"
   ]
  },
  {
   "cell_type": "code",
   "execution_count": 54,
   "id": "513a9656",
   "metadata": {},
   "outputs": [
    {
     "data": {
      "text/plain": [
       "array([210, 240, 330])"
      ]
     },
     "execution_count": 54,
     "metadata": {},
     "output_type": "execute_result"
    }
   ],
   "source": [
    "unit=[10,12,15]\n",
    "price=[21,20,22]\n",
    "Units=np.array(unit)\n",
    "Price=np.array(price)\n",
    "Total_Revenue = Units*Price\n",
    "Total_Revenue"
   ]
  },
  {
   "cell_type": "code",
   "execution_count": null,
   "id": "213d904b",
   "metadata": {},
   "outputs": [],
   "source": []
  }
 ],
 "metadata": {
  "kernelspec": {
   "display_name": "Python 3 (ipykernel)",
   "language": "python",
   "name": "python3"
  },
  "language_info": {
   "codemirror_mode": {
    "name": "ipython",
    "version": 3
   },
   "file_extension": ".py",
   "mimetype": "text/x-python",
   "name": "python",
   "nbconvert_exporter": "python",
   "pygments_lexer": "ipython3",
   "version": "3.11.5"
  }
 },
 "nbformat": 4,
 "nbformat_minor": 5
}
